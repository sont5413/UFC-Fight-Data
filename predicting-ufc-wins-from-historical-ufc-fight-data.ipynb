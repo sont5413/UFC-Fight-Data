{
 "cells": [
  {
   "cell_type": "markdown",
   "id": "571db6e9",
   "metadata": {
    "papermill": {
     "duration": 0.030093,
     "end_time": "2022-07-23T16:26:53.691195",
     "exception": false,
     "start_time": "2022-07-23T16:26:53.661102",
     "status": "completed"
    },
    "tags": []
   },
   "source": [
    "## I. Import Libraries"
   ]
  },
  {
   "cell_type": "code",
   "execution_count": 1,
   "id": "1bb36a68",
   "metadata": {
    "_cell_guid": "b1076dfc-b9ad-4769-8c92-a6c4dae69d19",
    "_uuid": "8f2839f25d086af736a60e9eeb907d3b93b6e0e5",
    "execution": {
     "iopub.execute_input": "2022-07-23T16:26:53.759601Z",
     "iopub.status.busy": "2022-07-23T16:26:53.758918Z",
     "iopub.status.idle": "2022-07-23T16:26:55.047692Z",
     "shell.execute_reply": "2022-07-23T16:26:55.046567Z",
     "shell.execute_reply.started": "2022-07-23T16:25:44.441490Z"
    },
    "papermill": {
     "duration": 1.327812,
     "end_time": "2022-07-23T16:26:55.047879",
     "exception": false,
     "start_time": "2022-07-23T16:26:53.720067",
     "status": "completed"
    },
    "tags": []
   },
   "outputs": [
    {
     "name": "stdout",
     "output_type": "stream",
     "text": [
      "/kaggle/input/ufcdataset/data.csv\n"
     ]
    }
   ],
   "source": [
    "from sklearn.metrics import mean_absolute_error\n",
    "from sklearn.ensemble import RandomForestClassifier\n",
    "from sklearn.ensemble import GradientBoostingClassifier\n",
    "import matplotlib.pyplot as plt\n",
    "import numpy as np\n",
    "import pandas as pd\n",
    "import re\n",
    "from sklearn.model_selection import train_test_split\n",
    "import matplotlib.pyplot as plt\n",
    "import os\n",
    "for dirname, _, filenames in os.walk('/kaggle/input'):\n",
    "    for filename in filenames:\n",
    "        print(os.path.join(dirname, filename))"
   ]
  },
  {
   "cell_type": "code",
   "execution_count": 2,
   "id": "01e5b249",
   "metadata": {
    "execution": {
     "iopub.execute_input": "2022-07-23T16:26:55.111897Z",
     "iopub.status.busy": "2022-07-23T16:26:55.110900Z",
     "iopub.status.idle": "2022-07-23T16:26:55.439757Z",
     "shell.execute_reply": "2022-07-23T16:26:55.438372Z",
     "shell.execute_reply.started": "2022-07-23T16:25:46.093305Z"
    },
    "papermill": {
     "duration": 0.360929,
     "end_time": "2022-07-23T16:26:55.439933",
     "exception": false,
     "start_time": "2022-07-23T16:26:55.079004",
     "status": "completed"
    },
    "tags": []
   },
   "outputs": [],
   "source": [
    "# Import data\n",
    "\n",
    "data = pd.read_csv('/kaggle/input/ufcdataset/data.csv')"
   ]
  },
  {
   "cell_type": "code",
   "execution_count": 3,
   "id": "de883e0d",
   "metadata": {
    "execution": {
     "iopub.execute_input": "2022-07-23T16:26:55.502107Z",
     "iopub.status.busy": "2022-07-23T16:26:55.501131Z",
     "iopub.status.idle": "2022-07-23T16:26:55.534151Z",
     "shell.execute_reply": "2022-07-23T16:26:55.534647Z",
     "shell.execute_reply.started": "2022-07-23T16:25:46.480281Z"
    },
    "papermill": {
     "duration": 0.065643,
     "end_time": "2022-07-23T16:26:55.534825",
     "exception": false,
     "start_time": "2022-07-23T16:26:55.469182",
     "status": "completed"
    },
    "tags": []
   },
   "outputs": [
    {
     "name": "stdout",
     "output_type": "stream",
     "text": [
      "(2318, 894)\n"
     ]
    },
    {
     "data": {
      "text/plain": [
       "<bound method NDFrame.describe of       BPrev  BStreak  B_Age  B_Height                             B_HomeTown  \\\n",
       "0         0        0   38.0     193.0                       Hounslow England   \n",
       "1         0        0   36.0     172.0        Chicago, Illinois United States   \n",
       "2         0        0   39.0     167.0            Isla Vista , California USA   \n",
       "3         0        0   33.0     167.0                      San Diego, CA USA   \n",
       "4         0        0   36.0     185.0                    Southampton England   \n",
       "...     ...      ...    ...       ...                                    ...   \n",
       "2313      7        0   34.0     172.0           El Paso, Texas United States   \n",
       "2314      9        1   31.0     177.0     Milwaukee, Wisconsin United States   \n",
       "2315      5        3   35.0     180.0                        Amazonas Brazil   \n",
       "2316      1        0   37.0     170.0  Moses Lake, Washington United States    \n",
       "2317      0        0   23.0     190.0  Los Angeles, California United States   \n",
       "\n",
       "      B_ID                            B_Location            B_Name  B_Weight  \\\n",
       "0      808             Amsterdam The Netherlands  Alistair Overeem     120.0   \n",
       "1     1054       Chicago, Illinois United States     Ricardo Lamas      65.0   \n",
       "2      959            Sacramento, California USA      Urijah Faber      61.0   \n",
       "3     1056                     San Diego, CA USA    Danny Martinez      56.0   \n",
       "4     2005                   Southampton England        Tom Watson      84.0   \n",
       "...    ...                                   ...               ...       ...   \n",
       "2313  1137  Coconut Creek, Florida United States         Nik Lentz      70.0   \n",
       "2314  1069    Milwaukee, Wisconsin United States    Anthony Pettis      70.0   \n",
       "2315  2101                 Rio de Janeiro Brazil      Alan Patrick      70.0   \n",
       "2316  1200          Houston, Texas United States     Tonya Evinger      61.0   \n",
       "2317  3072     Fontana, California United States      Jalin Turner      70.0   \n",
       "\n",
       "      B__Round1_Grappling_Reversals_Landed  ...  R__Round5_TIP_Ground Time  \\\n",
       "0                                      NaN  ...                        NaN   \n",
       "1                                      NaN  ...                        NaN   \n",
       "2                                      NaN  ...                        NaN   \n",
       "3                                      NaN  ...                        NaN   \n",
       "4                                      NaN  ...                        NaN   \n",
       "...                                    ...  ...                        ...   \n",
       "2313                                   0.0  ...                        NaN   \n",
       "2314                                   3.0  ...                        0.0   \n",
       "2315                                   0.0  ...                        NaN   \n",
       "2316                                   0.0  ...                        NaN   \n",
       "2317                                   NaN  ...                        NaN   \n",
       "\n",
       "      R__Round5_TIP_Guard Control Time  R__Round5_TIP_Half Guard Control Time  \\\n",
       "0                                  NaN                                    NaN   \n",
       "1                                  NaN                                    NaN   \n",
       "2                                  NaN                                    NaN   \n",
       "3                                  NaN                                    NaN   \n",
       "4                                  NaN                                    NaN   \n",
       "...                                ...                                    ...   \n",
       "2313                               NaN                                    NaN   \n",
       "2314                               0.0                                    0.0   \n",
       "2315                               NaN                                    NaN   \n",
       "2316                               NaN                                    NaN   \n",
       "2317                               NaN                                    NaN   \n",
       "\n",
       "      R__Round5_TIP_Misc. Ground Control Time  \\\n",
       "0                                         NaN   \n",
       "1                                         NaN   \n",
       "2                                         NaN   \n",
       "3                                         NaN   \n",
       "4                                         NaN   \n",
       "...                                       ...   \n",
       "2313                                      NaN   \n",
       "2314                                      0.0   \n",
       "2315                                      NaN   \n",
       "2316                                      NaN   \n",
       "2317                                      NaN   \n",
       "\n",
       "      R__Round5_TIP_Mount Control Time  R__Round5_TIP_Neutral Time  \\\n",
       "0                                  NaN                         NaN   \n",
       "1                                  NaN                         NaN   \n",
       "2                                  NaN                         NaN   \n",
       "3                                  NaN                         NaN   \n",
       "4                                  NaN                         NaN   \n",
       "...                                ...                         ...   \n",
       "2313                               NaN                         NaN   \n",
       "2314                               0.0                       298.0   \n",
       "2315                               NaN                         NaN   \n",
       "2316                               NaN                         NaN   \n",
       "2317                               NaN                         NaN   \n",
       "\n",
       "      R__Round5_TIP_Side Control Time  R__Round5_TIP_Standing Time   winby  \\\n",
       "0                                 NaN                          NaN     DEC   \n",
       "1                                 NaN                          NaN     DEC   \n",
       "2                                 NaN                          NaN  KO/TKO   \n",
       "3                                 NaN                          NaN     DEC   \n",
       "4                                 NaN                          NaN     DEC   \n",
       "...                               ...                          ...     ...   \n",
       "2313                              NaN                          NaN  KO/TKO   \n",
       "2314                              0.0                        298.0  KO/TKO   \n",
       "2315                              NaN                          NaN  KO/TKO   \n",
       "2316                              NaN                          NaN  KO/TKO   \n",
       "2317                              NaN                          NaN  KO/TKO   \n",
       "\n",
       "      winner  \n",
       "0       blue  \n",
       "1        red  \n",
       "2        red  \n",
       "3        red  \n",
       "4        red  \n",
       "...      ...  \n",
       "2313    blue  \n",
       "2314     red  \n",
       "2315     red  \n",
       "2316     red  \n",
       "2317     red  \n",
       "\n",
       "[2318 rows x 894 columns]>"
      ]
     },
     "execution_count": 3,
     "metadata": {},
     "output_type": "execute_result"
    }
   ],
   "source": [
    "print(data.shape)\n",
    "data.describe"
   ]
  },
  {
   "cell_type": "markdown",
   "id": "38d36d3f",
   "metadata": {
    "papermill": {
     "duration": 0.032045,
     "end_time": "2022-07-23T16:26:55.596623",
     "exception": false,
     "start_time": "2022-07-23T16:26:55.564578",
     "status": "completed"
    },
    "tags": []
   },
   "source": [
    "## 2. Data Cleaning"
   ]
  },
  {
   "cell_type": "code",
   "execution_count": 4,
   "id": "7df509b9",
   "metadata": {
    "execution": {
     "iopub.execute_input": "2022-07-23T16:26:55.662411Z",
     "iopub.status.busy": "2022-07-23T16:26:55.661713Z",
     "iopub.status.idle": "2022-07-23T16:26:55.677385Z",
     "shell.execute_reply": "2022-07-23T16:26:55.678008Z",
     "shell.execute_reply.started": "2022-07-23T16:25:46.520711Z"
    },
    "papermill": {
     "duration": 0.052043,
     "end_time": "2022-07-23T16:26:55.678201",
     "exception": false,
     "start_time": "2022-07-23T16:26:55.626158",
     "status": "completed"
    },
    "tags": []
   },
   "outputs": [
    {
     "data": {
      "text/plain": [
       "BPrev                                 0\n",
       "BStreak                               0\n",
       "B_Age                                17\n",
       "B_Height                             17\n",
       "B_HomeTown                           17\n",
       "                                   ... \n",
       "R__Round5_TIP_Neutral Time         2048\n",
       "R__Round5_TIP_Side Control Time    2048\n",
       "R__Round5_TIP_Standing Time        2048\n",
       "winby                                36\n",
       "winner                                0\n",
       "Length: 894, dtype: int64"
      ]
     },
     "execution_count": 4,
     "metadata": {},
     "output_type": "execute_result"
    }
   ],
   "source": [
    "data.isnull().sum(axis=0)"
   ]
  },
  {
   "cell_type": "code",
   "execution_count": 5,
   "id": "15396d35",
   "metadata": {
    "execution": {
     "iopub.execute_input": "2022-07-23T16:26:55.742822Z",
     "iopub.status.busy": "2022-07-23T16:26:55.742085Z",
     "iopub.status.idle": "2022-07-23T16:26:55.931493Z",
     "shell.execute_reply": "2022-07-23T16:26:55.930824Z",
     "shell.execute_reply.started": "2022-07-23T16:25:46.544284Z"
    },
    "papermill": {
     "duration": 0.222908,
     "end_time": "2022-07-23T16:26:55.931652",
     "exception": false,
     "start_time": "2022-07-23T16:26:55.708744",
     "status": "completed"
    },
    "tags": []
   },
   "outputs": [
    {
     "data": {
      "text/plain": [
       "617"
      ]
     },
     "execution_count": 5,
     "metadata": {},
     "output_type": "execute_result"
    }
   ],
   "source": [
    "# Removing columns with >30 % null values.\n",
    "\n",
    "nulls = []\n",
    "for i in data.columns:\n",
    "    counts = data[i].isnull().sum()\n",
    "    if (counts / len(data)) * 100 > 30:\n",
    "        nulls.append(i)\n",
    "\n",
    "len(nulls)"
   ]
  },
  {
   "cell_type": "code",
   "execution_count": 6,
   "id": "591f57e8",
   "metadata": {
    "execution": {
     "iopub.execute_input": "2022-07-23T16:26:55.996608Z",
     "iopub.status.busy": "2022-07-23T16:26:55.995900Z",
     "iopub.status.idle": "2022-07-23T16:26:56.005561Z",
     "shell.execute_reply": "2022-07-23T16:26:56.006101Z",
     "shell.execute_reply.started": "2022-07-23T16:25:46.746957Z"
    },
    "papermill": {
     "duration": 0.043959,
     "end_time": "2022-07-23T16:26:56.006279",
     "exception": false,
     "start_time": "2022-07-23T16:26:55.962320",
     "status": "completed"
    },
    "tags": []
   },
   "outputs": [],
   "source": [
    "dropdata = data.drop(nulls,axis=1)"
   ]
  },
  {
   "cell_type": "code",
   "execution_count": 7,
   "id": "9643d3ec",
   "metadata": {
    "execution": {
     "iopub.execute_input": "2022-07-23T16:26:56.072154Z",
     "iopub.status.busy": "2022-07-23T16:26:56.071425Z",
     "iopub.status.idle": "2022-07-23T16:26:56.074396Z",
     "shell.execute_reply": "2022-07-23T16:26:56.073868Z",
     "shell.execute_reply.started": "2022-07-23T16:25:46.760794Z"
    },
    "papermill": {
     "duration": 0.03757,
     "end_time": "2022-07-23T16:26:56.074568",
     "exception": false,
     "start_time": "2022-07-23T16:26:56.036998",
     "status": "completed"
    },
    "tags": []
   },
   "outputs": [],
   "source": [
    "# Time to delete columns that have no predictive power."
   ]
  },
  {
   "cell_type": "markdown",
   "id": "0a8278cf",
   "metadata": {
    "papermill": {
     "duration": 0.030346,
     "end_time": "2022-07-23T16:26:56.137562",
     "exception": false,
     "start_time": "2022-07-23T16:26:56.107216",
     "status": "completed"
    },
    "tags": []
   },
   "source": []
  },
  {
   "cell_type": "code",
   "execution_count": 8,
   "id": "83960546",
   "metadata": {
    "execution": {
     "iopub.execute_input": "2022-07-23T16:26:56.201476Z",
     "iopub.status.busy": "2022-07-23T16:26:56.200822Z",
     "iopub.status.idle": "2022-07-23T16:26:56.209839Z",
     "shell.execute_reply": "2022-07-23T16:26:56.210320Z",
     "shell.execute_reply.started": "2022-07-23T16:25:46.770852Z"
    },
    "papermill": {
     "duration": 0.042618,
     "end_time": "2022-07-23T16:26:56.210519",
     "exception": false,
     "start_time": "2022-07-23T16:26:56.167901",
     "status": "completed"
    },
    "tags": []
   },
   "outputs": [],
   "source": [
    "dropdata = dropdata.drop(['B_ID','B_Name','R_ID','R_Name','winby','Date','B_HomeTown','B_Location','R_HomeTown','R_Location'],axis=1)"
   ]
  },
  {
   "cell_type": "code",
   "execution_count": 9,
   "id": "41226c5d",
   "metadata": {
    "execution": {
     "iopub.execute_input": "2022-07-23T16:26:56.274832Z",
     "iopub.status.busy": "2022-07-23T16:26:56.274113Z",
     "iopub.status.idle": "2022-07-23T16:26:56.278270Z",
     "shell.execute_reply": "2022-07-23T16:26:56.278819Z",
     "shell.execute_reply.started": "2022-07-23T16:25:46.787173Z"
    },
    "papermill": {
     "duration": 0.037908,
     "end_time": "2022-07-23T16:26:56.278996",
     "exception": false,
     "start_time": "2022-07-23T16:26:56.241088",
     "status": "completed"
    },
    "tags": []
   },
   "outputs": [
    {
     "data": {
      "text/plain": [
       "(2318, 267)"
      ]
     },
     "execution_count": 9,
     "metadata": {},
     "output_type": "execute_result"
    }
   ],
   "source": [
    "dropdata.shape"
   ]
  },
  {
   "cell_type": "code",
   "execution_count": 10,
   "id": "828ad7ac",
   "metadata": {
    "execution": {
     "iopub.execute_input": "2022-07-23T16:26:56.345977Z",
     "iopub.status.busy": "2022-07-23T16:26:56.345260Z",
     "iopub.status.idle": "2022-07-23T16:26:56.348372Z",
     "shell.execute_reply": "2022-07-23T16:26:56.348968Z",
     "shell.execute_reply.started": "2022-07-23T16:25:46.802345Z"
    },
    "papermill": {
     "duration": 0.038029,
     "end_time": "2022-07-23T16:26:56.349157",
     "exception": false,
     "start_time": "2022-07-23T16:26:56.311128",
     "status": "completed"
    },
    "tags": []
   },
   "outputs": [],
   "source": [
    "master = dropdata"
   ]
  },
  {
   "cell_type": "code",
   "execution_count": 11,
   "id": "534a124c",
   "metadata": {
    "execution": {
     "iopub.execute_input": "2022-07-23T16:26:56.414660Z",
     "iopub.status.busy": "2022-07-23T16:26:56.413988Z",
     "iopub.status.idle": "2022-07-23T16:26:56.418574Z",
     "shell.execute_reply": "2022-07-23T16:26:56.419121Z",
     "shell.execute_reply.started": "2022-07-23T16:25:46.811614Z"
    },
    "papermill": {
     "duration": 0.038886,
     "end_time": "2022-07-23T16:26:56.419293",
     "exception": false,
     "start_time": "2022-07-23T16:26:56.380407",
     "status": "completed"
    },
    "tags": []
   },
   "outputs": [
    {
     "data": {
      "text/plain": [
       "<function print>"
      ]
     },
     "execution_count": 11,
     "metadata": {},
     "output_type": "execute_result"
    }
   ],
   "source": [
    "print"
   ]
  },
  {
   "cell_type": "code",
   "execution_count": 12,
   "id": "e0eac405",
   "metadata": {
    "execution": {
     "iopub.execute_input": "2022-07-23T16:26:56.485431Z",
     "iopub.status.busy": "2022-07-23T16:26:56.484784Z",
     "iopub.status.idle": "2022-07-23T16:26:56.550193Z",
     "shell.execute_reply": "2022-07-23T16:26:56.549273Z",
     "shell.execute_reply.started": "2022-07-23T16:25:46.825196Z"
    },
    "papermill": {
     "duration": 0.099565,
     "end_time": "2022-07-23T16:26:56.550392",
     "exception": false,
     "start_time": "2022-07-23T16:26:56.450827",
     "status": "completed"
    },
    "tags": []
   },
   "outputs": [
    {
     "name": "stderr",
     "output_type": "stream",
     "text": [
      "/opt/conda/lib/python3.7/site-packages/ipykernel_launcher.py:3: FutureWarning: Dropping of nuisance columns in DataFrame reductions (with 'numeric_only=None') is deprecated; in a future version this will raise TypeError.  Select only valid columns before calling the reduction.\n",
      "  This is separate from the ipykernel package so we can avoid doing imports until\n"
     ]
    }
   ],
   "source": [
    "# Filling in NaN's with median value for the column.\n",
    "\n",
    "master.fillna(master.median(), inplace=True)"
   ]
  },
  {
   "cell_type": "code",
   "execution_count": 13,
   "id": "efbbc76e",
   "metadata": {
    "execution": {
     "iopub.execute_input": "2022-07-23T16:26:56.623651Z",
     "iopub.status.busy": "2022-07-23T16:26:56.622886Z",
     "iopub.status.idle": "2022-07-23T16:26:56.833630Z",
     "shell.execute_reply": "2022-07-23T16:26:56.834174Z",
     "shell.execute_reply.started": "2022-07-23T16:25:46.899576Z"
    },
    "papermill": {
     "duration": 0.251072,
     "end_time": "2022-07-23T16:26:56.834389",
     "exception": false,
     "start_time": "2022-07-23T16:26:56.583317",
     "status": "completed"
    },
    "tags": []
   },
   "outputs": [
    {
     "name": "stdout",
     "output_type": "stream",
     "text": [
      "Total NaN in dataframe : 0\n",
      "Total NaN in each column of the dataframe\n",
      "BPrev : 0 NaN\n",
      "BStreak : 0 NaN\n",
      "B_Age : 0 NaN\n",
      "B_Height : 0 NaN\n",
      "B_Weight : 0 NaN\n",
      "B__Round1_Grappling_Reversals_Landed : 0 NaN\n",
      "B__Round1_Grappling_Standups_Landed : 0 NaN\n",
      "B__Round1_Grappling_Submissions_Attempts : 0 NaN\n",
      "B__Round1_Grappling_Takedowns_Attempts : 0 NaN\n",
      "B__Round1_Grappling_Takedowns_Landed : 0 NaN\n",
      "B__Round1_Strikes_Body Significant Strikes_Attempts : 0 NaN\n",
      "B__Round1_Strikes_Body Significant Strikes_Landed : 0 NaN\n",
      "B__Round1_Strikes_Body Total Strikes_Attempts : 0 NaN\n",
      "B__Round1_Strikes_Body Total Strikes_Landed : 0 NaN\n",
      "B__Round1_Strikes_Clinch Body Strikes_Attempts : 0 NaN\n",
      "B__Round1_Strikes_Clinch Body Strikes_Landed : 0 NaN\n",
      "B__Round1_Strikes_Clinch Head Strikes_Attempts : 0 NaN\n",
      "B__Round1_Strikes_Clinch Head Strikes_Landed : 0 NaN\n",
      "B__Round1_Strikes_Clinch Leg Strikes_Attempts : 0 NaN\n",
      "B__Round1_Strikes_Clinch Leg Strikes_Landed : 0 NaN\n",
      "B__Round1_Strikes_Clinch Significant Kicks_Attempts : 0 NaN\n",
      "B__Round1_Strikes_Clinch Significant Kicks_Landed : 0 NaN\n",
      "B__Round1_Strikes_Clinch Significant Punches_Attempts : 0 NaN\n",
      "B__Round1_Strikes_Clinch Significant Punches_Landed : 0 NaN\n",
      "B__Round1_Strikes_Clinch Significant Strikes_Attempts : 0 NaN\n",
      "B__Round1_Strikes_Clinch Significant Strikes_Landed : 0 NaN\n",
      "B__Round1_Strikes_Clinch Total Strikes_Attempts : 0 NaN\n",
      "B__Round1_Strikes_Clinch Total Strikes_Landed : 0 NaN\n",
      "B__Round1_Strikes_Distance Body Kicks_Attempts : 0 NaN\n",
      "B__Round1_Strikes_Distance Body Kicks_Landed : 0 NaN\n",
      "B__Round1_Strikes_Distance Body Punches_Attempts : 0 NaN\n",
      "B__Round1_Strikes_Distance Body Punches_Landed : 0 NaN\n",
      "B__Round1_Strikes_Distance Body Strikes_Attempts : 0 NaN\n",
      "B__Round1_Strikes_Distance Body Strikes_Landed : 0 NaN\n",
      "B__Round1_Strikes_Distance Head Kicks_Attempts : 0 NaN\n",
      "B__Round1_Strikes_Distance Head Kicks_Landed : 0 NaN\n",
      "B__Round1_Strikes_Distance Head Punches_Attempts : 0 NaN\n",
      "B__Round1_Strikes_Distance Head Punches_Landed : 0 NaN\n",
      "B__Round1_Strikes_Distance Head Strikes_Attempts : 0 NaN\n",
      "B__Round1_Strikes_Distance Head Strikes_Landed : 0 NaN\n",
      "B__Round1_Strikes_Distance Leg Kicks_Attempts : 0 NaN\n",
      "B__Round1_Strikes_Distance Leg Kicks_Landed : 0 NaN\n",
      "B__Round1_Strikes_Distance Leg Strikes_Attempts : 0 NaN\n",
      "B__Round1_Strikes_Distance Leg Strikes_Landed : 0 NaN\n",
      "B__Round1_Strikes_Distance Strikes_Attempts : 0 NaN\n",
      "B__Round1_Strikes_Distance Strikes_Landed : 0 NaN\n",
      "B__Round1_Strikes_Ground Body Strikes_Attempts : 0 NaN\n",
      "B__Round1_Strikes_Ground Body Strikes_Landed : 0 NaN\n",
      "B__Round1_Strikes_Ground Head Strikes_Attempts : 0 NaN\n",
      "B__Round1_Strikes_Ground Head Strikes_Landed : 0 NaN\n",
      "B__Round1_Strikes_Ground Leg Strikes_Attempts : 0 NaN\n",
      "B__Round1_Strikes_Ground Leg Strikes_Landed : 0 NaN\n",
      "B__Round1_Strikes_Ground Significant Kicks_Attempts : 0 NaN\n",
      "B__Round1_Strikes_Ground Significant Kicks_Landed : 0 NaN\n",
      "B__Round1_Strikes_Ground Significant Punches_Attempts : 0 NaN\n",
      "B__Round1_Strikes_Ground Significant Punches_Landed : 0 NaN\n",
      "B__Round1_Strikes_Ground Significant Strikes_Attempts : 0 NaN\n",
      "B__Round1_Strikes_Ground Significant Strikes_Landed : 0 NaN\n",
      "B__Round1_Strikes_Ground Total Strikes_Attempts : 0 NaN\n",
      "B__Round1_Strikes_Ground Total Strikes_Landed : 0 NaN\n",
      "B__Round1_Strikes_Head Significant Strikes_Attempts : 0 NaN\n",
      "B__Round1_Strikes_Head Significant Strikes_Landed : 0 NaN\n",
      "B__Round1_Strikes_Head Total Strikes_Attempts : 0 NaN\n",
      "B__Round1_Strikes_Head Total Strikes_Landed : 0 NaN\n",
      "B__Round1_Strikes_Kicks_Attempts : 0 NaN\n",
      "B__Round1_Strikes_Kicks_Landed : 0 NaN\n",
      "B__Round1_Strikes_Knock Down_Landed : 0 NaN\n",
      "B__Round1_Strikes_Legs Significant Strikes_Attempts : 0 NaN\n",
      "B__Round1_Strikes_Legs Significant Strikes_Landed : 0 NaN\n",
      "B__Round1_Strikes_Punches_Attempts : 0 NaN\n",
      "B__Round1_Strikes_Punches_Landed : 0 NaN\n",
      "B__Round1_Strikes_Significant Strikes_Attempts : 0 NaN\n",
      "B__Round1_Strikes_Significant Strikes_Landed : 0 NaN\n",
      "B__Round1_Strikes_Total Strikes_Attempts : 0 NaN\n",
      "B__Round1_Strikes_Total Strikes_Landed : 0 NaN\n",
      "B__Round1_TIP_Back Control Time : 0 NaN\n",
      "B__Round1_TIP_Clinch Time : 0 NaN\n",
      "B__Round1_TIP_Control Time : 0 NaN\n",
      "B__Round1_TIP_Distance Time : 0 NaN\n",
      "B__Round1_TIP_Ground Control Time : 0 NaN\n",
      "B__Round1_TIP_Ground Time : 0 NaN\n",
      "B__Round1_TIP_Guard Control Time : 0 NaN\n",
      "B__Round1_TIP_Half Guard Control Time : 0 NaN\n",
      "B__Round1_TIP_Misc. Ground Control Time : 0 NaN\n",
      "B__Round1_TIP_Mount Control Time : 0 NaN\n",
      "B__Round1_TIP_Neutral Time : 0 NaN\n",
      "B__Round1_TIP_Side Control Time : 0 NaN\n",
      "B__Round1_TIP_Standing Time : 0 NaN\n",
      "Event_ID : 0 NaN\n",
      "Fight_ID : 0 NaN\n",
      "Last_round : 0 NaN\n",
      "Max_round : 0 NaN\n",
      "RPrev : 0 NaN\n",
      "R_Age : 0 NaN\n",
      "R_Height : 0 NaN\n",
      "R_Weight : 0 NaN\n",
      "R__Round1_Grappling_Reversals_Landed : 0 NaN\n",
      "R__Round1_Grappling_Standups_Landed : 0 NaN\n",
      "R__Round1_Grappling_Submissions_Attempts : 0 NaN\n",
      "R__Round1_Grappling_Takedowns_Attempts : 0 NaN\n",
      "R__Round1_Grappling_Takedowns_Landed : 0 NaN\n",
      "R__Round1_Strikes_Body Significant Strikes_Attempts : 0 NaN\n",
      "R__Round1_Strikes_Body Significant Strikes_Landed : 0 NaN\n",
      "R__Round1_Strikes_Body Total Strikes_Attempts : 0 NaN\n",
      "R__Round1_Strikes_Body Total Strikes_Landed : 0 NaN\n",
      "R__Round1_Strikes_Clinch Body Strikes_Attempts : 0 NaN\n",
      "R__Round1_Strikes_Clinch Body Strikes_Landed : 0 NaN\n",
      "R__Round1_Strikes_Clinch Head Strikes_Attempts : 0 NaN\n",
      "R__Round1_Strikes_Clinch Head Strikes_Landed : 0 NaN\n",
      "R__Round1_Strikes_Clinch Leg Strikes_Attempts : 0 NaN\n",
      "R__Round1_Strikes_Clinch Leg Strikes_Landed : 0 NaN\n",
      "R__Round1_Strikes_Clinch Significant Kicks_Attempts : 0 NaN\n",
      "R__Round1_Strikes_Clinch Significant Kicks_Landed : 0 NaN\n",
      "R__Round1_Strikes_Clinch Significant Punches_Attempts : 0 NaN\n",
      "R__Round1_Strikes_Clinch Significant Punches_Landed : 0 NaN\n",
      "R__Round1_Strikes_Clinch Significant Strikes_Attempts : 0 NaN\n",
      "R__Round1_Strikes_Clinch Significant Strikes_Landed : 0 NaN\n",
      "R__Round1_Strikes_Clinch Total Strikes_Attempts : 0 NaN\n",
      "R__Round1_Strikes_Clinch Total Strikes_Landed : 0 NaN\n",
      "R__Round1_Strikes_Distance Body Kicks_Attempts : 0 NaN\n",
      "R__Round1_Strikes_Distance Body Kicks_Landed : 0 NaN\n",
      "R__Round1_Strikes_Distance Body Punches_Attempts : 0 NaN\n",
      "R__Round1_Strikes_Distance Body Punches_Landed : 0 NaN\n",
      "R__Round1_Strikes_Distance Body Strikes_Attempts : 0 NaN\n",
      "R__Round1_Strikes_Distance Body Strikes_Landed : 0 NaN\n",
      "R__Round1_Strikes_Distance Head Kicks_Attempts : 0 NaN\n",
      "R__Round1_Strikes_Distance Head Kicks_Landed : 0 NaN\n",
      "R__Round1_Strikes_Distance Head Punches_Attempts : 0 NaN\n",
      "R__Round1_Strikes_Distance Head Punches_Landed : 0 NaN\n",
      "R__Round1_Strikes_Distance Head Strikes_Attempts : 0 NaN\n",
      "R__Round1_Strikes_Distance Head Strikes_Landed : 0 NaN\n",
      "R__Round1_Strikes_Distance Leg Kicks_Attempts : 0 NaN\n",
      "R__Round1_Strikes_Distance Leg Kicks_Landed : 0 NaN\n",
      "R__Round1_Strikes_Distance Leg Strikes_Attempts : 0 NaN\n",
      "R__Round1_Strikes_Distance Leg Strikes_Landed : 0 NaN\n",
      "R__Round1_Strikes_Distance Strikes_Attempts : 0 NaN\n",
      "R__Round1_Strikes_Distance Strikes_Landed : 0 NaN\n",
      "R__Round1_Strikes_Ground Body Strikes_Attempts : 0 NaN\n",
      "R__Round1_Strikes_Ground Body Strikes_Landed : 0 NaN\n",
      "R__Round1_Strikes_Ground Head Strikes_Attempts : 0 NaN\n",
      "R__Round1_Strikes_Ground Head Strikes_Landed : 0 NaN\n",
      "R__Round1_Strikes_Ground Leg Strikes_Attempts : 0 NaN\n",
      "R__Round1_Strikes_Ground Leg Strikes_Landed : 0 NaN\n",
      "R__Round1_Strikes_Ground Significant Kicks_Attempts : 0 NaN\n",
      "R__Round1_Strikes_Ground Significant Kicks_Landed : 0 NaN\n",
      "R__Round1_Strikes_Ground Significant Punches_Attempts : 0 NaN\n",
      "R__Round1_Strikes_Ground Significant Punches_Landed : 0 NaN\n",
      "R__Round1_Strikes_Ground Significant Strikes_Attempts : 0 NaN\n",
      "R__Round1_Strikes_Ground Significant Strikes_Landed : 0 NaN\n",
      "R__Round1_Strikes_Ground Total Strikes_Attempts : 0 NaN\n",
      "R__Round1_Strikes_Ground Total Strikes_Landed : 0 NaN\n",
      "R__Round1_Strikes_Head Significant Strikes_Attempts : 0 NaN\n",
      "R__Round1_Strikes_Head Significant Strikes_Landed : 0 NaN\n",
      "R__Round1_Strikes_Head Total Strikes_Attempts : 0 NaN\n",
      "R__Round1_Strikes_Head Total Strikes_Landed : 0 NaN\n",
      "R__Round1_Strikes_Kicks_Attempts : 0 NaN\n",
      "R__Round1_Strikes_Kicks_Landed : 0 NaN\n",
      "R__Round1_Strikes_Knock Down_Landed : 0 NaN\n",
      "R__Round1_Strikes_Legs Significant Strikes_Attempts : 0 NaN\n",
      "R__Round1_Strikes_Legs Significant Strikes_Landed : 0 NaN\n",
      "R__Round1_Strikes_Legs Total Strikes_Attempts : 0 NaN\n",
      "R__Round1_Strikes_Legs Total Strikes_Landed : 0 NaN\n",
      "R__Round1_Strikes_Punches_Attempts : 0 NaN\n",
      "R__Round1_Strikes_Punches_Landed : 0 NaN\n",
      "R__Round1_Strikes_Significant Strikes_Attempts : 0 NaN\n",
      "R__Round1_Strikes_Significant Strikes_Landed : 0 NaN\n",
      "R__Round1_Strikes_Total Strikes_Attempts : 0 NaN\n",
      "R__Round1_Strikes_Total Strikes_Landed : 0 NaN\n",
      "R__Round1_TIP_Back Control Time : 0 NaN\n",
      "R__Round1_TIP_Clinch Time : 0 NaN\n",
      "R__Round1_TIP_Control Time : 0 NaN\n",
      "R__Round1_TIP_Distance Time : 0 NaN\n",
      "R__Round1_TIP_Ground Control Time : 0 NaN\n",
      "R__Round1_TIP_Ground Time : 0 NaN\n",
      "R__Round1_TIP_Guard Control Time : 0 NaN\n",
      "R__Round1_TIP_Half Guard Control Time : 0 NaN\n",
      "R__Round1_TIP_Misc. Ground Control Time : 0 NaN\n",
      "R__Round1_TIP_Mount Control Time : 0 NaN\n",
      "R__Round1_TIP_Neutral Time : 0 NaN\n",
      "R__Round1_TIP_Side Control Time : 0 NaN\n",
      "R__Round1_TIP_Standing Time : 0 NaN\n",
      "R__Round2_Grappling_Reversals_Landed : 0 NaN\n",
      "R__Round2_Grappling_Standups_Landed : 0 NaN\n",
      "R__Round2_Grappling_Submissions_Attempts : 0 NaN\n",
      "R__Round2_Grappling_Takedowns_Attempts : 0 NaN\n",
      "R__Round2_Grappling_Takedowns_Landed : 0 NaN\n",
      "R__Round2_Strikes_Body Significant Strikes_Attempts : 0 NaN\n",
      "R__Round2_Strikes_Body Significant Strikes_Landed : 0 NaN\n",
      "R__Round2_Strikes_Body Total Strikes_Attempts : 0 NaN\n",
      "R__Round2_Strikes_Body Total Strikes_Landed : 0 NaN\n",
      "R__Round2_Strikes_Clinch Body Strikes_Attempts : 0 NaN\n",
      "R__Round2_Strikes_Clinch Body Strikes_Landed : 0 NaN\n",
      "R__Round2_Strikes_Clinch Head Strikes_Attempts : 0 NaN\n",
      "R__Round2_Strikes_Clinch Head Strikes_Landed : 0 NaN\n",
      "R__Round2_Strikes_Clinch Leg Strikes_Attempts : 0 NaN\n",
      "R__Round2_Strikes_Clinch Leg Strikes_Landed : 0 NaN\n",
      "R__Round2_Strikes_Clinch Significant Kicks_Attempts : 0 NaN\n",
      "R__Round2_Strikes_Clinch Significant Kicks_Landed : 0 NaN\n",
      "R__Round2_Strikes_Clinch Significant Punches_Attempts : 0 NaN\n",
      "R__Round2_Strikes_Clinch Significant Punches_Landed : 0 NaN\n",
      "R__Round2_Strikes_Clinch Significant Strikes_Attempts : 0 NaN\n",
      "R__Round2_Strikes_Clinch Significant Strikes_Landed : 0 NaN\n",
      "R__Round2_Strikes_Clinch Total Strikes_Attempts : 0 NaN\n",
      "R__Round2_Strikes_Clinch Total Strikes_Landed : 0 NaN\n",
      "R__Round2_Strikes_Distance Body Kicks_Attempts : 0 NaN\n",
      "R__Round2_Strikes_Distance Body Kicks_Landed : 0 NaN\n",
      "R__Round2_Strikes_Distance Body Punches_Attempts : 0 NaN\n",
      "R__Round2_Strikes_Distance Body Punches_Landed : 0 NaN\n",
      "R__Round2_Strikes_Distance Body Strikes_Attempts : 0 NaN\n",
      "R__Round2_Strikes_Distance Body Strikes_Landed : 0 NaN\n",
      "R__Round2_Strikes_Distance Head Kicks_Attempts : 0 NaN\n",
      "R__Round2_Strikes_Distance Head Kicks_Landed : 0 NaN\n",
      "R__Round2_Strikes_Distance Head Punches_Attempts : 0 NaN\n",
      "R__Round2_Strikes_Distance Head Punches_Landed : 0 NaN\n",
      "R__Round2_Strikes_Distance Head Strikes_Attempts : 0 NaN\n",
      "R__Round2_Strikes_Distance Head Strikes_Landed : 0 NaN\n",
      "R__Round2_Strikes_Distance Leg Kicks_Attempts : 0 NaN\n",
      "R__Round2_Strikes_Distance Leg Kicks_Landed : 0 NaN\n",
      "R__Round2_Strikes_Distance Leg Strikes_Attempts : 0 NaN\n",
      "R__Round2_Strikes_Distance Leg Strikes_Landed : 0 NaN\n",
      "R__Round2_Strikes_Distance Strikes_Attempts : 0 NaN\n",
      "R__Round2_Strikes_Distance Strikes_Landed : 0 NaN\n",
      "R__Round2_Strikes_Ground Body Strikes_Attempts : 0 NaN\n",
      "R__Round2_Strikes_Ground Body Strikes_Landed : 0 NaN\n",
      "R__Round2_Strikes_Ground Head Strikes_Attempts : 0 NaN\n",
      "R__Round2_Strikes_Ground Head Strikes_Landed : 0 NaN\n",
      "R__Round2_Strikes_Ground Leg Strikes_Attempts : 0 NaN\n",
      "R__Round2_Strikes_Ground Leg Strikes_Landed : 0 NaN\n",
      "R__Round2_Strikes_Ground Significant Kicks_Attempts : 0 NaN\n",
      "R__Round2_Strikes_Ground Significant Kicks_Landed : 0 NaN\n",
      "R__Round2_Strikes_Ground Significant Punches_Attempts : 0 NaN\n",
      "R__Round2_Strikes_Ground Significant Punches_Landed : 0 NaN\n",
      "R__Round2_Strikes_Ground Significant Strikes_Attempts : 0 NaN\n",
      "R__Round2_Strikes_Ground Significant Strikes_Landed : 0 NaN\n",
      "R__Round2_Strikes_Ground Total Strikes_Attempts : 0 NaN\n",
      "R__Round2_Strikes_Ground Total Strikes_Landed : 0 NaN\n",
      "R__Round2_Strikes_Head Significant Strikes_Attempts : 0 NaN\n",
      "R__Round2_Strikes_Head Significant Strikes_Landed : 0 NaN\n",
      "R__Round2_Strikes_Head Total Strikes_Attempts : 0 NaN\n",
      "R__Round2_Strikes_Head Total Strikes_Landed : 0 NaN\n",
      "R__Round2_Strikes_Kicks_Attempts : 0 NaN\n",
      "R__Round2_Strikes_Kicks_Landed : 0 NaN\n",
      "R__Round2_Strikes_Knock Down_Landed : 0 NaN\n",
      "R__Round2_Strikes_Legs Significant Strikes_Attempts : 0 NaN\n",
      "R__Round2_Strikes_Legs Significant Strikes_Landed : 0 NaN\n",
      "R__Round2_Strikes_Legs Total Strikes_Attempts : 0 NaN\n",
      "R__Round2_Strikes_Legs Total Strikes_Landed : 0 NaN\n",
      "R__Round2_Strikes_Punches_Attempts : 0 NaN\n",
      "R__Round2_Strikes_Punches_Landed : 0 NaN\n",
      "R__Round2_Strikes_Significant Strikes_Attempts : 0 NaN\n",
      "R__Round2_Strikes_Significant Strikes_Landed : 0 NaN\n",
      "R__Round2_Strikes_Total Strikes_Attempts : 0 NaN\n",
      "R__Round2_Strikes_Total Strikes_Landed : 0 NaN\n",
      "R__Round2_TIP_Back Control Time : 0 NaN\n",
      "R__Round2_TIP_Clinch Time : 0 NaN\n",
      "R__Round2_TIP_Control Time : 0 NaN\n",
      "R__Round2_TIP_Distance Time : 0 NaN\n",
      "R__Round2_TIP_Ground Control Time : 0 NaN\n",
      "R__Round2_TIP_Ground Time : 0 NaN\n",
      "R__Round2_TIP_Guard Control Time : 0 NaN\n",
      "R__Round2_TIP_Half Guard Control Time : 0 NaN\n",
      "R__Round2_TIP_Misc. Ground Control Time : 0 NaN\n",
      "R__Round2_TIP_Mount Control Time : 0 NaN\n",
      "R__Round2_TIP_Neutral Time : 0 NaN\n",
      "R__Round2_TIP_Side Control Time : 0 NaN\n",
      "R__Round2_TIP_Standing Time : 0 NaN\n",
      "winner : 0 NaN\n"
     ]
    }
   ],
   "source": [
    "# Printing total NaN's for all columns.  Shoutout to Charles B. (Kaggle) for the code.\n",
    "\n",
    "print(\"Total NaN in dataframe :\" , master.isna().sum().sum())\n",
    "print(\"Total NaN in each column of the dataframe\")\n",
    "na = []\n",
    "for index, col in enumerate(master):\n",
    "    na.append((index, master[col].isna().sum())) \n",
    "na_sorted = na.copy()\n",
    "na_sorted.sort(key = lambda x: x[1], reverse = True) \n",
    "\n",
    "for i in range(len(master.columns)):\n",
    "    print(master.columns[na_sorted[i][0]],\":\", na_sorted[i][1], \"NaN\")"
   ]
  },
  {
   "cell_type": "code",
   "execution_count": 14,
   "id": "3222b79b",
   "metadata": {
    "execution": {
     "iopub.execute_input": "2022-07-23T16:26:56.907017Z",
     "iopub.status.busy": "2022-07-23T16:26:56.906332Z",
     "iopub.status.idle": "2022-07-23T16:26:56.910651Z",
     "shell.execute_reply": "2022-07-23T16:26:56.909699Z",
     "shell.execute_reply.started": "2022-07-23T16:25:47.087224Z"
    },
    "papermill": {
     "duration": 0.04245,
     "end_time": "2022-07-23T16:26:56.910844",
     "exception": false,
     "start_time": "2022-07-23T16:26:56.868394",
     "status": "completed"
    },
    "tags": []
   },
   "outputs": [
    {
     "name": "stdout",
     "output_type": "stream",
     "text": [
      "01/01/2018\n",
      "24/10/2015\n"
     ]
    }
   ],
   "source": [
    "# Checking the timeframe of the fight data to ensure no fight data is prior to the unified rules adoption in April 2001.\n",
    "\n",
    "print(data['Date'].min())\n",
    "print((data['Date'].max()))"
   ]
  },
  {
   "cell_type": "markdown",
   "id": "32b50d0f",
   "metadata": {
    "papermill": {
     "duration": 0.032973,
     "end_time": "2022-07-23T16:26:56.978683",
     "exception": false,
     "start_time": "2022-07-23T16:26:56.945710",
     "status": "completed"
    },
    "tags": []
   },
   "source": [
    "### Dropping all \"draw\" and \"no contests\" from target variable so that we're left with only red winner or blue winner."
   ]
  },
  {
   "cell_type": "code",
   "execution_count": 15,
   "id": "ba7add73",
   "metadata": {
    "execution": {
     "iopub.execute_input": "2022-07-23T16:26:57.053628Z",
     "iopub.status.busy": "2022-07-23T16:26:57.050365Z",
     "iopub.status.idle": "2022-07-23T16:26:57.056942Z",
     "shell.execute_reply": "2022-07-23T16:26:57.056329Z",
     "shell.execute_reply.started": "2022-07-23T16:25:47.107909Z"
    },
    "papermill": {
     "duration": 0.045308,
     "end_time": "2022-07-23T16:26:57.057091",
     "exception": false,
     "start_time": "2022-07-23T16:26:57.011783",
     "status": "completed"
    },
    "tags": []
   },
   "outputs": [],
   "source": [
    "master.drop(master.index[master['winner'] == 'draw'], inplace = True)"
   ]
  },
  {
   "cell_type": "code",
   "execution_count": 16,
   "id": "12d21ca1",
   "metadata": {
    "execution": {
     "iopub.execute_input": "2022-07-23T16:26:57.135341Z",
     "iopub.status.busy": "2022-07-23T16:26:57.134646Z",
     "iopub.status.idle": "2022-07-23T16:26:57.137097Z",
     "shell.execute_reply": "2022-07-23T16:26:57.136508Z",
     "shell.execute_reply.started": "2022-07-23T16:25:47.119258Z"
    },
    "papermill": {
     "duration": 0.046037,
     "end_time": "2022-07-23T16:26:57.137246",
     "exception": false,
     "start_time": "2022-07-23T16:26:57.091209",
     "status": "completed"
    },
    "tags": []
   },
   "outputs": [],
   "source": [
    "master.drop(master.index[master['winner'] == 'no contest'], inplace = True)"
   ]
  },
  {
   "cell_type": "code",
   "execution_count": 17,
   "id": "5a16226e",
   "metadata": {
    "execution": {
     "iopub.execute_input": "2022-07-23T16:26:57.211709Z",
     "iopub.status.busy": "2022-07-23T16:26:57.210842Z",
     "iopub.status.idle": "2022-07-23T16:26:57.213515Z",
     "shell.execute_reply": "2022-07-23T16:26:57.212947Z",
     "shell.execute_reply.started": "2022-07-23T16:25:47.135544Z"
    },
    "papermill": {
     "duration": 0.042596,
     "end_time": "2022-07-23T16:26:57.213660",
     "exception": false,
     "start_time": "2022-07-23T16:26:57.171064",
     "status": "completed"
    },
    "tags": []
   },
   "outputs": [],
   "source": [
    "# Target variable is either \"red\" or \"blue\" (the winner of the fight).  Transforming to \"1\" and \"0\".\n",
    "\n",
    "from sklearn.preprocessing import OrdinalEncoder, LabelEncoder\n",
    "\n",
    "le = LabelEncoder()\n",
    "master['winner'] = le.fit_transform(master['winner'])"
   ]
  },
  {
   "cell_type": "code",
   "execution_count": 18,
   "id": "35e15d4b",
   "metadata": {
    "execution": {
     "iopub.execute_input": "2022-07-23T16:26:57.283830Z",
     "iopub.status.busy": "2022-07-23T16:26:57.283153Z",
     "iopub.status.idle": "2022-07-23T16:26:57.289207Z",
     "shell.execute_reply": "2022-07-23T16:26:57.289761Z",
     "shell.execute_reply.started": "2022-07-23T16:25:47.151078Z"
    },
    "papermill": {
     "duration": 0.043037,
     "end_time": "2022-07-23T16:26:57.289943",
     "exception": false,
     "start_time": "2022-07-23T16:26:57.246906",
     "status": "completed"
    },
    "tags": []
   },
   "outputs": [],
   "source": [
    "# Creating our test and train datasets\n",
    "\n",
    "X = master.drop(['winner'], axis=1)\n",
    "y = master['winner']"
   ]
  },
  {
   "cell_type": "code",
   "execution_count": 19,
   "id": "d96daae5",
   "metadata": {
    "execution": {
     "iopub.execute_input": "2022-07-23T16:26:57.370040Z",
     "iopub.status.busy": "2022-07-23T16:26:57.362965Z",
     "iopub.status.idle": "2022-07-23T16:26:57.371780Z",
     "shell.execute_reply": "2022-07-23T16:26:57.372383Z",
     "shell.execute_reply.started": "2022-07-23T16:25:47.170415Z"
    },
    "papermill": {
     "duration": 0.049299,
     "end_time": "2022-07-23T16:26:57.372592",
     "exception": false,
     "start_time": "2022-07-23T16:26:57.323293",
     "status": "completed"
    },
    "tags": []
   },
   "outputs": [],
   "source": [
    "from sklearn.model_selection import train_test_split\n",
    "\n",
    "X_train, X_test, y_train, y_test = train_test_split(X, y, test_size=0.2,random_state=25)"
   ]
  },
  {
   "cell_type": "code",
   "execution_count": 20,
   "id": "d4225745",
   "metadata": {
    "execution": {
     "iopub.execute_input": "2022-07-23T16:26:57.441478Z",
     "iopub.status.busy": "2022-07-23T16:26:57.440813Z",
     "iopub.status.idle": "2022-07-23T16:26:57.445792Z",
     "shell.execute_reply": "2022-07-23T16:26:57.446375Z",
     "shell.execute_reply.started": "2022-07-23T16:25:47.190285Z"
    },
    "papermill": {
     "duration": 0.041097,
     "end_time": "2022-07-23T16:26:57.446581",
     "exception": false,
     "start_time": "2022-07-23T16:26:57.405484",
     "status": "completed"
    },
    "tags": []
   },
   "outputs": [
    {
     "data": {
      "text/plain": [
       "((1822, 266), (456, 266))"
      ]
     },
     "execution_count": 20,
     "metadata": {},
     "output_type": "execute_result"
    }
   ],
   "source": [
    "X_train.shape, X_test.shape"
   ]
  },
  {
   "cell_type": "code",
   "execution_count": 21,
   "id": "7b466287",
   "metadata": {
    "execution": {
     "iopub.execute_input": "2022-07-23T16:26:57.516633Z",
     "iopub.status.busy": "2022-07-23T16:26:57.515938Z",
     "iopub.status.idle": "2022-07-23T16:26:57.529574Z",
     "shell.execute_reply": "2022-07-23T16:26:57.528977Z",
     "shell.execute_reply.started": "2022-07-23T16:25:47.204721Z"
    },
    "papermill": {
     "duration": 0.049783,
     "end_time": "2022-07-23T16:26:57.529723",
     "exception": false,
     "start_time": "2022-07-23T16:26:57.479940",
     "status": "completed"
    },
    "tags": []
   },
   "outputs": [
    {
     "name": "stdout",
     "output_type": "stream",
     "text": [
      "BPrev                                                      int64\n",
      "BStreak                                                    int64\n",
      "B_Age                                                    float64\n",
      "B_Height                                                 float64\n",
      "B_Weight                                                 float64\n",
      "B__Round1_Grappling_Reversals_Landed                     float64\n",
      "B__Round1_Grappling_Standups_Landed                      float64\n",
      "B__Round1_Grappling_Submissions_Attempts                 float64\n",
      "B__Round1_Grappling_Takedowns_Attempts                   float64\n",
      "B__Round1_Grappling_Takedowns_Landed                     float64\n",
      "B__Round1_Strikes_Body Significant Strikes_Attempts      float64\n",
      "B__Round1_Strikes_Body Significant Strikes_Landed        float64\n",
      "B__Round1_Strikes_Body Total Strikes_Attempts            float64\n",
      "B__Round1_Strikes_Body Total Strikes_Landed              float64\n",
      "B__Round1_Strikes_Clinch Body Strikes_Attempts           float64\n",
      "B__Round1_Strikes_Clinch Body Strikes_Landed             float64\n",
      "B__Round1_Strikes_Clinch Head Strikes_Attempts           float64\n",
      "B__Round1_Strikes_Clinch Head Strikes_Landed             float64\n",
      "B__Round1_Strikes_Clinch Leg Strikes_Attempts            float64\n",
      "B__Round1_Strikes_Clinch Leg Strikes_Landed              float64\n",
      "B__Round1_Strikes_Clinch Significant Kicks_Attempts      float64\n",
      "B__Round1_Strikes_Clinch Significant Kicks_Landed        float64\n",
      "B__Round1_Strikes_Clinch Significant Punches_Attempts    float64\n",
      "B__Round1_Strikes_Clinch Significant Punches_Landed      float64\n",
      "B__Round1_Strikes_Clinch Significant Strikes_Attempts    float64\n",
      "B__Round1_Strikes_Clinch Significant Strikes_Landed      float64\n",
      "B__Round1_Strikes_Clinch Total Strikes_Attempts          float64\n",
      "B__Round1_Strikes_Clinch Total Strikes_Landed            float64\n",
      "B__Round1_Strikes_Distance Body Kicks_Attempts           float64\n",
      "B__Round1_Strikes_Distance Body Kicks_Landed             float64\n",
      "B__Round1_Strikes_Distance Body Punches_Attempts         float64\n",
      "B__Round1_Strikes_Distance Body Punches_Landed           float64\n",
      "B__Round1_Strikes_Distance Body Strikes_Attempts         float64\n",
      "B__Round1_Strikes_Distance Body Strikes_Landed           float64\n",
      "B__Round1_Strikes_Distance Head Kicks_Attempts           float64\n",
      "B__Round1_Strikes_Distance Head Kicks_Landed             float64\n",
      "B__Round1_Strikes_Distance Head Punches_Attempts         float64\n",
      "B__Round1_Strikes_Distance Head Punches_Landed           float64\n",
      "B__Round1_Strikes_Distance Head Strikes_Attempts         float64\n",
      "B__Round1_Strikes_Distance Head Strikes_Landed           float64\n",
      "B__Round1_Strikes_Distance Leg Kicks_Attempts            float64\n",
      "B__Round1_Strikes_Distance Leg Kicks_Landed              float64\n",
      "B__Round1_Strikes_Distance Leg Strikes_Attempts          float64\n",
      "B__Round1_Strikes_Distance Leg Strikes_Landed            float64\n",
      "B__Round1_Strikes_Distance Strikes_Attempts              float64\n",
      "B__Round1_Strikes_Distance Strikes_Landed                float64\n",
      "B__Round1_Strikes_Ground Body Strikes_Attempts           float64\n",
      "B__Round1_Strikes_Ground Body Strikes_Landed             float64\n",
      "B__Round1_Strikes_Ground Head Strikes_Attempts           float64\n",
      "B__Round1_Strikes_Ground Head Strikes_Landed             float64\n",
      "B__Round1_Strikes_Ground Leg Strikes_Attempts            float64\n",
      "B__Round1_Strikes_Ground Leg Strikes_Landed              float64\n",
      "B__Round1_Strikes_Ground Significant Kicks_Attempts      float64\n",
      "B__Round1_Strikes_Ground Significant Kicks_Landed        float64\n",
      "B__Round1_Strikes_Ground Significant Punches_Attempts    float64\n",
      "B__Round1_Strikes_Ground Significant Punches_Landed      float64\n",
      "B__Round1_Strikes_Ground Significant Strikes_Attempts    float64\n",
      "B__Round1_Strikes_Ground Significant Strikes_Landed      float64\n",
      "B__Round1_Strikes_Ground Total Strikes_Attempts          float64\n",
      "B__Round1_Strikes_Ground Total Strikes_Landed            float64\n",
      "B__Round1_Strikes_Head Significant Strikes_Attempts      float64\n",
      "B__Round1_Strikes_Head Significant Strikes_Landed        float64\n",
      "B__Round1_Strikes_Head Total Strikes_Attempts            float64\n",
      "B__Round1_Strikes_Head Total Strikes_Landed              float64\n",
      "B__Round1_Strikes_Kicks_Attempts                         float64\n",
      "B__Round1_Strikes_Kicks_Landed                           float64\n",
      "B__Round1_Strikes_Knock Down_Landed                      float64\n",
      "B__Round1_Strikes_Legs Significant Strikes_Attempts      float64\n",
      "B__Round1_Strikes_Legs Significant Strikes_Landed        float64\n",
      "B__Round1_Strikes_Punches_Attempts                       float64\n",
      "B__Round1_Strikes_Punches_Landed                         float64\n",
      "B__Round1_Strikes_Significant Strikes_Attempts           float64\n",
      "B__Round1_Strikes_Significant Strikes_Landed             float64\n",
      "B__Round1_Strikes_Total Strikes_Attempts                 float64\n",
      "B__Round1_Strikes_Total Strikes_Landed                   float64\n",
      "B__Round1_TIP_Back Control Time                          float64\n",
      "B__Round1_TIP_Clinch Time                                float64\n",
      "B__Round1_TIP_Control Time                               float64\n",
      "B__Round1_TIP_Distance Time                              float64\n",
      "B__Round1_TIP_Ground Control Time                        float64\n",
      "B__Round1_TIP_Ground Time                                float64\n",
      "B__Round1_TIP_Guard Control Time                         float64\n",
      "B__Round1_TIP_Half Guard Control Time                    float64\n",
      "B__Round1_TIP_Misc. Ground Control Time                  float64\n",
      "B__Round1_TIP_Mount Control Time                         float64\n",
      "B__Round1_TIP_Neutral Time                               float64\n",
      "B__Round1_TIP_Side Control Time                          float64\n",
      "B__Round1_TIP_Standing Time                              float64\n",
      "Event_ID                                                   int64\n",
      "Fight_ID                                                   int64\n",
      "Last_round                                                 int64\n",
      "Max_round                                                  int64\n",
      "RPrev                                                      int64\n",
      "R_Age                                                    float64\n",
      "R_Height                                                 float64\n",
      "R_Weight                                                 float64\n",
      "R__Round1_Grappling_Reversals_Landed                     float64\n",
      "R__Round1_Grappling_Standups_Landed                      float64\n",
      "R__Round1_Grappling_Submissions_Attempts                 float64\n",
      "R__Round1_Grappling_Takedowns_Attempts                   float64\n",
      "R__Round1_Grappling_Takedowns_Landed                     float64\n",
      "R__Round1_Strikes_Body Significant Strikes_Attempts      float64\n",
      "R__Round1_Strikes_Body Significant Strikes_Landed        float64\n",
      "R__Round1_Strikes_Body Total Strikes_Attempts            float64\n",
      "R__Round1_Strikes_Body Total Strikes_Landed              float64\n",
      "R__Round1_Strikes_Clinch Body Strikes_Attempts           float64\n",
      "R__Round1_Strikes_Clinch Body Strikes_Landed             float64\n",
      "R__Round1_Strikes_Clinch Head Strikes_Attempts           float64\n",
      "R__Round1_Strikes_Clinch Head Strikes_Landed             float64\n",
      "R__Round1_Strikes_Clinch Leg Strikes_Attempts            float64\n",
      "R__Round1_Strikes_Clinch Leg Strikes_Landed              float64\n",
      "R__Round1_Strikes_Clinch Significant Kicks_Attempts      float64\n",
      "R__Round1_Strikes_Clinch Significant Kicks_Landed        float64\n",
      "R__Round1_Strikes_Clinch Significant Punches_Attempts    float64\n",
      "R__Round1_Strikes_Clinch Significant Punches_Landed      float64\n",
      "R__Round1_Strikes_Clinch Significant Strikes_Attempts    float64\n",
      "R__Round1_Strikes_Clinch Significant Strikes_Landed      float64\n",
      "R__Round1_Strikes_Clinch Total Strikes_Attempts          float64\n",
      "R__Round1_Strikes_Clinch Total Strikes_Landed            float64\n",
      "R__Round1_Strikes_Distance Body Kicks_Attempts           float64\n",
      "R__Round1_Strikes_Distance Body Kicks_Landed             float64\n",
      "R__Round1_Strikes_Distance Body Punches_Attempts         float64\n",
      "R__Round1_Strikes_Distance Body Punches_Landed           float64\n",
      "R__Round1_Strikes_Distance Body Strikes_Attempts         float64\n",
      "R__Round1_Strikes_Distance Body Strikes_Landed           float64\n",
      "R__Round1_Strikes_Distance Head Kicks_Attempts           float64\n",
      "R__Round1_Strikes_Distance Head Kicks_Landed             float64\n",
      "R__Round1_Strikes_Distance Head Punches_Attempts         float64\n",
      "R__Round1_Strikes_Distance Head Punches_Landed           float64\n",
      "R__Round1_Strikes_Distance Head Strikes_Attempts         float64\n",
      "R__Round1_Strikes_Distance Head Strikes_Landed           float64\n",
      "R__Round1_Strikes_Distance Leg Kicks_Attempts            float64\n",
      "R__Round1_Strikes_Distance Leg Kicks_Landed              float64\n",
      "R__Round1_Strikes_Distance Leg Strikes_Attempts          float64\n",
      "R__Round1_Strikes_Distance Leg Strikes_Landed            float64\n",
      "R__Round1_Strikes_Distance Strikes_Attempts              float64\n",
      "R__Round1_Strikes_Distance Strikes_Landed                float64\n",
      "R__Round1_Strikes_Ground Body Strikes_Attempts           float64\n",
      "R__Round1_Strikes_Ground Body Strikes_Landed             float64\n",
      "R__Round1_Strikes_Ground Head Strikes_Attempts           float64\n",
      "R__Round1_Strikes_Ground Head Strikes_Landed             float64\n",
      "R__Round1_Strikes_Ground Leg Strikes_Attempts            float64\n",
      "R__Round1_Strikes_Ground Leg Strikes_Landed              float64\n",
      "R__Round1_Strikes_Ground Significant Kicks_Attempts      float64\n",
      "R__Round1_Strikes_Ground Significant Kicks_Landed        float64\n",
      "R__Round1_Strikes_Ground Significant Punches_Attempts    float64\n",
      "R__Round1_Strikes_Ground Significant Punches_Landed      float64\n",
      "R__Round1_Strikes_Ground Significant Strikes_Attempts    float64\n",
      "R__Round1_Strikes_Ground Significant Strikes_Landed      float64\n",
      "R__Round1_Strikes_Ground Total Strikes_Attempts          float64\n",
      "R__Round1_Strikes_Ground Total Strikes_Landed            float64\n",
      "R__Round1_Strikes_Head Significant Strikes_Attempts      float64\n",
      "R__Round1_Strikes_Head Significant Strikes_Landed        float64\n",
      "R__Round1_Strikes_Head Total Strikes_Attempts            float64\n",
      "R__Round1_Strikes_Head Total Strikes_Landed              float64\n",
      "R__Round1_Strikes_Kicks_Attempts                         float64\n",
      "R__Round1_Strikes_Kicks_Landed                           float64\n",
      "R__Round1_Strikes_Knock Down_Landed                      float64\n",
      "R__Round1_Strikes_Legs Significant Strikes_Attempts      float64\n",
      "R__Round1_Strikes_Legs Significant Strikes_Landed        float64\n",
      "R__Round1_Strikes_Legs Total Strikes_Attempts            float64\n",
      "R__Round1_Strikes_Legs Total Strikes_Landed              float64\n",
      "R__Round1_Strikes_Punches_Attempts                       float64\n",
      "R__Round1_Strikes_Punches_Landed                         float64\n",
      "R__Round1_Strikes_Significant Strikes_Attempts           float64\n",
      "R__Round1_Strikes_Significant Strikes_Landed             float64\n",
      "R__Round1_Strikes_Total Strikes_Attempts                 float64\n",
      "R__Round1_Strikes_Total Strikes_Landed                   float64\n",
      "R__Round1_TIP_Back Control Time                          float64\n",
      "R__Round1_TIP_Clinch Time                                float64\n",
      "R__Round1_TIP_Control Time                               float64\n",
      "R__Round1_TIP_Distance Time                              float64\n",
      "R__Round1_TIP_Ground Control Time                        float64\n",
      "R__Round1_TIP_Ground Time                                float64\n",
      "R__Round1_TIP_Guard Control Time                         float64\n",
      "R__Round1_TIP_Half Guard Control Time                    float64\n",
      "R__Round1_TIP_Misc. Ground Control Time                  float64\n",
      "R__Round1_TIP_Mount Control Time                         float64\n",
      "R__Round1_TIP_Neutral Time                               float64\n",
      "R__Round1_TIP_Side Control Time                          float64\n",
      "R__Round1_TIP_Standing Time                              float64\n",
      "R__Round2_Grappling_Reversals_Landed                     float64\n",
      "R__Round2_Grappling_Standups_Landed                      float64\n",
      "R__Round2_Grappling_Submissions_Attempts                 float64\n",
      "R__Round2_Grappling_Takedowns_Attempts                   float64\n",
      "R__Round2_Grappling_Takedowns_Landed                     float64\n",
      "R__Round2_Strikes_Body Significant Strikes_Attempts      float64\n",
      "R__Round2_Strikes_Body Significant Strikes_Landed        float64\n",
      "R__Round2_Strikes_Body Total Strikes_Attempts            float64\n",
      "R__Round2_Strikes_Body Total Strikes_Landed              float64\n",
      "R__Round2_Strikes_Clinch Body Strikes_Attempts           float64\n",
      "R__Round2_Strikes_Clinch Body Strikes_Landed             float64\n",
      "R__Round2_Strikes_Clinch Head Strikes_Attempts           float64\n",
      "R__Round2_Strikes_Clinch Head Strikes_Landed             float64\n",
      "R__Round2_Strikes_Clinch Leg Strikes_Attempts            float64\n",
      "R__Round2_Strikes_Clinch Leg Strikes_Landed              float64\n",
      "R__Round2_Strikes_Clinch Significant Kicks_Attempts      float64\n",
      "R__Round2_Strikes_Clinch Significant Kicks_Landed        float64\n",
      "R__Round2_Strikes_Clinch Significant Punches_Attempts    float64\n",
      "R__Round2_Strikes_Clinch Significant Punches_Landed      float64\n",
      "R__Round2_Strikes_Clinch Significant Strikes_Attempts    float64\n",
      "R__Round2_Strikes_Clinch Significant Strikes_Landed      float64\n",
      "R__Round2_Strikes_Clinch Total Strikes_Attempts          float64\n",
      "R__Round2_Strikes_Clinch Total Strikes_Landed            float64\n",
      "R__Round2_Strikes_Distance Body Kicks_Attempts           float64\n",
      "R__Round2_Strikes_Distance Body Kicks_Landed             float64\n",
      "R__Round2_Strikes_Distance Body Punches_Attempts         float64\n",
      "R__Round2_Strikes_Distance Body Punches_Landed           float64\n",
      "R__Round2_Strikes_Distance Body Strikes_Attempts         float64\n",
      "R__Round2_Strikes_Distance Body Strikes_Landed           float64\n",
      "R__Round2_Strikes_Distance Head Kicks_Attempts           float64\n",
      "R__Round2_Strikes_Distance Head Kicks_Landed             float64\n",
      "R__Round2_Strikes_Distance Head Punches_Attempts         float64\n",
      "R__Round2_Strikes_Distance Head Punches_Landed           float64\n",
      "R__Round2_Strikes_Distance Head Strikes_Attempts         float64\n",
      "R__Round2_Strikes_Distance Head Strikes_Landed           float64\n",
      "R__Round2_Strikes_Distance Leg Kicks_Attempts            float64\n",
      "R__Round2_Strikes_Distance Leg Kicks_Landed              float64\n",
      "R__Round2_Strikes_Distance Leg Strikes_Attempts          float64\n",
      "R__Round2_Strikes_Distance Leg Strikes_Landed            float64\n",
      "R__Round2_Strikes_Distance Strikes_Attempts              float64\n",
      "R__Round2_Strikes_Distance Strikes_Landed                float64\n",
      "R__Round2_Strikes_Ground Body Strikes_Attempts           float64\n",
      "R__Round2_Strikes_Ground Body Strikes_Landed             float64\n",
      "R__Round2_Strikes_Ground Head Strikes_Attempts           float64\n",
      "R__Round2_Strikes_Ground Head Strikes_Landed             float64\n",
      "R__Round2_Strikes_Ground Leg Strikes_Attempts            float64\n",
      "R__Round2_Strikes_Ground Leg Strikes_Landed              float64\n",
      "R__Round2_Strikes_Ground Significant Kicks_Attempts      float64\n",
      "R__Round2_Strikes_Ground Significant Kicks_Landed        float64\n",
      "R__Round2_Strikes_Ground Significant Punches_Attempts    float64\n",
      "R__Round2_Strikes_Ground Significant Punches_Landed      float64\n",
      "R__Round2_Strikes_Ground Significant Strikes_Attempts    float64\n",
      "R__Round2_Strikes_Ground Significant Strikes_Landed      float64\n",
      "R__Round2_Strikes_Ground Total Strikes_Attempts          float64\n",
      "R__Round2_Strikes_Ground Total Strikes_Landed            float64\n",
      "R__Round2_Strikes_Head Significant Strikes_Attempts      float64\n",
      "R__Round2_Strikes_Head Significant Strikes_Landed        float64\n",
      "R__Round2_Strikes_Head Total Strikes_Attempts            float64\n",
      "R__Round2_Strikes_Head Total Strikes_Landed              float64\n",
      "R__Round2_Strikes_Kicks_Attempts                         float64\n",
      "R__Round2_Strikes_Kicks_Landed                           float64\n",
      "R__Round2_Strikes_Knock Down_Landed                      float64\n",
      "R__Round2_Strikes_Legs Significant Strikes_Attempts      float64\n",
      "R__Round2_Strikes_Legs Significant Strikes_Landed        float64\n",
      "R__Round2_Strikes_Legs Total Strikes_Attempts            float64\n",
      "R__Round2_Strikes_Legs Total Strikes_Landed              float64\n",
      "R__Round2_Strikes_Punches_Attempts                       float64\n",
      "R__Round2_Strikes_Punches_Landed                         float64\n",
      "R__Round2_Strikes_Significant Strikes_Attempts           float64\n",
      "R__Round2_Strikes_Significant Strikes_Landed             float64\n",
      "R__Round2_Strikes_Total Strikes_Attempts                 float64\n",
      "R__Round2_Strikes_Total Strikes_Landed                   float64\n",
      "R__Round2_TIP_Back Control Time                          float64\n",
      "R__Round2_TIP_Clinch Time                                float64\n",
      "R__Round2_TIP_Control Time                               float64\n",
      "R__Round2_TIP_Distance Time                              float64\n",
      "R__Round2_TIP_Ground Control Time                        float64\n",
      "R__Round2_TIP_Ground Time                                float64\n",
      "R__Round2_TIP_Guard Control Time                         float64\n",
      "R__Round2_TIP_Half Guard Control Time                    float64\n",
      "R__Round2_TIP_Misc. Ground Control Time                  float64\n",
      "R__Round2_TIP_Mount Control Time                         float64\n",
      "R__Round2_TIP_Neutral Time                               float64\n",
      "R__Round2_TIP_Side Control Time                          float64\n",
      "R__Round2_TIP_Standing Time                              float64\n",
      "dtype: object\n"
     ]
    }
   ],
   "source": [
    "# Checking data types\n",
    "\n",
    "with pd.option_context('display.max_rows', None, 'display.max_columns', None):\n",
    "    print(X_train.dtypes)"
   ]
  },
  {
   "cell_type": "markdown",
   "id": "82e7b44d",
   "metadata": {
    "papermill": {
     "duration": 0.033888,
     "end_time": "2022-07-23T16:26:57.597891",
     "exception": false,
     "start_time": "2022-07-23T16:26:57.564003",
     "status": "completed"
    },
    "tags": []
   },
   "source": [
    "## 4. Modeling. Going to model the fights with three different models:\n",
    "* Random Forest  \n",
    "* Gradient Boosting "
   ]
  },
  {
   "cell_type": "markdown",
   "id": "d4ac3403",
   "metadata": {
    "papermill": {
     "duration": 0.034032,
     "end_time": "2022-07-23T16:26:57.667068",
     "exception": false,
     "start_time": "2022-07-23T16:26:57.633036",
     "status": "completed"
    },
    "tags": []
   },
   "source": [
    "## 4.a. Random Forest Classifier"
   ]
  },
  {
   "cell_type": "code",
   "execution_count": 22,
   "id": "f3c0f6df",
   "metadata": {
    "execution": {
     "iopub.execute_input": "2022-07-23T16:26:57.741325Z",
     "iopub.status.busy": "2022-07-23T16:26:57.740406Z",
     "iopub.status.idle": "2022-07-23T16:26:59.006837Z",
     "shell.execute_reply": "2022-07-23T16:26:59.006082Z",
     "shell.execute_reply.started": "2022-07-23T16:25:47.222685Z"
    },
    "papermill": {
     "duration": 1.304074,
     "end_time": "2022-07-23T16:26:59.007031",
     "exception": false,
     "start_time": "2022-07-23T16:26:57.702957",
     "status": "completed"
    },
    "tags": []
   },
   "outputs": [
    {
     "name": "stdout",
     "output_type": "stream",
     "text": [
      "0.40789473684210525\n"
     ]
    }
   ],
   "source": [
    "rfc = RandomForestClassifier(random_state=0)\n",
    "\n",
    "rfc.fit(X_train, y_train)\n",
    "\n",
    "y_pred_rfc=rfc.predict(X_test)\n",
    "\n",
    "print(mean_absolute_error(y_test,y_pred_rfc))"
   ]
  },
  {
   "cell_type": "markdown",
   "id": "5a907f2b",
   "metadata": {
    "papermill": {
     "duration": 0.03635,
     "end_time": "2022-07-23T16:26:59.078636",
     "exception": false,
     "start_time": "2022-07-23T16:26:59.042286",
     "status": "completed"
    },
    "tags": []
   },
   "source": [
    "## 4.c. Gradient Boosting Classifier"
   ]
  },
  {
   "cell_type": "code",
   "execution_count": 23,
   "id": "c29afd69",
   "metadata": {
    "execution": {
     "iopub.execute_input": "2022-07-23T16:26:59.157577Z",
     "iopub.status.busy": "2022-07-23T16:26:59.156848Z",
     "iopub.status.idle": "2022-07-23T16:27:03.983616Z",
     "shell.execute_reply": "2022-07-23T16:27:03.982803Z",
     "shell.execute_reply.started": "2022-07-23T16:25:48.504494Z"
    },
    "papermill": {
     "duration": 4.86989,
     "end_time": "2022-07-23T16:27:03.983814",
     "exception": false,
     "start_time": "2022-07-23T16:26:59.113924",
     "status": "completed"
    },
    "tags": []
   },
   "outputs": [
    {
     "name": "stdout",
     "output_type": "stream",
     "text": [
      "0.41885964912280704\n"
     ]
    }
   ],
   "source": [
    "gb = GradientBoostingClassifier(random_state = 0)\n",
    "\n",
    "gb.fit(X_train, y_train)\n",
    "\n",
    "y_pred_gb = gb.predict(X_test)\n",
    "\n",
    "print(mean_absolute_error(y_test,y_pred_gb))"
   ]
  },
  {
   "cell_type": "markdown",
   "id": "1262f089",
   "metadata": {
    "papermill": {
     "duration": 0.035163,
     "end_time": "2022-07-23T16:27:04.054942",
     "exception": false,
     "start_time": "2022-07-23T16:27:04.019779",
     "status": "completed"
    },
    "tags": []
   },
   "source": [
    "### The Random Forest model has the lowest mean absolute error (mean difference between predicted and observed y-values.)"
   ]
  },
  {
   "cell_type": "markdown",
   "id": "1ecffac1",
   "metadata": {
    "papermill": {
     "duration": 0.035187,
     "end_time": "2022-07-23T16:27:04.125167",
     "exception": false,
     "start_time": "2022-07-23T16:27:04.089980",
     "status": "completed"
    },
    "tags": []
   },
   "source": [
    "## 5. Feature Importance"
   ]
  },
  {
   "cell_type": "code",
   "execution_count": 24,
   "id": "b04103c5",
   "metadata": {
    "execution": {
     "iopub.execute_input": "2022-07-23T16:27:04.210116Z",
     "iopub.status.busy": "2022-07-23T16:27:04.209347Z",
     "iopub.status.idle": "2022-07-23T16:27:04.701540Z",
     "shell.execute_reply": "2022-07-23T16:27:04.702233Z",
     "shell.execute_reply.started": "2022-07-23T16:25:53.542350Z"
    },
    "papermill": {
     "duration": 0.541979,
     "end_time": "2022-07-23T16:27:04.702493",
     "exception": false,
     "start_time": "2022-07-23T16:27:04.160514",
     "status": "completed"
    },
    "tags": []
   },
   "outputs": [
    {
     "data": {
      "image/png": "[encoded data removed]",
      "text/plain": [
       "<Figure size 2160x576 with 1 Axes>"
      ]
     },
     "metadata": {
      "needs_background": "light"
     },
     "output_type": "display_data"
    }
   ],
   "source": [
    "features = pd.Series(rfc.feature_importances_, index=X_train.columns).sort_values(ascending=False)\n",
    "\n",
    "feature_names = [col for col in X_train]\n",
    "feature_importance = features\n",
    "indices = np.argsort(feature_importance)[::-1]\n",
    "n=10\n",
    "idx=indices[0:n]\n",
    "\n",
    "plt.figure(figsize=(30, 8))\n",
    "titlefont = 35\n",
    "plt.title(\"Feature importances\", fontdict={'fontsize':titlefont})\n",
    "plt.bar(range(n), feature_importance[idx], color=\"lightcoral\", width=0.5, align=\"center\")\n",
    "xticksize = 20\n",
    "plt.xticks(range(n), [feature_names[id] for id in idx], rotation = 45, fontdict={'fontsize':xticksize}) \n",
    "plt.tick_params(axis='y', which='major', labelsize=20)\n",
    "plt.xlim([-1, n]) \n",
    "plt.show()\n"
   ]
  },
  {
   "cell_type": "markdown",
   "id": "edb5994c",
   "metadata": {
    "papermill": {
     "duration": 0.039379,
     "end_time": "2022-07-23T16:27:04.781094",
     "exception": false,
     "start_time": "2022-07-23T16:27:04.741715",
     "status": "completed"
    },
    "tags": []
   },
   "source": [
    "### Clearly no feature alone has huge explanatory power.  In fact, most have very little explanatory power (roughly ≤ 0.03)  However, the number of UFC fights a fighter had previously \"BPrev\" had the most predictor power."
   ]
  }
 ],
 "metadata": {
  "kernelspec": {
   "display_name": "Python 3",
   "language": "python",
   "name": "python3"
  },
  "language_info": {
   "codemirror_mode": {
    "name": "ipython",
    "version": 3
   },
   "file_extension": ".py",
   "mimetype": "text/x-python",
   "name": "python",
   "nbconvert_exporter": "python",
   "pygments_lexer": "ipython3",
   "version": "3.7.12"
  },
  "papermill": {
   "default_parameters": {},
   "duration": 21.555479,
   "end_time": "2022-07-23T16:27:05.530225",
   "environment_variables": {},
   "exception": null,
   "input_path": "__notebook__.ipynb",
   "output_path": "__notebook__.ipynb",
   "parameters": {},
   "start_time": "2022-07-23T16:26:43.974746",
   "version": "2.3.3"
  }
 },
 "nbformat": 4,
 "nbformat_minor": 5
}
