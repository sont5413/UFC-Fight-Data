{
 "cells": [
  {
   "cell_type": "markdown",
   "id": "9e0d691d",
   "metadata": {
    "papermill": {
     "duration": 0.041323,
     "end_time": "2022-03-06T22:08:46.029030",
     "exception": false,
     "start_time": "2022-03-06T22:08:45.987707",
     "status": "completed"
    },
    "tags": []
   },
   "source": [
    "## I. Import Libraries"
   ]
  },
  {
   "cell_type": "code",
   "execution_count": 1,
   "id": "af8a0a23",
   "metadata": {
    "_cell_guid": "b1076dfc-b9ad-4769-8c92-a6c4dae69d19",
    "_uuid": "8f2839f25d086af736a60e9eeb907d3b93b6e0e5",
    "execution": {
     "iopub.execute_input": "2022-03-06T22:08:46.117023Z",
     "iopub.status.busy": "2022-03-06T22:08:46.116391Z",
     "iopub.status.idle": "2022-03-06T22:08:47.257945Z",
     "shell.execute_reply": "2022-03-06T22:08:47.258308Z",
     "shell.execute_reply.started": "2022-03-06T22:08:22.157419Z"
    },
    "papermill": {
     "duration": 1.189617,
     "end_time": "2022-03-06T22:08:47.258530",
     "exception": false,
     "start_time": "2022-03-06T22:08:46.068913",
     "status": "completed"
    },
    "tags": []
   },
   "outputs": [
    {
     "name": "stdout",
     "output_type": "stream",
     "text": [
      "/kaggle/input/ufcdataset/data.csv\n"
     ]
    }
   ],
   "source": [
    "from sklearn.linear_model import LinearRegression\n",
    "from sklearn.metrics import mean_absolute_error\n",
    "from sklearn.ensemble import RandomForestRegressor\n",
    "from sklearn.ensemble import GradientBoostingRegressor\n",
    "import numpy as np\n",
    "import pandas as pd\n",
    "import re\n",
    "import sklearn\n",
    "from sklearn.model_selection import train_test_split\n",
    "import seaborn as sns\n",
    "import matplotlib.pyplot as plt\n",
    "import os\n",
    "for dirname, _, filenames in os.walk('/kaggle/input'):\n",
    "    for filename in filenames:\n",
    "        print(os.path.join(dirname, filename))"
   ]
  },
  {
   "cell_type": "code",
   "execution_count": 2,
   "id": "0a177078",
   "metadata": {
    "execution": {
     "iopub.execute_input": "2022-03-06T22:08:47.315788Z",
     "iopub.status.busy": "2022-03-06T22:08:47.315136Z",
     "iopub.status.idle": "2022-03-06T22:08:47.625873Z",
     "shell.execute_reply": "2022-03-06T22:08:47.624594Z",
     "shell.execute_reply.started": "2022-03-06T22:08:22.170654Z"
    },
    "papermill": {
     "duration": 0.340234,
     "end_time": "2022-03-06T22:08:47.626048",
     "exception": false,
     "start_time": "2022-03-06T22:08:47.285814",
     "status": "completed"
    },
    "tags": []
   },
   "outputs": [],
   "source": [
    "# Import data\n",
    "\n",
    "data = pd.read_csv('/kaggle/input/ufcdataset/data.csv')"
   ]
  },
  {
   "cell_type": "markdown",
   "id": "211ef217",
   "metadata": {
    "papermill": {
     "duration": 0.041381,
     "end_time": "2022-03-06T22:08:47.709111",
     "exception": false,
     "start_time": "2022-03-06T22:08:47.667730",
     "status": "completed"
    },
    "tags": []
   },
   "source": [
    "## 2. Brief EDA"
   ]
  },
  {
   "cell_type": "code",
   "execution_count": 3,
   "id": "0bf50610",
   "metadata": {
    "execution": {
     "iopub.execute_input": "2022-03-06T22:08:47.795084Z",
     "iopub.status.busy": "2022-03-06T22:08:47.794490Z",
     "iopub.status.idle": "2022-03-06T22:08:47.819860Z",
     "shell.execute_reply": "2022-03-06T22:08:47.820500Z",
     "shell.execute_reply.started": "2022-03-06T22:08:22.418515Z"
    },
    "papermill": {
     "duration": 0.069835,
     "end_time": "2022-03-06T22:08:47.820680",
     "exception": false,
     "start_time": "2022-03-06T22:08:47.750845",
     "status": "completed"
    },
    "tags": []
   },
   "outputs": [
    {
     "name": "stdout",
     "output_type": "stream",
     "text": [
      "(2318, 894)\n"
     ]
    },
    {
     "data": {
      "text/plain": [
       "<bound method NDFrame.describe of       BPrev  BStreak  B_Age  B_Height                             B_HomeTown  \\\n",
       "0         0        0   38.0     193.0                       Hounslow England   \n",
       "1         0        0   36.0     172.0        Chicago, Illinois United States   \n",
       "2         0        0   39.0     167.0            Isla Vista , California USA   \n",
       "3         0        0   33.0     167.0                      San Diego, CA USA   \n",
       "4         0        0   36.0     185.0                    Southampton England   \n",
       "...     ...      ...    ...       ...                                    ...   \n",
       "2313      7        0   34.0     172.0           El Paso, Texas United States   \n",
       "2314      9        1   31.0     177.0     Milwaukee, Wisconsin United States   \n",
       "2315      5        3   35.0     180.0                        Amazonas Brazil   \n",
       "2316      1        0   37.0     170.0  Moses Lake, Washington United States    \n",
       "2317      0        0   23.0     190.0  Los Angeles, California United States   \n",
       "\n",
       "      B_ID                            B_Location            B_Name  B_Weight  \\\n",
       "0      808             Amsterdam The Netherlands  Alistair Overeem     120.0   \n",
       "1     1054       Chicago, Illinois United States     Ricardo Lamas      65.0   \n",
       "2      959            Sacramento, California USA      Urijah Faber      61.0   \n",
       "3     1056                     San Diego, CA USA    Danny Martinez      56.0   \n",
       "4     2005                   Southampton England        Tom Watson      84.0   \n",
       "...    ...                                   ...               ...       ...   \n",
       "2313  1137  Coconut Creek, Florida United States         Nik Lentz      70.0   \n",
       "2314  1069    Milwaukee, Wisconsin United States    Anthony Pettis      70.0   \n",
       "2315  2101                 Rio de Janeiro Brazil      Alan Patrick      70.0   \n",
       "2316  1200          Houston, Texas United States     Tonya Evinger      61.0   \n",
       "2317  3072     Fontana, California United States      Jalin Turner      70.0   \n",
       "\n",
       "      B__Round1_Grappling_Reversals_Landed  ...  R__Round5_TIP_Ground Time  \\\n",
       "0                                      NaN  ...                        NaN   \n",
       "1                                      NaN  ...                        NaN   \n",
       "2                                      NaN  ...                        NaN   \n",
       "3                                      NaN  ...                        NaN   \n",
       "4                                      NaN  ...                        NaN   \n",
       "...                                    ...  ...                        ...   \n",
       "2313                                   0.0  ...                        NaN   \n",
       "2314                                   3.0  ...                        0.0   \n",
       "2315                                   0.0  ...                        NaN   \n",
       "2316                                   0.0  ...                        NaN   \n",
       "2317                                   NaN  ...                        NaN   \n",
       "\n",
       "      R__Round5_TIP_Guard Control Time  R__Round5_TIP_Half Guard Control Time  \\\n",
       "0                                  NaN                                    NaN   \n",
       "1                                  NaN                                    NaN   \n",
       "2                                  NaN                                    NaN   \n",
       "3                                  NaN                                    NaN   \n",
       "4                                  NaN                                    NaN   \n",
       "...                                ...                                    ...   \n",
       "2313                               NaN                                    NaN   \n",
       "2314                               0.0                                    0.0   \n",
       "2315                               NaN                                    NaN   \n",
       "2316                               NaN                                    NaN   \n",
       "2317                               NaN                                    NaN   \n",
       "\n",
       "      R__Round5_TIP_Misc. Ground Control Time  \\\n",
       "0                                         NaN   \n",
       "1                                         NaN   \n",
       "2                                         NaN   \n",
       "3                                         NaN   \n",
       "4                                         NaN   \n",
       "...                                       ...   \n",
       "2313                                      NaN   \n",
       "2314                                      0.0   \n",
       "2315                                      NaN   \n",
       "2316                                      NaN   \n",
       "2317                                      NaN   \n",
       "\n",
       "      R__Round5_TIP_Mount Control Time  R__Round5_TIP_Neutral Time  \\\n",
       "0                                  NaN                         NaN   \n",
       "1                                  NaN                         NaN   \n",
       "2                                  NaN                         NaN   \n",
       "3                                  NaN                         NaN   \n",
       "4                                  NaN                         NaN   \n",
       "...                                ...                         ...   \n",
       "2313                               NaN                         NaN   \n",
       "2314                               0.0                       298.0   \n",
       "2315                               NaN                         NaN   \n",
       "2316                               NaN                         NaN   \n",
       "2317                               NaN                         NaN   \n",
       "\n",
       "      R__Round5_TIP_Side Control Time  R__Round5_TIP_Standing Time   winby  \\\n",
       "0                                 NaN                          NaN     DEC   \n",
       "1                                 NaN                          NaN     DEC   \n",
       "2                                 NaN                          NaN  KO/TKO   \n",
       "3                                 NaN                          NaN     DEC   \n",
       "4                                 NaN                          NaN     DEC   \n",
       "...                               ...                          ...     ...   \n",
       "2313                              NaN                          NaN  KO/TKO   \n",
       "2314                              0.0                        298.0  KO/TKO   \n",
       "2315                              NaN                          NaN  KO/TKO   \n",
       "2316                              NaN                          NaN  KO/TKO   \n",
       "2317                              NaN                          NaN  KO/TKO   \n",
       "\n",
       "      winner  \n",
       "0       blue  \n",
       "1        red  \n",
       "2        red  \n",
       "3        red  \n",
       "4        red  \n",
       "...      ...  \n",
       "2313    blue  \n",
       "2314     red  \n",
       "2315     red  \n",
       "2316     red  \n",
       "2317     red  \n",
       "\n",
       "[2318 rows x 894 columns]>"
      ]
     },
     "execution_count": 3,
     "metadata": {},
     "output_type": "execute_result"
    }
   ],
   "source": [
    "print(data.shape)\n",
    "data.describe"
   ]
  },
  {
   "cell_type": "markdown",
   "id": "d2d35e5f",
   "metadata": {
    "papermill": {
     "duration": 0.043382,
     "end_time": "2022-03-06T22:08:47.907103",
     "exception": false,
     "start_time": "2022-03-06T22:08:47.863721",
     "status": "completed"
    },
    "tags": []
   },
   "source": [
    "## 3. Data Cleaning"
   ]
  },
  {
   "cell_type": "code",
   "execution_count": 4,
   "id": "d0381406",
   "metadata": {
    "execution": {
     "iopub.execute_input": "2022-03-06T22:08:47.996321Z",
     "iopub.status.busy": "2022-03-06T22:08:47.994327Z",
     "iopub.status.idle": "2022-03-06T22:08:48.008634Z",
     "shell.execute_reply": "2022-03-06T22:08:48.008090Z",
     "shell.execute_reply.started": "2022-03-06T22:08:22.449122Z"
    },
    "papermill": {
     "duration": 0.059148,
     "end_time": "2022-03-06T22:08:48.008763",
     "exception": false,
     "start_time": "2022-03-06T22:08:47.949615",
     "status": "completed"
    },
    "tags": []
   },
   "outputs": [
    {
     "data": {
      "text/plain": [
       "BPrev                                 0\n",
       "BStreak                               0\n",
       "B_Age                                17\n",
       "B_Height                             17\n",
       "B_HomeTown                           17\n",
       "                                   ... \n",
       "R__Round5_TIP_Neutral Time         2048\n",
       "R__Round5_TIP_Side Control Time    2048\n",
       "R__Round5_TIP_Standing Time        2048\n",
       "winby                                36\n",
       "winner                                0\n",
       "Length: 894, dtype: int64"
      ]
     },
     "execution_count": 4,
     "metadata": {},
     "output_type": "execute_result"
    }
   ],
   "source": [
    "data.isnull().sum(axis=0)"
   ]
  },
  {
   "cell_type": "code",
   "execution_count": 5,
   "id": "87dbddcb",
   "metadata": {
    "execution": {
     "iopub.execute_input": "2022-03-06T22:08:48.115680Z",
     "iopub.status.busy": "2022-03-06T22:08:48.115022Z",
     "iopub.status.idle": "2022-03-06T22:08:48.252735Z",
     "shell.execute_reply": "2022-03-06T22:08:48.253238Z",
     "shell.execute_reply.started": "2022-03-06T22:08:22.475881Z"
    },
    "papermill": {
     "duration": 0.201686,
     "end_time": "2022-03-06T22:08:48.253390",
     "exception": false,
     "start_time": "2022-03-06T22:08:48.051704",
     "status": "completed"
    },
    "tags": []
   },
   "outputs": [
    {
     "data": {
      "text/plain": [
       "617"
      ]
     },
     "execution_count": 5,
     "metadata": {},
     "output_type": "execute_result"
    }
   ],
   "source": [
    "# Removing columns with >30 % null values.\n",
    "\n",
    "nulls = []\n",
    "for i in data.columns:\n",
    "    counts = data[i].isnull().sum()\n",
    "    if (counts / len(data)) * 100 > 30:\n",
    "        nulls.append(i)\n",
    "\n",
    "len(nulls)"
   ]
  },
  {
   "cell_type": "code",
   "execution_count": 6,
   "id": "9c09a3f1",
   "metadata": {
    "execution": {
     "iopub.execute_input": "2022-03-06T22:08:48.343594Z",
     "iopub.status.busy": "2022-03-06T22:08:48.342956Z",
     "iopub.status.idle": "2022-03-06T22:08:48.350521Z",
     "shell.execute_reply": "2022-03-06T22:08:48.351110Z",
     "shell.execute_reply.started": "2022-03-06T22:08:22.685250Z"
    },
    "papermill": {
     "duration": 0.054282,
     "end_time": "2022-03-06T22:08:48.351290",
     "exception": false,
     "start_time": "2022-03-06T22:08:48.297008",
     "status": "completed"
    },
    "tags": []
   },
   "outputs": [],
   "source": [
    "dropdata = data.drop(nulls,axis=1)"
   ]
  },
  {
   "cell_type": "code",
   "execution_count": 7,
   "id": "99bb4adb",
   "metadata": {
    "execution": {
     "iopub.execute_input": "2022-03-06T22:08:48.442637Z",
     "iopub.status.busy": "2022-03-06T22:08:48.441992Z",
     "iopub.status.idle": "2022-03-06T22:08:48.444247Z",
     "shell.execute_reply": "2022-03-06T22:08:48.444771Z",
     "shell.execute_reply.started": "2022-03-06T22:08:22.693929Z"
    },
    "papermill": {
     "duration": 0.048318,
     "end_time": "2022-03-06T22:08:48.444914",
     "exception": false,
     "start_time": "2022-03-06T22:08:48.396596",
     "status": "completed"
    },
    "tags": []
   },
   "outputs": [],
   "source": [
    "# Time to delete columns that have no predictive power."
   ]
  },
  {
   "cell_type": "markdown",
   "id": "9b516d14",
   "metadata": {
    "papermill": {
     "duration": 0.051088,
     "end_time": "2022-03-06T22:08:48.541736",
     "exception": false,
     "start_time": "2022-03-06T22:08:48.490648",
     "status": "completed"
    },
    "tags": []
   },
   "source": []
  },
  {
   "cell_type": "code",
   "execution_count": 8,
   "id": "b0cae514",
   "metadata": {
    "execution": {
     "iopub.execute_input": "2022-03-06T22:08:48.635539Z",
     "iopub.status.busy": "2022-03-06T22:08:48.634693Z",
     "iopub.status.idle": "2022-03-06T22:08:48.643306Z",
     "shell.execute_reply": "2022-03-06T22:08:48.643847Z",
     "shell.execute_reply.started": "2022-03-06T22:08:22.703359Z"
    },
    "papermill": {
     "duration": 0.055629,
     "end_time": "2022-03-06T22:08:48.644005",
     "exception": false,
     "start_time": "2022-03-06T22:08:48.588376",
     "status": "completed"
    },
    "tags": []
   },
   "outputs": [],
   "source": [
    "dropdata = dropdata.drop(['B_ID','B_Name','R_ID','R_Name','winby','Date','B_HomeTown','B_Location','R_HomeTown','R_Location'],axis=1)"
   ]
  },
  {
   "cell_type": "code",
   "execution_count": 9,
   "id": "82d104da",
   "metadata": {
    "execution": {
     "iopub.execute_input": "2022-03-06T22:08:48.735890Z",
     "iopub.status.busy": "2022-03-06T22:08:48.735259Z",
     "iopub.status.idle": "2022-03-06T22:08:48.737710Z",
     "shell.execute_reply": "2022-03-06T22:08:48.738243Z",
     "shell.execute_reply.started": "2022-03-06T22:08:22.716818Z"
    },
    "papermill": {
     "duration": 0.050646,
     "end_time": "2022-03-06T22:08:48.738387",
     "exception": false,
     "start_time": "2022-03-06T22:08:48.687741",
     "status": "completed"
    },
    "tags": []
   },
   "outputs": [
    {
     "data": {
      "text/plain": [
       "(2318, 267)"
      ]
     },
     "execution_count": 9,
     "metadata": {},
     "output_type": "execute_result"
    }
   ],
   "source": [
    "dropdata.shape"
   ]
  },
  {
   "cell_type": "code",
   "execution_count": 10,
   "id": "14108501",
   "metadata": {
    "execution": {
     "iopub.execute_input": "2022-03-06T22:08:48.831547Z",
     "iopub.status.busy": "2022-03-06T22:08:48.830932Z",
     "iopub.status.idle": "2022-03-06T22:08:48.833028Z",
     "shell.execute_reply": "2022-03-06T22:08:48.833599Z",
     "shell.execute_reply.started": "2022-03-06T22:08:22.734043Z"
    },
    "papermill": {
     "duration": 0.05122,
     "end_time": "2022-03-06T22:08:48.833731",
     "exception": false,
     "start_time": "2022-03-06T22:08:48.782511",
     "status": "completed"
    },
    "tags": []
   },
   "outputs": [],
   "source": [
    "master = dropdata"
   ]
  },
  {
   "cell_type": "code",
   "execution_count": 11,
   "id": "6b73e28b",
   "metadata": {
    "execution": {
     "iopub.execute_input": "2022-03-06T22:08:48.923492Z",
     "iopub.status.busy": "2022-03-06T22:08:48.922871Z",
     "iopub.status.idle": "2022-03-06T22:08:48.926774Z",
     "shell.execute_reply": "2022-03-06T22:08:48.927335Z",
     "shell.execute_reply.started": "2022-03-06T22:08:22.744918Z"
    },
    "papermill": {
     "duration": 0.050171,
     "end_time": "2022-03-06T22:08:48.927483",
     "exception": false,
     "start_time": "2022-03-06T22:08:48.877312",
     "status": "completed"
    },
    "tags": []
   },
   "outputs": [
    {
     "data": {
      "text/plain": [
       "<function print>"
      ]
     },
     "execution_count": 11,
     "metadata": {},
     "output_type": "execute_result"
    }
   ],
   "source": [
    "print"
   ]
  },
  {
   "cell_type": "code",
   "execution_count": 12,
   "id": "262d8c5e",
   "metadata": {
    "execution": {
     "iopub.execute_input": "2022-03-06T22:08:49.019387Z",
     "iopub.status.busy": "2022-03-06T22:08:49.018821Z",
     "iopub.status.idle": "2022-03-06T22:08:49.077634Z",
     "shell.execute_reply": "2022-03-06T22:08:49.078138Z",
     "shell.execute_reply.started": "2022-03-06T22:08:22.757802Z"
    },
    "papermill": {
     "duration": 0.107155,
     "end_time": "2022-03-06T22:08:49.078299",
     "exception": false,
     "start_time": "2022-03-06T22:08:48.971144",
     "status": "completed"
    },
    "tags": []
   },
   "outputs": [
    {
     "name": "stderr",
     "output_type": "stream",
     "text": [
      "/opt/conda/lib/python3.7/site-packages/ipykernel_launcher.py:3: FutureWarning: Dropping of nuisance columns in DataFrame reductions (with 'numeric_only=None') is deprecated; in a future version this will raise TypeError.  Select only valid columns before calling the reduction.\n",
      "  This is separate from the ipykernel package so we can avoid doing imports until\n"
     ]
    }
   ],
   "source": [
    "# Filling in NaN's with median value for the column.\n",
    "\n",
    "master.fillna(master.median(), inplace=True)"
   ]
  },
  {
   "cell_type": "code",
   "execution_count": 13,
   "id": "33141ccc",
   "metadata": {
    "execution": {
     "iopub.execute_input": "2022-03-06T22:08:49.170425Z",
     "iopub.status.busy": "2022-03-06T22:08:49.169838Z",
     "iopub.status.idle": "2022-03-06T22:08:49.363807Z",
     "shell.execute_reply": "2022-03-06T22:08:49.363272Z",
     "shell.execute_reply.started": "2022-03-06T22:08:22.830709Z"
    },
    "papermill": {
     "duration": 0.241095,
     "end_time": "2022-03-06T22:08:49.363937",
     "exception": false,
     "start_time": "2022-03-06T22:08:49.122842",
     "status": "completed"
    },
    "tags": []
   },
   "outputs": [
    {
     "name": "stdout",
     "output_type": "stream",
     "text": [
      "Total NaN in dataframe : 0\n",
      "Total NaN in each column of the dataframe\n",
      "BPrev : 0 NaN\n",
      "BStreak : 0 NaN\n",
      "B_Age : 0 NaN\n",
      "B_Height : 0 NaN\n",
      "B_Weight : 0 NaN\n",
      "B__Round1_Grappling_Reversals_Landed : 0 NaN\n",
      "B__Round1_Grappling_Standups_Landed : 0 NaN\n",
      "B__Round1_Grappling_Submissions_Attempts : 0 NaN\n",
      "B__Round1_Grappling_Takedowns_Attempts : 0 NaN\n",
      "B__Round1_Grappling_Takedowns_Landed : 0 NaN\n",
      "B__Round1_Strikes_Body Significant Strikes_Attempts : 0 NaN\n",
      "B__Round1_Strikes_Body Significant Strikes_Landed : 0 NaN\n",
      "B__Round1_Strikes_Body Total Strikes_Attempts : 0 NaN\n",
      "B__Round1_Strikes_Body Total Strikes_Landed : 0 NaN\n",
      "B__Round1_Strikes_Clinch Body Strikes_Attempts : 0 NaN\n",
      "B__Round1_Strikes_Clinch Body Strikes_Landed : 0 NaN\n",
      "B__Round1_Strikes_Clinch Head Strikes_Attempts : 0 NaN\n",
      "B__Round1_Strikes_Clinch Head Strikes_Landed : 0 NaN\n",
      "B__Round1_Strikes_Clinch Leg Strikes_Attempts : 0 NaN\n",
      "B__Round1_Strikes_Clinch Leg Strikes_Landed : 0 NaN\n",
      "B__Round1_Strikes_Clinch Significant Kicks_Attempts : 0 NaN\n",
      "B__Round1_Strikes_Clinch Significant Kicks_Landed : 0 NaN\n",
      "B__Round1_Strikes_Clinch Significant Punches_Attempts : 0 NaN\n",
      "B__Round1_Strikes_Clinch Significant Punches_Landed : 0 NaN\n",
      "B__Round1_Strikes_Clinch Significant Strikes_Attempts : 0 NaN\n",
      "B__Round1_Strikes_Clinch Significant Strikes_Landed : 0 NaN\n",
      "B__Round1_Strikes_Clinch Total Strikes_Attempts : 0 NaN\n",
      "B__Round1_Strikes_Clinch Total Strikes_Landed : 0 NaN\n",
      "B__Round1_Strikes_Distance Body Kicks_Attempts : 0 NaN\n",
      "B__Round1_Strikes_Distance Body Kicks_Landed : 0 NaN\n",
      "B__Round1_Strikes_Distance Body Punches_Attempts : 0 NaN\n",
      "B__Round1_Strikes_Distance Body Punches_Landed : 0 NaN\n",
      "B__Round1_Strikes_Distance Body Strikes_Attempts : 0 NaN\n",
      "B__Round1_Strikes_Distance Body Strikes_Landed : 0 NaN\n",
      "B__Round1_Strikes_Distance Head Kicks_Attempts : 0 NaN\n",
      "B__Round1_Strikes_Distance Head Kicks_Landed : 0 NaN\n",
      "B__Round1_Strikes_Distance Head Punches_Attempts : 0 NaN\n",
      "B__Round1_Strikes_Distance Head Punches_Landed : 0 NaN\n",
      "B__Round1_Strikes_Distance Head Strikes_Attempts : 0 NaN\n",
      "B__Round1_Strikes_Distance Head Strikes_Landed : 0 NaN\n",
      "B__Round1_Strikes_Distance Leg Kicks_Attempts : 0 NaN\n",
      "B__Round1_Strikes_Distance Leg Kicks_Landed : 0 NaN\n",
      "B__Round1_Strikes_Distance Leg Strikes_Attempts : 0 NaN\n",
      "B__Round1_Strikes_Distance Leg Strikes_Landed : 0 NaN\n",
      "B__Round1_Strikes_Distance Strikes_Attempts : 0 NaN\n",
      "B__Round1_Strikes_Distance Strikes_Landed : 0 NaN\n",
      "B__Round1_Strikes_Ground Body Strikes_Attempts : 0 NaN\n",
      "B__Round1_Strikes_Ground Body Strikes_Landed : 0 NaN\n",
      "B__Round1_Strikes_Ground Head Strikes_Attempts : 0 NaN\n",
      "B__Round1_Strikes_Ground Head Strikes_Landed : 0 NaN\n",
      "B__Round1_Strikes_Ground Leg Strikes_Attempts : 0 NaN\n",
      "B__Round1_Strikes_Ground Leg Strikes_Landed : 0 NaN\n",
      "B__Round1_Strikes_Ground Significant Kicks_Attempts : 0 NaN\n",
      "B__Round1_Strikes_Ground Significant Kicks_Landed : 0 NaN\n",
      "B__Round1_Strikes_Ground Significant Punches_Attempts : 0 NaN\n",
      "B__Round1_Strikes_Ground Significant Punches_Landed : 0 NaN\n",
      "B__Round1_Strikes_Ground Significant Strikes_Attempts : 0 NaN\n",
      "B__Round1_Strikes_Ground Significant Strikes_Landed : 0 NaN\n",
      "B__Round1_Strikes_Ground Total Strikes_Attempts : 0 NaN\n",
      "B__Round1_Strikes_Ground Total Strikes_Landed : 0 NaN\n",
      "B__Round1_Strikes_Head Significant Strikes_Attempts : 0 NaN\n",
      "B__Round1_Strikes_Head Significant Strikes_Landed : 0 NaN\n",
      "B__Round1_Strikes_Head Total Strikes_Attempts : 0 NaN\n",
      "B__Round1_Strikes_Head Total Strikes_Landed : 0 NaN\n",
      "B__Round1_Strikes_Kicks_Attempts : 0 NaN\n",
      "B__Round1_Strikes_Kicks_Landed : 0 NaN\n",
      "B__Round1_Strikes_Knock Down_Landed : 0 NaN\n",
      "B__Round1_Strikes_Legs Significant Strikes_Attempts : 0 NaN\n",
      "B__Round1_Strikes_Legs Significant Strikes_Landed : 0 NaN\n",
      "B__Round1_Strikes_Punches_Attempts : 0 NaN\n",
      "B__Round1_Strikes_Punches_Landed : 0 NaN\n",
      "B__Round1_Strikes_Significant Strikes_Attempts : 0 NaN\n",
      "B__Round1_Strikes_Significant Strikes_Landed : 0 NaN\n",
      "B__Round1_Strikes_Total Strikes_Attempts : 0 NaN\n",
      "B__Round1_Strikes_Total Strikes_Landed : 0 NaN\n",
      "B__Round1_TIP_Back Control Time : 0 NaN\n",
      "B__Round1_TIP_Clinch Time : 0 NaN\n",
      "B__Round1_TIP_Control Time : 0 NaN\n",
      "B__Round1_TIP_Distance Time : 0 NaN\n",
      "B__Round1_TIP_Ground Control Time : 0 NaN\n",
      "B__Round1_TIP_Ground Time : 0 NaN\n",
      "B__Round1_TIP_Guard Control Time : 0 NaN\n",
      "B__Round1_TIP_Half Guard Control Time : 0 NaN\n",
      "B__Round1_TIP_Misc. Ground Control Time : 0 NaN\n",
      "B__Round1_TIP_Mount Control Time : 0 NaN\n",
      "B__Round1_TIP_Neutral Time : 0 NaN\n",
      "B__Round1_TIP_Side Control Time : 0 NaN\n",
      "B__Round1_TIP_Standing Time : 0 NaN\n",
      "Event_ID : 0 NaN\n",
      "Fight_ID : 0 NaN\n",
      "Last_round : 0 NaN\n",
      "Max_round : 0 NaN\n",
      "RPrev : 0 NaN\n",
      "R_Age : 0 NaN\n",
      "R_Height : 0 NaN\n",
      "R_Weight : 0 NaN\n",
      "R__Round1_Grappling_Reversals_Landed : 0 NaN\n",
      "R__Round1_Grappling_Standups_Landed : 0 NaN\n",
      "R__Round1_Grappling_Submissions_Attempts : 0 NaN\n",
      "R__Round1_Grappling_Takedowns_Attempts : 0 NaN\n",
      "R__Round1_Grappling_Takedowns_Landed : 0 NaN\n",
      "R__Round1_Strikes_Body Significant Strikes_Attempts : 0 NaN\n",
      "R__Round1_Strikes_Body Significant Strikes_Landed : 0 NaN\n",
      "R__Round1_Strikes_Body Total Strikes_Attempts : 0 NaN\n",
      "R__Round1_Strikes_Body Total Strikes_Landed : 0 NaN\n",
      "R__Round1_Strikes_Clinch Body Strikes_Attempts : 0 NaN\n",
      "R__Round1_Strikes_Clinch Body Strikes_Landed : 0 NaN\n",
      "R__Round1_Strikes_Clinch Head Strikes_Attempts : 0 NaN\n",
      "R__Round1_Strikes_Clinch Head Strikes_Landed : 0 NaN\n",
      "R__Round1_Strikes_Clinch Leg Strikes_Attempts : 0 NaN\n",
      "R__Round1_Strikes_Clinch Leg Strikes_Landed : 0 NaN\n",
      "R__Round1_Strikes_Clinch Significant Kicks_Attempts : 0 NaN\n",
      "R__Round1_Strikes_Clinch Significant Kicks_Landed : 0 NaN\n",
      "R__Round1_Strikes_Clinch Significant Punches_Attempts : 0 NaN\n",
      "R__Round1_Strikes_Clinch Significant Punches_Landed : 0 NaN\n",
      "R__Round1_Strikes_Clinch Significant Strikes_Attempts : 0 NaN\n",
      "R__Round1_Strikes_Clinch Significant Strikes_Landed : 0 NaN\n",
      "R__Round1_Strikes_Clinch Total Strikes_Attempts : 0 NaN\n",
      "R__Round1_Strikes_Clinch Total Strikes_Landed : 0 NaN\n",
      "R__Round1_Strikes_Distance Body Kicks_Attempts : 0 NaN\n",
      "R__Round1_Strikes_Distance Body Kicks_Landed : 0 NaN\n",
      "R__Round1_Strikes_Distance Body Punches_Attempts : 0 NaN\n",
      "R__Round1_Strikes_Distance Body Punches_Landed : 0 NaN\n",
      "R__Round1_Strikes_Distance Body Strikes_Attempts : 0 NaN\n",
      "R__Round1_Strikes_Distance Body Strikes_Landed : 0 NaN\n",
      "R__Round1_Strikes_Distance Head Kicks_Attempts : 0 NaN\n",
      "R__Round1_Strikes_Distance Head Kicks_Landed : 0 NaN\n",
      "R__Round1_Strikes_Distance Head Punches_Attempts : 0 NaN\n",
      "R__Round1_Strikes_Distance Head Punches_Landed : 0 NaN\n",
      "R__Round1_Strikes_Distance Head Strikes_Attempts : 0 NaN\n",
      "R__Round1_Strikes_Distance Head Strikes_Landed : 0 NaN\n",
      "R__Round1_Strikes_Distance Leg Kicks_Attempts : 0 NaN\n",
      "R__Round1_Strikes_Distance Leg Kicks_Landed : 0 NaN\n",
      "R__Round1_Strikes_Distance Leg Strikes_Attempts : 0 NaN\n",
      "R__Round1_Strikes_Distance Leg Strikes_Landed : 0 NaN\n",
      "R__Round1_Strikes_Distance Strikes_Attempts : 0 NaN\n",
      "R__Round1_Strikes_Distance Strikes_Landed : 0 NaN\n",
      "R__Round1_Strikes_Ground Body Strikes_Attempts : 0 NaN\n",
      "R__Round1_Strikes_Ground Body Strikes_Landed : 0 NaN\n",
      "R__Round1_Strikes_Ground Head Strikes_Attempts : 0 NaN\n",
      "R__Round1_Strikes_Ground Head Strikes_Landed : 0 NaN\n",
      "R__Round1_Strikes_Ground Leg Strikes_Attempts : 0 NaN\n",
      "R__Round1_Strikes_Ground Leg Strikes_Landed : 0 NaN\n",
      "R__Round1_Strikes_Ground Significant Kicks_Attempts : 0 NaN\n",
      "R__Round1_Strikes_Ground Significant Kicks_Landed : 0 NaN\n",
      "R__Round1_Strikes_Ground Significant Punches_Attempts : 0 NaN\n",
      "R__Round1_Strikes_Ground Significant Punches_Landed : 0 NaN\n",
      "R__Round1_Strikes_Ground Significant Strikes_Attempts : 0 NaN\n",
      "R__Round1_Strikes_Ground Significant Strikes_Landed : 0 NaN\n",
      "R__Round1_Strikes_Ground Total Strikes_Attempts : 0 NaN\n",
      "R__Round1_Strikes_Ground Total Strikes_Landed : 0 NaN\n",
      "R__Round1_Strikes_Head Significant Strikes_Attempts : 0 NaN\n",
      "R__Round1_Strikes_Head Significant Strikes_Landed : 0 NaN\n",
      "R__Round1_Strikes_Head Total Strikes_Attempts : 0 NaN\n",
      "R__Round1_Strikes_Head Total Strikes_Landed : 0 NaN\n",
      "R__Round1_Strikes_Kicks_Attempts : 0 NaN\n",
      "R__Round1_Strikes_Kicks_Landed : 0 NaN\n",
      "R__Round1_Strikes_Knock Down_Landed : 0 NaN\n",
      "R__Round1_Strikes_Legs Significant Strikes_Attempts : 0 NaN\n",
      "R__Round1_Strikes_Legs Significant Strikes_Landed : 0 NaN\n",
      "R__Round1_Strikes_Legs Total Strikes_Attempts : 0 NaN\n",
      "R__Round1_Strikes_Legs Total Strikes_Landed : 0 NaN\n",
      "R__Round1_Strikes_Punches_Attempts : 0 NaN\n",
      "R__Round1_Strikes_Punches_Landed : 0 NaN\n",
      "R__Round1_Strikes_Significant Strikes_Attempts : 0 NaN\n",
      "R__Round1_Strikes_Significant Strikes_Landed : 0 NaN\n",
      "R__Round1_Strikes_Total Strikes_Attempts : 0 NaN\n",
      "R__Round1_Strikes_Total Strikes_Landed : 0 NaN\n",
      "R__Round1_TIP_Back Control Time : 0 NaN\n",
      "R__Round1_TIP_Clinch Time : 0 NaN\n",
      "R__Round1_TIP_Control Time : 0 NaN\n",
      "R__Round1_TIP_Distance Time : 0 NaN\n",
      "R__Round1_TIP_Ground Control Time : 0 NaN\n",
      "R__Round1_TIP_Ground Time : 0 NaN\n",
      "R__Round1_TIP_Guard Control Time : 0 NaN\n",
      "R__Round1_TIP_Half Guard Control Time : 0 NaN\n",
      "R__Round1_TIP_Misc. Ground Control Time : 0 NaN\n",
      "R__Round1_TIP_Mount Control Time : 0 NaN\n",
      "R__Round1_TIP_Neutral Time : 0 NaN\n",
      "R__Round1_TIP_Side Control Time : 0 NaN\n",
      "R__Round1_TIP_Standing Time : 0 NaN\n",
      "R__Round2_Grappling_Reversals_Landed : 0 NaN\n",
      "R__Round2_Grappling_Standups_Landed : 0 NaN\n",
      "R__Round2_Grappling_Submissions_Attempts : 0 NaN\n",
      "R__Round2_Grappling_Takedowns_Attempts : 0 NaN\n",
      "R__Round2_Grappling_Takedowns_Landed : 0 NaN\n",
      "R__Round2_Strikes_Body Significant Strikes_Attempts : 0 NaN\n",
      "R__Round2_Strikes_Body Significant Strikes_Landed : 0 NaN\n",
      "R__Round2_Strikes_Body Total Strikes_Attempts : 0 NaN\n",
      "R__Round2_Strikes_Body Total Strikes_Landed : 0 NaN\n",
      "R__Round2_Strikes_Clinch Body Strikes_Attempts : 0 NaN\n",
      "R__Round2_Strikes_Clinch Body Strikes_Landed : 0 NaN\n",
      "R__Round2_Strikes_Clinch Head Strikes_Attempts : 0 NaN\n",
      "R__Round2_Strikes_Clinch Head Strikes_Landed : 0 NaN\n",
      "R__Round2_Strikes_Clinch Leg Strikes_Attempts : 0 NaN\n",
      "R__Round2_Strikes_Clinch Leg Strikes_Landed : 0 NaN\n",
      "R__Round2_Strikes_Clinch Significant Kicks_Attempts : 0 NaN\n",
      "R__Round2_Strikes_Clinch Significant Kicks_Landed : 0 NaN\n",
      "R__Round2_Strikes_Clinch Significant Punches_Attempts : 0 NaN\n",
      "R__Round2_Strikes_Clinch Significant Punches_Landed : 0 NaN\n",
      "R__Round2_Strikes_Clinch Significant Strikes_Attempts : 0 NaN\n",
      "R__Round2_Strikes_Clinch Significant Strikes_Landed : 0 NaN\n",
      "R__Round2_Strikes_Clinch Total Strikes_Attempts : 0 NaN\n",
      "R__Round2_Strikes_Clinch Total Strikes_Landed : 0 NaN\n",
      "R__Round2_Strikes_Distance Body Kicks_Attempts : 0 NaN\n",
      "R__Round2_Strikes_Distance Body Kicks_Landed : 0 NaN\n",
      "R__Round2_Strikes_Distance Body Punches_Attempts : 0 NaN\n",
      "R__Round2_Strikes_Distance Body Punches_Landed : 0 NaN\n",
      "R__Round2_Strikes_Distance Body Strikes_Attempts : 0 NaN\n",
      "R__Round2_Strikes_Distance Body Strikes_Landed : 0 NaN\n",
      "R__Round2_Strikes_Distance Head Kicks_Attempts : 0 NaN\n",
      "R__Round2_Strikes_Distance Head Kicks_Landed : 0 NaN\n",
      "R__Round2_Strikes_Distance Head Punches_Attempts : 0 NaN\n",
      "R__Round2_Strikes_Distance Head Punches_Landed : 0 NaN\n",
      "R__Round2_Strikes_Distance Head Strikes_Attempts : 0 NaN\n",
      "R__Round2_Strikes_Distance Head Strikes_Landed : 0 NaN\n",
      "R__Round2_Strikes_Distance Leg Kicks_Attempts : 0 NaN\n",
      "R__Round2_Strikes_Distance Leg Kicks_Landed : 0 NaN\n",
      "R__Round2_Strikes_Distance Leg Strikes_Attempts : 0 NaN\n",
      "R__Round2_Strikes_Distance Leg Strikes_Landed : 0 NaN\n",
      "R__Round2_Strikes_Distance Strikes_Attempts : 0 NaN\n",
      "R__Round2_Strikes_Distance Strikes_Landed : 0 NaN\n",
      "R__Round2_Strikes_Ground Body Strikes_Attempts : 0 NaN\n",
      "R__Round2_Strikes_Ground Body Strikes_Landed : 0 NaN\n",
      "R__Round2_Strikes_Ground Head Strikes_Attempts : 0 NaN\n",
      "R__Round2_Strikes_Ground Head Strikes_Landed : 0 NaN\n",
      "R__Round2_Strikes_Ground Leg Strikes_Attempts : 0 NaN\n",
      "R__Round2_Strikes_Ground Leg Strikes_Landed : 0 NaN\n",
      "R__Round2_Strikes_Ground Significant Kicks_Attempts : 0 NaN\n",
      "R__Round2_Strikes_Ground Significant Kicks_Landed : 0 NaN\n",
      "R__Round2_Strikes_Ground Significant Punches_Attempts : 0 NaN\n",
      "R__Round2_Strikes_Ground Significant Punches_Landed : 0 NaN\n",
      "R__Round2_Strikes_Ground Significant Strikes_Attempts : 0 NaN\n",
      "R__Round2_Strikes_Ground Significant Strikes_Landed : 0 NaN\n",
      "R__Round2_Strikes_Ground Total Strikes_Attempts : 0 NaN\n",
      "R__Round2_Strikes_Ground Total Strikes_Landed : 0 NaN\n",
      "R__Round2_Strikes_Head Significant Strikes_Attempts : 0 NaN\n",
      "R__Round2_Strikes_Head Significant Strikes_Landed : 0 NaN\n",
      "R__Round2_Strikes_Head Total Strikes_Attempts : 0 NaN\n",
      "R__Round2_Strikes_Head Total Strikes_Landed : 0 NaN\n",
      "R__Round2_Strikes_Kicks_Attempts : 0 NaN\n",
      "R__Round2_Strikes_Kicks_Landed : 0 NaN\n",
      "R__Round2_Strikes_Knock Down_Landed : 0 NaN\n",
      "R__Round2_Strikes_Legs Significant Strikes_Attempts : 0 NaN\n",
      "R__Round2_Strikes_Legs Significant Strikes_Landed : 0 NaN\n",
      "R__Round2_Strikes_Legs Total Strikes_Attempts : 0 NaN\n",
      "R__Round2_Strikes_Legs Total Strikes_Landed : 0 NaN\n",
      "R__Round2_Strikes_Punches_Attempts : 0 NaN\n",
      "R__Round2_Strikes_Punches_Landed : 0 NaN\n",
      "R__Round2_Strikes_Significant Strikes_Attempts : 0 NaN\n",
      "R__Round2_Strikes_Significant Strikes_Landed : 0 NaN\n",
      "R__Round2_Strikes_Total Strikes_Attempts : 0 NaN\n",
      "R__Round2_Strikes_Total Strikes_Landed : 0 NaN\n",
      "R__Round2_TIP_Back Control Time : 0 NaN\n",
      "R__Round2_TIP_Clinch Time : 0 NaN\n",
      "R__Round2_TIP_Control Time : 0 NaN\n",
      "R__Round2_TIP_Distance Time : 0 NaN\n",
      "R__Round2_TIP_Ground Control Time : 0 NaN\n",
      "R__Round2_TIP_Ground Time : 0 NaN\n",
      "R__Round2_TIP_Guard Control Time : 0 NaN\n",
      "R__Round2_TIP_Half Guard Control Time : 0 NaN\n",
      "R__Round2_TIP_Misc. Ground Control Time : 0 NaN\n",
      "R__Round2_TIP_Mount Control Time : 0 NaN\n",
      "R__Round2_TIP_Neutral Time : 0 NaN\n",
      "R__Round2_TIP_Side Control Time : 0 NaN\n",
      "R__Round2_TIP_Standing Time : 0 NaN\n",
      "winner : 0 NaN\n"
     ]
    }
   ],
   "source": [
    "# Printing total NaN's for all columns.  Shoutout to Charles B. (Kaggle) for the code.\n",
    "\n",
    "print(\"Total NaN in dataframe :\" , master.isna().sum().sum())\n",
    "print(\"Total NaN in each column of the dataframe\")\n",
    "na = []\n",
    "for index, col in enumerate(master):\n",
    "    na.append((index, master[col].isna().sum())) \n",
    "na_sorted = na.copy()\n",
    "na_sorted.sort(key = lambda x: x[1], reverse = True) \n",
    "\n",
    "for i in range(len(master.columns)):\n",
    "    print(master.columns[na_sorted[i][0]],\":\", na_sorted[i][1], \"NaN\")"
   ]
  },
  {
   "cell_type": "code",
   "execution_count": 14,
   "id": "88e277ea",
   "metadata": {
    "execution": {
     "iopub.execute_input": "2022-03-06T22:08:49.460742Z",
     "iopub.status.busy": "2022-03-06T22:08:49.460012Z",
     "iopub.status.idle": "2022-03-06T22:08:49.463887Z",
     "shell.execute_reply": "2022-03-06T22:08:49.463224Z",
     "shell.execute_reply.started": "2022-03-06T22:08:23.058604Z"
    },
    "papermill": {
     "duration": 0.054413,
     "end_time": "2022-03-06T22:08:49.464048",
     "exception": false,
     "start_time": "2022-03-06T22:08:49.409635",
     "status": "completed"
    },
    "tags": []
   },
   "outputs": [
    {
     "name": "stdout",
     "output_type": "stream",
     "text": [
      "01/01/2018\n",
      "24/10/2015\n"
     ]
    }
   ],
   "source": [
    "# Checking the timeframe of the fight data to ensure no fight data is prior to the unified rules adoption in April 2001.\n",
    "\n",
    "print(data['Date'].min())\n",
    "print((data['Date'].max()))"
   ]
  },
  {
   "cell_type": "markdown",
   "id": "5cc4a51f",
   "metadata": {
    "papermill": {
     "duration": 0.046451,
     "end_time": "2022-03-06T22:08:49.557361",
     "exception": false,
     "start_time": "2022-03-06T22:08:49.510910",
     "status": "completed"
    },
    "tags": []
   },
   "source": [
    "### Dropping all \"draw\" and \"no contests\" from target variable so that we're left with only red winner or blue winner."
   ]
  },
  {
   "cell_type": "code",
   "execution_count": 15,
   "id": "924d2cc8",
   "metadata": {
    "execution": {
     "iopub.execute_input": "2022-03-06T22:08:49.657025Z",
     "iopub.status.busy": "2022-03-06T22:08:49.656363Z",
     "iopub.status.idle": "2022-03-06T22:08:49.660220Z",
     "shell.execute_reply": "2022-03-06T22:08:49.659570Z",
     "shell.execute_reply.started": "2022-03-06T22:08:23.067619Z"
    },
    "papermill": {
     "duration": 0.057342,
     "end_time": "2022-03-06T22:08:49.660352",
     "exception": false,
     "start_time": "2022-03-06T22:08:49.603010",
     "status": "completed"
    },
    "tags": []
   },
   "outputs": [],
   "source": [
    "master.drop(master.index[master['winner'] == 'draw'], inplace = True)"
   ]
  },
  {
   "cell_type": "code",
   "execution_count": 16,
   "id": "5a784efd",
   "metadata": {
    "execution": {
     "iopub.execute_input": "2022-03-06T22:08:49.763434Z",
     "iopub.status.busy": "2022-03-06T22:08:49.762787Z",
     "iopub.status.idle": "2022-03-06T22:08:49.765860Z",
     "shell.execute_reply": "2022-03-06T22:08:49.765208Z",
     "shell.execute_reply.started": "2022-03-06T22:08:23.082553Z"
    },
    "papermill": {
     "duration": 0.058864,
     "end_time": "2022-03-06T22:08:49.765998",
     "exception": false,
     "start_time": "2022-03-06T22:08:49.707134",
     "status": "completed"
    },
    "tags": []
   },
   "outputs": [],
   "source": [
    "master.drop(master.index[master['winner'] == 'no contest'], inplace = True)"
   ]
  },
  {
   "cell_type": "code",
   "execution_count": 17,
   "id": "f00927d5",
   "metadata": {
    "execution": {
     "iopub.execute_input": "2022-03-06T22:08:49.864975Z",
     "iopub.status.busy": "2022-03-06T22:08:49.864339Z",
     "iopub.status.idle": "2022-03-06T22:08:49.866813Z",
     "shell.execute_reply": "2022-03-06T22:08:49.867292Z",
     "shell.execute_reply.started": "2022-03-06T22:08:23.094208Z"
    },
    "papermill": {
     "duration": 0.055213,
     "end_time": "2022-03-06T22:08:49.867485",
     "exception": false,
     "start_time": "2022-03-06T22:08:49.812272",
     "status": "completed"
    },
    "tags": []
   },
   "outputs": [],
   "source": [
    "# Target variable is either \"red\" or \"blue\" (the winner of the fight).  Transforming to \"1\" and \"0\".\n",
    "\n",
    "from sklearn.preprocessing import OrdinalEncoder, LabelEncoder\n",
    "\n",
    "le = LabelEncoder()\n",
    "master['winner'] = le.fit_transform(master['winner'])"
   ]
  },
  {
   "cell_type": "code",
   "execution_count": 18,
   "id": "3d186623",
   "metadata": {
    "execution": {
     "iopub.execute_input": "2022-03-06T22:08:49.966781Z",
     "iopub.status.busy": "2022-03-06T22:08:49.965282Z",
     "iopub.status.idle": "2022-03-06T22:08:49.968978Z",
     "shell.execute_reply": "2022-03-06T22:08:49.968376Z",
     "shell.execute_reply.started": "2022-03-06T22:08:23.103534Z"
    },
    "papermill": {
     "duration": 0.05478,
     "end_time": "2022-03-06T22:08:49.969109",
     "exception": false,
     "start_time": "2022-03-06T22:08:49.914329",
     "status": "completed"
    },
    "tags": []
   },
   "outputs": [],
   "source": [
    "# Creating our test and train datasets\n",
    "\n",
    "X = master.drop(['winner'], axis=1)\n",
    "y = master['winner']"
   ]
  },
  {
   "cell_type": "code",
   "execution_count": 19,
   "id": "53999a51",
   "metadata": {
    "execution": {
     "iopub.execute_input": "2022-03-06T22:08:50.070139Z",
     "iopub.status.busy": "2022-03-06T22:08:50.069515Z",
     "iopub.status.idle": "2022-03-06T22:08:50.072977Z",
     "shell.execute_reply": "2022-03-06T22:08:50.072466Z",
     "shell.execute_reply.started": "2022-03-06T22:08:23.118580Z"
    },
    "papermill": {
     "duration": 0.057892,
     "end_time": "2022-03-06T22:08:50.073109",
     "exception": false,
     "start_time": "2022-03-06T22:08:50.015217",
     "status": "completed"
    },
    "tags": []
   },
   "outputs": [],
   "source": [
    "from sklearn.model_selection import train_test_split\n",
    "\n",
    "X_train, X_test, y_train, y_test = train_test_split(X, y, test_size=0.2,random_state=25)"
   ]
  },
  {
   "cell_type": "code",
   "execution_count": 20,
   "id": "67934abe",
   "metadata": {
    "execution": {
     "iopub.execute_input": "2022-03-06T22:08:50.171920Z",
     "iopub.status.busy": "2022-03-06T22:08:50.171246Z",
     "iopub.status.idle": "2022-03-06T22:08:50.174816Z",
     "shell.execute_reply": "2022-03-06T22:08:50.174199Z",
     "shell.execute_reply.started": "2022-03-06T22:08:23.132449Z"
    },
    "papermill": {
     "duration": 0.05512,
     "end_time": "2022-03-06T22:08:50.174939",
     "exception": false,
     "start_time": "2022-03-06T22:08:50.119819",
     "status": "completed"
    },
    "tags": []
   },
   "outputs": [
    {
     "data": {
      "text/plain": [
       "((1822, 266), (456, 266))"
      ]
     },
     "execution_count": 20,
     "metadata": {},
     "output_type": "execute_result"
    }
   ],
   "source": [
    "X_train.shape, X_test.shape"
   ]
  },
  {
   "cell_type": "code",
   "execution_count": 21,
   "id": "0ec0516a",
   "metadata": {
    "execution": {
     "iopub.execute_input": "2022-03-06T22:08:50.281870Z",
     "iopub.status.busy": "2022-03-06T22:08:50.281228Z",
     "iopub.status.idle": "2022-03-06T22:08:50.288544Z",
     "shell.execute_reply": "2022-03-06T22:08:50.289141Z",
     "shell.execute_reply.started": "2022-03-06T22:08:23.142454Z"
    },
    "papermill": {
     "duration": 0.067372,
     "end_time": "2022-03-06T22:08:50.289294",
     "exception": false,
     "start_time": "2022-03-06T22:08:50.221922",
     "status": "completed"
    },
    "tags": []
   },
   "outputs": [
    {
     "name": "stdout",
     "output_type": "stream",
     "text": [
      "BPrev                                                      int64\n",
      "BStreak                                                    int64\n",
      "B_Age                                                    float64\n",
      "B_Height                                                 float64\n",
      "B_Weight                                                 float64\n",
      "B__Round1_Grappling_Reversals_Landed                     float64\n",
      "B__Round1_Grappling_Standups_Landed                      float64\n",
      "B__Round1_Grappling_Submissions_Attempts                 float64\n",
      "B__Round1_Grappling_Takedowns_Attempts                   float64\n",
      "B__Round1_Grappling_Takedowns_Landed                     float64\n",
      "B__Round1_Strikes_Body Significant Strikes_Attempts      float64\n",
      "B__Round1_Strikes_Body Significant Strikes_Landed        float64\n",
      "B__Round1_Strikes_Body Total Strikes_Attempts            float64\n",
      "B__Round1_Strikes_Body Total Strikes_Landed              float64\n",
      "B__Round1_Strikes_Clinch Body Strikes_Attempts           float64\n",
      "B__Round1_Strikes_Clinch Body Strikes_Landed             float64\n",
      "B__Round1_Strikes_Clinch Head Strikes_Attempts           float64\n",
      "B__Round1_Strikes_Clinch Head Strikes_Landed             float64\n",
      "B__Round1_Strikes_Clinch Leg Strikes_Attempts            float64\n",
      "B__Round1_Strikes_Clinch Leg Strikes_Landed              float64\n",
      "B__Round1_Strikes_Clinch Significant Kicks_Attempts      float64\n",
      "B__Round1_Strikes_Clinch Significant Kicks_Landed        float64\n",
      "B__Round1_Strikes_Clinch Significant Punches_Attempts    float64\n",
      "B__Round1_Strikes_Clinch Significant Punches_Landed      float64\n",
      "B__Round1_Strikes_Clinch Significant Strikes_Attempts    float64\n",
      "B__Round1_Strikes_Clinch Significant Strikes_Landed      float64\n",
      "B__Round1_Strikes_Clinch Total Strikes_Attempts          float64\n",
      "B__Round1_Strikes_Clinch Total Strikes_Landed            float64\n",
      "B__Round1_Strikes_Distance Body Kicks_Attempts           float64\n",
      "B__Round1_Strikes_Distance Body Kicks_Landed             float64\n",
      "B__Round1_Strikes_Distance Body Punches_Attempts         float64\n",
      "B__Round1_Strikes_Distance Body Punches_Landed           float64\n",
      "B__Round1_Strikes_Distance Body Strikes_Attempts         float64\n",
      "B__Round1_Strikes_Distance Body Strikes_Landed           float64\n",
      "B__Round1_Strikes_Distance Head Kicks_Attempts           float64\n",
      "B__Round1_Strikes_Distance Head Kicks_Landed             float64\n",
      "B__Round1_Strikes_Distance Head Punches_Attempts         float64\n",
      "B__Round1_Strikes_Distance Head Punches_Landed           float64\n",
      "B__Round1_Strikes_Distance Head Strikes_Attempts         float64\n",
      "B__Round1_Strikes_Distance Head Strikes_Landed           float64\n",
      "B__Round1_Strikes_Distance Leg Kicks_Attempts            float64\n",
      "B__Round1_Strikes_Distance Leg Kicks_Landed              float64\n",
      "B__Round1_Strikes_Distance Leg Strikes_Attempts          float64\n",
      "B__Round1_Strikes_Distance Leg Strikes_Landed            float64\n",
      "B__Round1_Strikes_Distance Strikes_Attempts              float64\n",
      "B__Round1_Strikes_Distance Strikes_Landed                float64\n",
      "B__Round1_Strikes_Ground Body Strikes_Attempts           float64\n",
      "B__Round1_Strikes_Ground Body Strikes_Landed             float64\n",
      "B__Round1_Strikes_Ground Head Strikes_Attempts           float64\n",
      "B__Round1_Strikes_Ground Head Strikes_Landed             float64\n",
      "B__Round1_Strikes_Ground Leg Strikes_Attempts            float64\n",
      "B__Round1_Strikes_Ground Leg Strikes_Landed              float64\n",
      "B__Round1_Strikes_Ground Significant Kicks_Attempts      float64\n",
      "B__Round1_Strikes_Ground Significant Kicks_Landed        float64\n",
      "B__Round1_Strikes_Ground Significant Punches_Attempts    float64\n",
      "B__Round1_Strikes_Ground Significant Punches_Landed      float64\n",
      "B__Round1_Strikes_Ground Significant Strikes_Attempts    float64\n",
      "B__Round1_Strikes_Ground Significant Strikes_Landed      float64\n",
      "B__Round1_Strikes_Ground Total Strikes_Attempts          float64\n",
      "B__Round1_Strikes_Ground Total Strikes_Landed            float64\n",
      "B__Round1_Strikes_Head Significant Strikes_Attempts      float64\n",
      "B__Round1_Strikes_Head Significant Strikes_Landed        float64\n",
      "B__Round1_Strikes_Head Total Strikes_Attempts            float64\n",
      "B__Round1_Strikes_Head Total Strikes_Landed              float64\n",
      "B__Round1_Strikes_Kicks_Attempts                         float64\n",
      "B__Round1_Strikes_Kicks_Landed                           float64\n",
      "B__Round1_Strikes_Knock Down_Landed                      float64\n",
      "B__Round1_Strikes_Legs Significant Strikes_Attempts      float64\n",
      "B__Round1_Strikes_Legs Significant Strikes_Landed        float64\n",
      "B__Round1_Strikes_Punches_Attempts                       float64\n",
      "B__Round1_Strikes_Punches_Landed                         float64\n",
      "B__Round1_Strikes_Significant Strikes_Attempts           float64\n",
      "B__Round1_Strikes_Significant Strikes_Landed             float64\n",
      "B__Round1_Strikes_Total Strikes_Attempts                 float64\n",
      "B__Round1_Strikes_Total Strikes_Landed                   float64\n",
      "B__Round1_TIP_Back Control Time                          float64\n",
      "B__Round1_TIP_Clinch Time                                float64\n",
      "B__Round1_TIP_Control Time                               float64\n",
      "B__Round1_TIP_Distance Time                              float64\n",
      "B__Round1_TIP_Ground Control Time                        float64\n",
      "B__Round1_TIP_Ground Time                                float64\n",
      "B__Round1_TIP_Guard Control Time                         float64\n",
      "B__Round1_TIP_Half Guard Control Time                    float64\n",
      "B__Round1_TIP_Misc. Ground Control Time                  float64\n",
      "B__Round1_TIP_Mount Control Time                         float64\n",
      "B__Round1_TIP_Neutral Time                               float64\n",
      "B__Round1_TIP_Side Control Time                          float64\n",
      "B__Round1_TIP_Standing Time                              float64\n",
      "Event_ID                                                   int64\n",
      "Fight_ID                                                   int64\n",
      "Last_round                                                 int64\n",
      "Max_round                                                  int64\n",
      "RPrev                                                      int64\n",
      "R_Age                                                    float64\n",
      "R_Height                                                 float64\n",
      "R_Weight                                                 float64\n",
      "R__Round1_Grappling_Reversals_Landed                     float64\n",
      "R__Round1_Grappling_Standups_Landed                      float64\n",
      "R__Round1_Grappling_Submissions_Attempts                 float64\n",
      "R__Round1_Grappling_Takedowns_Attempts                   float64\n",
      "R__Round1_Grappling_Takedowns_Landed                     float64\n",
      "R__Round1_Strikes_Body Significant Strikes_Attempts      float64\n",
      "R__Round1_Strikes_Body Significant Strikes_Landed        float64\n",
      "R__Round1_Strikes_Body Total Strikes_Attempts            float64\n",
      "R__Round1_Strikes_Body Total Strikes_Landed              float64\n",
      "R__Round1_Strikes_Clinch Body Strikes_Attempts           float64\n",
      "R__Round1_Strikes_Clinch Body Strikes_Landed             float64\n",
      "R__Round1_Strikes_Clinch Head Strikes_Attempts           float64\n",
      "R__Round1_Strikes_Clinch Head Strikes_Landed             float64\n",
      "R__Round1_Strikes_Clinch Leg Strikes_Attempts            float64\n",
      "R__Round1_Strikes_Clinch Leg Strikes_Landed              float64\n",
      "R__Round1_Strikes_Clinch Significant Kicks_Attempts      float64\n",
      "R__Round1_Strikes_Clinch Significant Kicks_Landed        float64\n",
      "R__Round1_Strikes_Clinch Significant Punches_Attempts    float64\n",
      "R__Round1_Strikes_Clinch Significant Punches_Landed      float64\n",
      "R__Round1_Strikes_Clinch Significant Strikes_Attempts    float64\n",
      "R__Round1_Strikes_Clinch Significant Strikes_Landed      float64\n",
      "R__Round1_Strikes_Clinch Total Strikes_Attempts          float64\n",
      "R__Round1_Strikes_Clinch Total Strikes_Landed            float64\n",
      "R__Round1_Strikes_Distance Body Kicks_Attempts           float64\n",
      "R__Round1_Strikes_Distance Body Kicks_Landed             float64\n",
      "R__Round1_Strikes_Distance Body Punches_Attempts         float64\n",
      "R__Round1_Strikes_Distance Body Punches_Landed           float64\n",
      "R__Round1_Strikes_Distance Body Strikes_Attempts         float64\n",
      "R__Round1_Strikes_Distance Body Strikes_Landed           float64\n",
      "R__Round1_Strikes_Distance Head Kicks_Attempts           float64\n",
      "R__Round1_Strikes_Distance Head Kicks_Landed             float64\n",
      "R__Round1_Strikes_Distance Head Punches_Attempts         float64\n",
      "R__Round1_Strikes_Distance Head Punches_Landed           float64\n",
      "R__Round1_Strikes_Distance Head Strikes_Attempts         float64\n",
      "R__Round1_Strikes_Distance Head Strikes_Landed           float64\n",
      "R__Round1_Strikes_Distance Leg Kicks_Attempts            float64\n",
      "R__Round1_Strikes_Distance Leg Kicks_Landed              float64\n",
      "R__Round1_Strikes_Distance Leg Strikes_Attempts          float64\n",
      "R__Round1_Strikes_Distance Leg Strikes_Landed            float64\n",
      "R__Round1_Strikes_Distance Strikes_Attempts              float64\n",
      "R__Round1_Strikes_Distance Strikes_Landed                float64\n",
      "R__Round1_Strikes_Ground Body Strikes_Attempts           float64\n",
      "R__Round1_Strikes_Ground Body Strikes_Landed             float64\n",
      "R__Round1_Strikes_Ground Head Strikes_Attempts           float64\n",
      "R__Round1_Strikes_Ground Head Strikes_Landed             float64\n",
      "R__Round1_Strikes_Ground Leg Strikes_Attempts            float64\n",
      "R__Round1_Strikes_Ground Leg Strikes_Landed              float64\n",
      "R__Round1_Strikes_Ground Significant Kicks_Attempts      float64\n",
      "R__Round1_Strikes_Ground Significant Kicks_Landed        float64\n",
      "R__Round1_Strikes_Ground Significant Punches_Attempts    float64\n",
      "R__Round1_Strikes_Ground Significant Punches_Landed      float64\n",
      "R__Round1_Strikes_Ground Significant Strikes_Attempts    float64\n",
      "R__Round1_Strikes_Ground Significant Strikes_Landed      float64\n",
      "R__Round1_Strikes_Ground Total Strikes_Attempts          float64\n",
      "R__Round1_Strikes_Ground Total Strikes_Landed            float64\n",
      "R__Round1_Strikes_Head Significant Strikes_Attempts      float64\n",
      "R__Round1_Strikes_Head Significant Strikes_Landed        float64\n",
      "R__Round1_Strikes_Head Total Strikes_Attempts            float64\n",
      "R__Round1_Strikes_Head Total Strikes_Landed              float64\n",
      "R__Round1_Strikes_Kicks_Attempts                         float64\n",
      "R__Round1_Strikes_Kicks_Landed                           float64\n",
      "R__Round1_Strikes_Knock Down_Landed                      float64\n",
      "R__Round1_Strikes_Legs Significant Strikes_Attempts      float64\n",
      "R__Round1_Strikes_Legs Significant Strikes_Landed        float64\n",
      "R__Round1_Strikes_Legs Total Strikes_Attempts            float64\n",
      "R__Round1_Strikes_Legs Total Strikes_Landed              float64\n",
      "R__Round1_Strikes_Punches_Attempts                       float64\n",
      "R__Round1_Strikes_Punches_Landed                         float64\n",
      "R__Round1_Strikes_Significant Strikes_Attempts           float64\n",
      "R__Round1_Strikes_Significant Strikes_Landed             float64\n",
      "R__Round1_Strikes_Total Strikes_Attempts                 float64\n",
      "R__Round1_Strikes_Total Strikes_Landed                   float64\n",
      "R__Round1_TIP_Back Control Time                          float64\n",
      "R__Round1_TIP_Clinch Time                                float64\n",
      "R__Round1_TIP_Control Time                               float64\n",
      "R__Round1_TIP_Distance Time                              float64\n",
      "R__Round1_TIP_Ground Control Time                        float64\n",
      "R__Round1_TIP_Ground Time                                float64\n",
      "R__Round1_TIP_Guard Control Time                         float64\n",
      "R__Round1_TIP_Half Guard Control Time                    float64\n",
      "R__Round1_TIP_Misc. Ground Control Time                  float64\n",
      "R__Round1_TIP_Mount Control Time                         float64\n",
      "R__Round1_TIP_Neutral Time                               float64\n",
      "R__Round1_TIP_Side Control Time                          float64\n",
      "R__Round1_TIP_Standing Time                              float64\n",
      "R__Round2_Grappling_Reversals_Landed                     float64\n",
      "R__Round2_Grappling_Standups_Landed                      float64\n",
      "R__Round2_Grappling_Submissions_Attempts                 float64\n",
      "R__Round2_Grappling_Takedowns_Attempts                   float64\n",
      "R__Round2_Grappling_Takedowns_Landed                     float64\n",
      "R__Round2_Strikes_Body Significant Strikes_Attempts      float64\n",
      "R__Round2_Strikes_Body Significant Strikes_Landed        float64\n",
      "R__Round2_Strikes_Body Total Strikes_Attempts            float64\n",
      "R__Round2_Strikes_Body Total Strikes_Landed              float64\n",
      "R__Round2_Strikes_Clinch Body Strikes_Attempts           float64\n",
      "R__Round2_Strikes_Clinch Body Strikes_Landed             float64\n",
      "R__Round2_Strikes_Clinch Head Strikes_Attempts           float64\n",
      "R__Round2_Strikes_Clinch Head Strikes_Landed             float64\n",
      "R__Round2_Strikes_Clinch Leg Strikes_Attempts            float64\n",
      "R__Round2_Strikes_Clinch Leg Strikes_Landed              float64\n",
      "R__Round2_Strikes_Clinch Significant Kicks_Attempts      float64\n",
      "R__Round2_Strikes_Clinch Significant Kicks_Landed        float64\n",
      "R__Round2_Strikes_Clinch Significant Punches_Attempts    float64\n",
      "R__Round2_Strikes_Clinch Significant Punches_Landed      float64\n",
      "R__Round2_Strikes_Clinch Significant Strikes_Attempts    float64\n",
      "R__Round2_Strikes_Clinch Significant Strikes_Landed      float64\n",
      "R__Round2_Strikes_Clinch Total Strikes_Attempts          float64\n",
      "R__Round2_Strikes_Clinch Total Strikes_Landed            float64\n",
      "R__Round2_Strikes_Distance Body Kicks_Attempts           float64\n",
      "R__Round2_Strikes_Distance Body Kicks_Landed             float64\n",
      "R__Round2_Strikes_Distance Body Punches_Attempts         float64\n",
      "R__Round2_Strikes_Distance Body Punches_Landed           float64\n",
      "R__Round2_Strikes_Distance Body Strikes_Attempts         float64\n",
      "R__Round2_Strikes_Distance Body Strikes_Landed           float64\n",
      "R__Round2_Strikes_Distance Head Kicks_Attempts           float64\n",
      "R__Round2_Strikes_Distance Head Kicks_Landed             float64\n",
      "R__Round2_Strikes_Distance Head Punches_Attempts         float64\n",
      "R__Round2_Strikes_Distance Head Punches_Landed           float64\n",
      "R__Round2_Strikes_Distance Head Strikes_Attempts         float64\n",
      "R__Round2_Strikes_Distance Head Strikes_Landed           float64\n",
      "R__Round2_Strikes_Distance Leg Kicks_Attempts            float64\n",
      "R__Round2_Strikes_Distance Leg Kicks_Landed              float64\n",
      "R__Round2_Strikes_Distance Leg Strikes_Attempts          float64\n",
      "R__Round2_Strikes_Distance Leg Strikes_Landed            float64\n",
      "R__Round2_Strikes_Distance Strikes_Attempts              float64\n",
      "R__Round2_Strikes_Distance Strikes_Landed                float64\n",
      "R__Round2_Strikes_Ground Body Strikes_Attempts           float64\n",
      "R__Round2_Strikes_Ground Body Strikes_Landed             float64\n",
      "R__Round2_Strikes_Ground Head Strikes_Attempts           float64\n",
      "R__Round2_Strikes_Ground Head Strikes_Landed             float64\n",
      "R__Round2_Strikes_Ground Leg Strikes_Attempts            float64\n",
      "R__Round2_Strikes_Ground Leg Strikes_Landed              float64\n",
      "R__Round2_Strikes_Ground Significant Kicks_Attempts      float64\n",
      "R__Round2_Strikes_Ground Significant Kicks_Landed        float64\n",
      "R__Round2_Strikes_Ground Significant Punches_Attempts    float64\n",
      "R__Round2_Strikes_Ground Significant Punches_Landed      float64\n",
      "R__Round2_Strikes_Ground Significant Strikes_Attempts    float64\n",
      "R__Round2_Strikes_Ground Significant Strikes_Landed      float64\n",
      "R__Round2_Strikes_Ground Total Strikes_Attempts          float64\n",
      "R__Round2_Strikes_Ground Total Strikes_Landed            float64\n",
      "R__Round2_Strikes_Head Significant Strikes_Attempts      float64\n",
      "R__Round2_Strikes_Head Significant Strikes_Landed        float64\n",
      "R__Round2_Strikes_Head Total Strikes_Attempts            float64\n",
      "R__Round2_Strikes_Head Total Strikes_Landed              float64\n",
      "R__Round2_Strikes_Kicks_Attempts                         float64\n",
      "R__Round2_Strikes_Kicks_Landed                           float64\n",
      "R__Round2_Strikes_Knock Down_Landed                      float64\n",
      "R__Round2_Strikes_Legs Significant Strikes_Attempts      float64\n",
      "R__Round2_Strikes_Legs Significant Strikes_Landed        float64\n",
      "R__Round2_Strikes_Legs Total Strikes_Attempts            float64\n",
      "R__Round2_Strikes_Legs Total Strikes_Landed              float64\n",
      "R__Round2_Strikes_Punches_Attempts                       float64\n",
      "R__Round2_Strikes_Punches_Landed                         float64\n",
      "R__Round2_Strikes_Significant Strikes_Attempts           float64\n",
      "R__Round2_Strikes_Significant Strikes_Landed             float64\n",
      "R__Round2_Strikes_Total Strikes_Attempts                 float64\n",
      "R__Round2_Strikes_Total Strikes_Landed                   float64\n",
      "R__Round2_TIP_Back Control Time                          float64\n",
      "R__Round2_TIP_Clinch Time                                float64\n",
      "R__Round2_TIP_Control Time                               float64\n",
      "R__Round2_TIP_Distance Time                              float64\n",
      "R__Round2_TIP_Ground Control Time                        float64\n",
      "R__Round2_TIP_Ground Time                                float64\n",
      "R__Round2_TIP_Guard Control Time                         float64\n",
      "R__Round2_TIP_Half Guard Control Time                    float64\n",
      "R__Round2_TIP_Misc. Ground Control Time                  float64\n",
      "R__Round2_TIP_Mount Control Time                         float64\n",
      "R__Round2_TIP_Neutral Time                               float64\n",
      "R__Round2_TIP_Side Control Time                          float64\n",
      "R__Round2_TIP_Standing Time                              float64\n",
      "dtype: object\n"
     ]
    }
   ],
   "source": [
    "# Checking data types\n",
    "\n",
    "with pd.option_context('display.max_rows', None, 'display.max_columns', None):\n",
    "    print(X_train.dtypes)"
   ]
  },
  {
   "cell_type": "markdown",
   "id": "28e45903",
   "metadata": {
    "papermill": {
     "duration": 0.047426,
     "end_time": "2022-03-06T22:08:50.384533",
     "exception": false,
     "start_time": "2022-03-06T22:08:50.337107",
     "status": "completed"
    },
    "tags": []
   },
   "source": [
    "## 4. Modeling. Going to model the fights with three different models:\n",
    "* Random Forest Classifier model\n",
    "* Linear Regression\n",
    "* Gradient Boosting Regressor"
   ]
  },
  {
   "cell_type": "markdown",
   "id": "9e0a3eb3",
   "metadata": {
    "papermill": {
     "duration": 0.047425,
     "end_time": "2022-03-06T22:08:50.479646",
     "exception": false,
     "start_time": "2022-03-06T22:08:50.432221",
     "status": "completed"
    },
    "tags": []
   },
   "source": [
    "## Random Forest Classifier Model"
   ]
  },
  {
   "cell_type": "code",
   "execution_count": 22,
   "id": "18578d77",
   "metadata": {
    "execution": {
     "iopub.execute_input": "2022-03-06T22:08:50.583555Z",
     "iopub.status.busy": "2022-03-06T22:08:50.582508Z",
     "iopub.status.idle": "2022-03-06T22:08:51.707831Z",
     "shell.execute_reply": "2022-03-06T22:08:51.707243Z",
     "shell.execute_reply.started": "2022-03-06T22:08:23.164390Z"
    },
    "papermill": {
     "duration": 1.180571,
     "end_time": "2022-03-06T22:08:51.707961",
     "exception": false,
     "start_time": "2022-03-06T22:08:50.527390",
     "status": "completed"
    },
    "tags": []
   },
   "outputs": [
    {
     "name": "stdout",
     "output_type": "stream",
     "text": [
      "0.40789473684210525\n"
     ]
    }
   ],
   "source": [
    "from sklearn.ensemble import RandomForestClassifier\n",
    "\n",
    "rfc = RandomForestClassifier(random_state=0)\n",
    "\n",
    "rfc.fit(X_train, y_train)\n",
    "\n",
    "y_pred_rfc=rfc.predict(X_test)\n",
    "\n",
    "print(mean_absolute_error(y_test,y_pred_rfc))"
   ]
  },
  {
   "cell_type": "markdown",
   "id": "7bba45e8",
   "metadata": {
    "papermill": {
     "duration": 0.045753,
     "end_time": "2022-03-06T22:08:51.802825",
     "exception": false,
     "start_time": "2022-03-06T22:08:51.757072",
     "status": "completed"
    },
    "tags": []
   },
   "source": [
    "## Linear Regression"
   ]
  },
  {
   "cell_type": "code",
   "execution_count": 23,
   "id": "e0aa24da",
   "metadata": {
    "execution": {
     "iopub.execute_input": "2022-03-06T22:08:51.909800Z",
     "iopub.status.busy": "2022-03-06T22:08:51.909296Z",
     "iopub.status.idle": "2022-03-06T22:08:51.972981Z",
     "shell.execute_reply": "2022-03-06T22:08:51.973568Z",
     "shell.execute_reply.started": "2022-03-06T22:08:24.315339Z"
    },
    "papermill": {
     "duration": 0.122406,
     "end_time": "2022-03-06T22:08:51.973720",
     "exception": false,
     "start_time": "2022-03-06T22:08:51.851314",
     "status": "completed"
    },
    "tags": []
   },
   "outputs": [
    {
     "name": "stdout",
     "output_type": "stream",
     "text": [
      "0.46555986578929964\n"
     ]
    }
   ],
   "source": [
    "reg = LinearRegression().fit(X_train,y_train)\n",
    "\n",
    "y_pred_reg = reg.predict(X_test)\n",
    "\n",
    "print(mean_absolute_error(y_test,y_pred_reg))"
   ]
  },
  {
   "cell_type": "markdown",
   "id": "708a4a34",
   "metadata": {
    "papermill": {
     "duration": 0.04922,
     "end_time": "2022-03-06T22:08:52.125191",
     "exception": false,
     "start_time": "2022-03-06T22:08:52.075971",
     "status": "completed"
    },
    "tags": []
   },
   "source": [
    "## Gradient Boosting Regressor"
   ]
  },
  {
   "cell_type": "code",
   "execution_count": 24,
   "id": "dc653997",
   "metadata": {
    "execution": {
     "iopub.execute_input": "2022-03-06T22:08:52.228607Z",
     "iopub.status.busy": "2022-03-06T22:08:52.227782Z",
     "iopub.status.idle": "2022-03-06T22:08:57.007643Z",
     "shell.execute_reply": "2022-03-06T22:08:57.008140Z",
     "shell.execute_reply.started": "2022-03-06T22:08:24.376410Z"
    },
    "papermill": {
     "duration": 4.83453,
     "end_time": "2022-03-06T22:08:57.008293",
     "exception": false,
     "start_time": "2022-03-06T22:08:52.173763",
     "status": "completed"
    },
    "tags": []
   },
   "outputs": [
    {
     "name": "stdout",
     "output_type": "stream",
     "text": [
      "0.4688291619123302\n"
     ]
    }
   ],
   "source": [
    "from sklearn.ensemble import GradientBoostingClassifier\n",
    "\n",
    "gb = GradientBoostingRegressor(random_state = 0)\n",
    "\n",
    "gb.fit(X_train, y_train)\n",
    "\n",
    "y_pred_gb = gb.predict(X_test)\n",
    "\n",
    "print(mean_absolute_error(y_test,y_pred_gb))"
   ]
  },
  {
   "cell_type": "markdown",
   "id": "8b7d4bb0",
   "metadata": {
    "papermill": {
     "duration": 0.053429,
     "end_time": "2022-03-06T22:08:57.111720",
     "exception": false,
     "start_time": "2022-03-06T22:08:57.058291",
     "status": "completed"
    },
    "tags": []
   },
   "source": [
    "### The Random Forest Classifier model has the lowest mean absolute error (mean difference between predict and observed y-values.)"
   ]
  },
  {
   "cell_type": "markdown",
   "id": "23b2fb82",
   "metadata": {
    "papermill": {
     "duration": 0.049089,
     "end_time": "2022-03-06T22:08:57.209927",
     "exception": false,
     "start_time": "2022-03-06T22:08:57.160838",
     "status": "completed"
    },
    "tags": []
   },
   "source": [
    "## 5. Feature Engineering and Visualization"
   ]
  },
  {
   "cell_type": "code",
   "execution_count": 25,
   "id": "c7c2ce67",
   "metadata": {
    "execution": {
     "iopub.execute_input": "2022-03-06T22:08:57.310680Z",
     "iopub.status.busy": "2022-03-06T22:08:57.309856Z",
     "iopub.status.idle": "2022-03-06T22:08:57.328064Z",
     "shell.execute_reply": "2022-03-06T22:08:57.328689Z",
     "shell.execute_reply.started": "2022-03-06T22:08:29.199635Z"
    },
    "papermill": {
     "duration": 0.06993,
     "end_time": "2022-03-06T22:08:57.328839",
     "exception": false,
     "start_time": "2022-03-06T22:08:57.258909",
     "status": "completed"
    },
    "tags": []
   },
   "outputs": [
    {
     "data": {
      "text/plain": [
       "Fight_ID                                               0.030757\n",
       "B_Age                                                  0.028951\n",
       "Event_ID                                               0.026481\n",
       "R_Age                                                  0.025865\n",
       "R_Height                                               0.019173\n",
       "                                                         ...   \n",
       "R__Round2_Strikes_Ground Leg Strikes_Attempts          0.000406\n",
       "B__Round1_Strikes_Ground Significant Kicks_Attempts    0.000406\n",
       "B__Round1_Strikes_Ground Significant Kicks_Landed      0.000335\n",
       "R__Round1_Strikes_Ground Significant Kicks_Landed      0.000285\n",
       "R__Round2_Strikes_Ground Significant Kicks_Landed      0.000254\n",
       "Length: 266, dtype: float64"
      ]
     },
     "execution_count": 25,
     "metadata": {},
     "output_type": "execute_result"
    }
   ],
   "source": [
    "features = pd.Series(rfc.feature_importances_, index=X_train.columns).sort_values(ascending=False)\n",
    "\n",
    "features"
   ]
  },
  {
   "cell_type": "code",
   "execution_count": 26,
   "id": "e7ce0af0",
   "metadata": {
    "execution": {
     "iopub.execute_input": "2022-03-06T22:08:57.431871Z",
     "iopub.status.busy": "2022-03-06T22:08:57.431087Z",
     "iopub.status.idle": "2022-03-06T22:09:03.698313Z",
     "shell.execute_reply": "2022-03-06T22:09:03.698829Z"
    },
    "papermill": {
     "duration": 6.320387,
     "end_time": "2022-03-06T22:09:03.698981",
     "exception": false,
     "start_time": "2022-03-06T22:08:57.378594",
     "status": "completed"
    },
    "tags": []
   },
   "outputs": [
    {
     "data": {
      "text/plain": [
       "<AxesSubplot:>"
      ]
     },
     "execution_count": 26,
     "metadata": {},
     "output_type": "execute_result"
    },
    {
     "data": {
      "image/png": "[encoded data removed]",
      "text/plain": [
       "<Figure size 432x288 with 1 Axes>"
      ]
     },
     "metadata": {
      "needs_background": "light"
     },
     "output_type": "display_data"
    }
   ],
   "source": [
    "sns.barplot(x=features, y=features.index)"
   ]
  },
  {
   "cell_type": "markdown",
   "id": "74debad5",
   "metadata": {
    "papermill": {
     "duration": 0.05256,
     "end_time": "2022-03-06T22:09:03.803998",
     "exception": false,
     "start_time": "2022-03-06T22:09:03.751438",
     "status": "completed"
    },
    "tags": []
   },
   "source": [
    "### Clearly no feature alone has huge explanatory power. "
   ]
  }
 ],
 "metadata": {
  "kernelspec": {
   "display_name": "Python 3",
   "language": "python",
   "name": "python3"
  },
  "language_info": {
   "codemirror_mode": {
    "name": "ipython",
    "version": 3
   },
   "file_extension": ".py",
   "mimetype": "text/x-python",
   "name": "python",
   "nbconvert_exporter": "python",
   "pygments_lexer": "ipython3",
   "version": "3.7.12"
  },
  "papermill": {
   "default_parameters": {},
   "duration": 26.054752,
   "end_time": "2022-03-06T22:09:04.667669",
   "environment_variables": {},
   "exception": null,
   "input_path": "__notebook__.ipynb",
   "output_path": "__notebook__.ipynb",
   "parameters": {},
   "start_time": "2022-03-06T22:08:38.612917",
   "version": "2.3.3"
  }
 },
 "nbformat": 4,
 "nbformat_minor": 5
}
