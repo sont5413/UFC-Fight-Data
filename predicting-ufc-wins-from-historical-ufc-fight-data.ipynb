{
 "cells": [
  {
   "cell_type": "markdown",
   "id": "06468ec6",
   "metadata": {
    "papermill": {
     "duration": 0.034999,
     "end_time": "2022-03-06T23:23:29.060744",
     "exception": false,
     "start_time": "2022-03-06T23:23:29.025745",
     "status": "completed"
    },
    "tags": []
   },
   "source": [
    "## I. Import Libraries"
   ]
  },
  {
   "cell_type": "code",
   "execution_count": 1,
   "id": "122720bc",
   "metadata": {
    "_cell_guid": "b1076dfc-b9ad-4769-8c92-a6c4dae69d19",
    "_uuid": "8f2839f25d086af736a60e9eeb907d3b93b6e0e5",
    "execution": {
     "iopub.execute_input": "2022-03-06T23:23:29.134192Z",
     "iopub.status.busy": "2022-03-06T23:23:29.132923Z",
     "iopub.status.idle": "2022-03-06T23:23:30.598413Z",
     "shell.execute_reply": "2022-03-06T23:23:30.599278Z",
     "shell.execute_reply.started": "2022-03-06T22:59:44.199522Z"
    },
    "papermill": {
     "duration": 1.503642,
     "end_time": "2022-03-06T23:23:30.599681",
     "exception": false,
     "start_time": "2022-03-06T23:23:29.096039",
     "status": "completed"
    },
    "tags": []
   },
   "outputs": [
    {
     "name": "stdout",
     "output_type": "stream",
     "text": [
      "/kaggle/input/ufcdataset/data.csv\n"
     ]
    }
   ],
   "source": [
    "from sklearn.linear_model import LinearRegression\n",
    "from sklearn.metrics import mean_absolute_error\n",
    "from sklearn.ensemble import RandomForestRegressor\n",
    "from sklearn.ensemble import GradientBoostingRegressor\n",
    "import matplotlib.pyplot as plt\n",
    "import numpy as np\n",
    "import pandas as pd\n",
    "import re\n",
    "import sklearn\n",
    "from sklearn.model_selection import train_test_split\n",
    "import seaborn as sns\n",
    "import matplotlib.pyplot as plt\n",
    "import os\n",
    "for dirname, _, filenames in os.walk('/kaggle/input'):\n",
    "    for filename in filenames:\n",
    "        print(os.path.join(dirname, filename))"
   ]
  },
  {
   "cell_type": "code",
   "execution_count": 2,
   "id": "e2962016",
   "metadata": {
    "execution": {
     "iopub.execute_input": "2022-03-06T23:23:30.674307Z",
     "iopub.status.busy": "2022-03-06T23:23:30.673547Z",
     "iopub.status.idle": "2022-03-06T23:23:31.038824Z",
     "shell.execute_reply": "2022-03-06T23:23:31.039361Z",
     "shell.execute_reply.started": "2022-03-06T22:59:45.666168Z"
    },
    "papermill": {
     "duration": 0.404115,
     "end_time": "2022-03-06T23:23:31.039545",
     "exception": false,
     "start_time": "2022-03-06T23:23:30.635430",
     "status": "completed"
    },
    "tags": []
   },
   "outputs": [],
   "source": [
    "# Import data\n",
    "\n",
    "data = pd.read_csv('/kaggle/input/ufcdataset/data.csv')"
   ]
  },
  {
   "cell_type": "markdown",
   "id": "80cb86a1",
   "metadata": {
    "papermill": {
     "duration": 0.033268,
     "end_time": "2022-03-06T23:23:31.108518",
     "exception": false,
     "start_time": "2022-03-06T23:23:31.075250",
     "status": "completed"
    },
    "tags": []
   },
   "source": [
    "## 2. Brief EDA"
   ]
  },
  {
   "cell_type": "code",
   "execution_count": 3,
   "id": "f6c2b233",
   "metadata": {
    "execution": {
     "iopub.execute_input": "2022-03-06T23:23:31.186101Z",
     "iopub.status.busy": "2022-03-06T23:23:31.185076Z",
     "iopub.status.idle": "2022-03-06T23:23:31.212300Z",
     "shell.execute_reply": "2022-03-06T23:23:31.212795Z",
     "shell.execute_reply.started": "2022-03-06T22:59:46.046741Z"
    },
    "papermill": {
     "duration": 0.071023,
     "end_time": "2022-03-06T23:23:31.212959",
     "exception": false,
     "start_time": "2022-03-06T23:23:31.141936",
     "status": "completed"
    },
    "tags": []
   },
   "outputs": [
    {
     "name": "stdout",
     "output_type": "stream",
     "text": [
      "(2318, 894)\n"
     ]
    },
    {
     "data": {
      "text/plain": [
       "<bound method NDFrame.describe of       BPrev  BStreak  B_Age  B_Height                             B_HomeTown  \\\n",
       "0         0        0   38.0     193.0                       Hounslow England   \n",
       "1         0        0   36.0     172.0        Chicago, Illinois United States   \n",
       "2         0        0   39.0     167.0            Isla Vista , California USA   \n",
       "3         0        0   33.0     167.0                      San Diego, CA USA   \n",
       "4         0        0   36.0     185.0                    Southampton England   \n",
       "...     ...      ...    ...       ...                                    ...   \n",
       "2313      7        0   34.0     172.0           El Paso, Texas United States   \n",
       "2314      9        1   31.0     177.0     Milwaukee, Wisconsin United States   \n",
       "2315      5        3   35.0     180.0                        Amazonas Brazil   \n",
       "2316      1        0   37.0     170.0  Moses Lake, Washington United States    \n",
       "2317      0        0   23.0     190.0  Los Angeles, California United States   \n",
       "\n",
       "      B_ID                            B_Location            B_Name  B_Weight  \\\n",
       "0      808             Amsterdam The Netherlands  Alistair Overeem     120.0   \n",
       "1     1054       Chicago, Illinois United States     Ricardo Lamas      65.0   \n",
       "2      959            Sacramento, California USA      Urijah Faber      61.0   \n",
       "3     1056                     San Diego, CA USA    Danny Martinez      56.0   \n",
       "4     2005                   Southampton England        Tom Watson      84.0   \n",
       "...    ...                                   ...               ...       ...   \n",
       "2313  1137  Coconut Creek, Florida United States         Nik Lentz      70.0   \n",
       "2314  1069    Milwaukee, Wisconsin United States    Anthony Pettis      70.0   \n",
       "2315  2101                 Rio de Janeiro Brazil      Alan Patrick      70.0   \n",
       "2316  1200          Houston, Texas United States     Tonya Evinger      61.0   \n",
       "2317  3072     Fontana, California United States      Jalin Turner      70.0   \n",
       "\n",
       "      B__Round1_Grappling_Reversals_Landed  ...  R__Round5_TIP_Ground Time  \\\n",
       "0                                      NaN  ...                        NaN   \n",
       "1                                      NaN  ...                        NaN   \n",
       "2                                      NaN  ...                        NaN   \n",
       "3                                      NaN  ...                        NaN   \n",
       "4                                      NaN  ...                        NaN   \n",
       "...                                    ...  ...                        ...   \n",
       "2313                                   0.0  ...                        NaN   \n",
       "2314                                   3.0  ...                        0.0   \n",
       "2315                                   0.0  ...                        NaN   \n",
       "2316                                   0.0  ...                        NaN   \n",
       "2317                                   NaN  ...                        NaN   \n",
       "\n",
       "      R__Round5_TIP_Guard Control Time  R__Round5_TIP_Half Guard Control Time  \\\n",
       "0                                  NaN                                    NaN   \n",
       "1                                  NaN                                    NaN   \n",
       "2                                  NaN                                    NaN   \n",
       "3                                  NaN                                    NaN   \n",
       "4                                  NaN                                    NaN   \n",
       "...                                ...                                    ...   \n",
       "2313                               NaN                                    NaN   \n",
       "2314                               0.0                                    0.0   \n",
       "2315                               NaN                                    NaN   \n",
       "2316                               NaN                                    NaN   \n",
       "2317                               NaN                                    NaN   \n",
       "\n",
       "      R__Round5_TIP_Misc. Ground Control Time  \\\n",
       "0                                         NaN   \n",
       "1                                         NaN   \n",
       "2                                         NaN   \n",
       "3                                         NaN   \n",
       "4                                         NaN   \n",
       "...                                       ...   \n",
       "2313                                      NaN   \n",
       "2314                                      0.0   \n",
       "2315                                      NaN   \n",
       "2316                                      NaN   \n",
       "2317                                      NaN   \n",
       "\n",
       "      R__Round5_TIP_Mount Control Time  R__Round5_TIP_Neutral Time  \\\n",
       "0                                  NaN                         NaN   \n",
       "1                                  NaN                         NaN   \n",
       "2                                  NaN                         NaN   \n",
       "3                                  NaN                         NaN   \n",
       "4                                  NaN                         NaN   \n",
       "...                                ...                         ...   \n",
       "2313                               NaN                         NaN   \n",
       "2314                               0.0                       298.0   \n",
       "2315                               NaN                         NaN   \n",
       "2316                               NaN                         NaN   \n",
       "2317                               NaN                         NaN   \n",
       "\n",
       "      R__Round5_TIP_Side Control Time  R__Round5_TIP_Standing Time   winby  \\\n",
       "0                                 NaN                          NaN     DEC   \n",
       "1                                 NaN                          NaN     DEC   \n",
       "2                                 NaN                          NaN  KO/TKO   \n",
       "3                                 NaN                          NaN     DEC   \n",
       "4                                 NaN                          NaN     DEC   \n",
       "...                               ...                          ...     ...   \n",
       "2313                              NaN                          NaN  KO/TKO   \n",
       "2314                              0.0                        298.0  KO/TKO   \n",
       "2315                              NaN                          NaN  KO/TKO   \n",
       "2316                              NaN                          NaN  KO/TKO   \n",
       "2317                              NaN                          NaN  KO/TKO   \n",
       "\n",
       "      winner  \n",
       "0       blue  \n",
       "1        red  \n",
       "2        red  \n",
       "3        red  \n",
       "4        red  \n",
       "...      ...  \n",
       "2313    blue  \n",
       "2314     red  \n",
       "2315     red  \n",
       "2316     red  \n",
       "2317     red  \n",
       "\n",
       "[2318 rows x 894 columns]>"
      ]
     },
     "execution_count": 3,
     "metadata": {},
     "output_type": "execute_result"
    }
   ],
   "source": [
    "print(data.shape)\n",
    "data.describe"
   ]
  },
  {
   "cell_type": "markdown",
   "id": "a30e28c6",
   "metadata": {
    "papermill": {
     "duration": 0.035803,
     "end_time": "2022-03-06T23:23:31.283214",
     "exception": false,
     "start_time": "2022-03-06T23:23:31.247411",
     "status": "completed"
    },
    "tags": []
   },
   "source": [
    "## 3. Data Cleaning"
   ]
  },
  {
   "cell_type": "code",
   "execution_count": 4,
   "id": "51ffdd31",
   "metadata": {
    "execution": {
     "iopub.execute_input": "2022-03-06T23:23:31.356064Z",
     "iopub.status.busy": "2022-03-06T23:23:31.355037Z",
     "iopub.status.idle": "2022-03-06T23:23:31.373827Z",
     "shell.execute_reply": "2022-03-06T23:23:31.374352Z",
     "shell.execute_reply.started": "2022-03-06T22:59:46.085778Z"
    },
    "papermill": {
     "duration": 0.056761,
     "end_time": "2022-03-06T23:23:31.374525",
     "exception": false,
     "start_time": "2022-03-06T23:23:31.317764",
     "status": "completed"
    },
    "tags": []
   },
   "outputs": [
    {
     "data": {
      "text/plain": [
       "BPrev                                 0\n",
       "BStreak                               0\n",
       "B_Age                                17\n",
       "B_Height                             17\n",
       "B_HomeTown                           17\n",
       "                                   ... \n",
       "R__Round5_TIP_Neutral Time         2048\n",
       "R__Round5_TIP_Side Control Time    2048\n",
       "R__Round5_TIP_Standing Time        2048\n",
       "winby                                36\n",
       "winner                                0\n",
       "Length: 894, dtype: int64"
      ]
     },
     "execution_count": 4,
     "metadata": {},
     "output_type": "execute_result"
    }
   ],
   "source": [
    "data.isnull().sum(axis=0)"
   ]
  },
  {
   "cell_type": "code",
   "execution_count": 5,
   "id": "636faf8b",
   "metadata": {
    "execution": {
     "iopub.execute_input": "2022-03-06T23:23:31.448307Z",
     "iopub.status.busy": "2022-03-06T23:23:31.447275Z",
     "iopub.status.idle": "2022-03-06T23:23:31.636148Z",
     "shell.execute_reply": "2022-03-06T23:23:31.636631Z",
     "shell.execute_reply.started": "2022-03-06T22:59:46.109251Z"
    },
    "papermill": {
     "duration": 0.227145,
     "end_time": "2022-03-06T23:23:31.636828",
     "exception": false,
     "start_time": "2022-03-06T23:23:31.409683",
     "status": "completed"
    },
    "tags": []
   },
   "outputs": [
    {
     "data": {
      "text/plain": [
       "617"
      ]
     },
     "execution_count": 5,
     "metadata": {},
     "output_type": "execute_result"
    }
   ],
   "source": [
    "# Removing columns with >30 % null values.\n",
    "\n",
    "nulls = []\n",
    "for i in data.columns:\n",
    "    counts = data[i].isnull().sum()\n",
    "    if (counts / len(data)) * 100 > 30:\n",
    "        nulls.append(i)\n",
    "\n",
    "len(nulls)"
   ]
  },
  {
   "cell_type": "code",
   "execution_count": 6,
   "id": "cc258295",
   "metadata": {
    "execution": {
     "iopub.execute_input": "2022-03-06T23:23:31.713021Z",
     "iopub.status.busy": "2022-03-06T23:23:31.712048Z",
     "iopub.status.idle": "2022-03-06T23:23:31.721459Z",
     "shell.execute_reply": "2022-03-06T23:23:31.722013Z",
     "shell.execute_reply.started": "2022-03-06T22:59:46.380491Z"
    },
    "papermill": {
     "duration": 0.049317,
     "end_time": "2022-03-06T23:23:31.722183",
     "exception": false,
     "start_time": "2022-03-06T23:23:31.672866",
     "status": "completed"
    },
    "tags": []
   },
   "outputs": [],
   "source": [
    "dropdata = data.drop(nulls,axis=1)"
   ]
  },
  {
   "cell_type": "code",
   "execution_count": 7,
   "id": "1f313f36",
   "metadata": {
    "execution": {
     "iopub.execute_input": "2022-03-06T23:23:31.797280Z",
     "iopub.status.busy": "2022-03-06T23:23:31.796599Z",
     "iopub.status.idle": "2022-03-06T23:23:31.799323Z",
     "shell.execute_reply": "2022-03-06T23:23:31.799811Z",
     "shell.execute_reply.started": "2022-03-06T22:59:46.391654Z"
    },
    "papermill": {
     "duration": 0.041517,
     "end_time": "2022-03-06T23:23:31.799992",
     "exception": false,
     "start_time": "2022-03-06T23:23:31.758475",
     "status": "completed"
    },
    "tags": []
   },
   "outputs": [],
   "source": [
    "# Time to delete columns that have no predictive power."
   ]
  },
  {
   "cell_type": "markdown",
   "id": "b0803562",
   "metadata": {
    "papermill": {
     "duration": 0.035639,
     "end_time": "2022-03-06T23:23:31.872075",
     "exception": false,
     "start_time": "2022-03-06T23:23:31.836436",
     "status": "completed"
    },
    "tags": []
   },
   "source": []
  },
  {
   "cell_type": "code",
   "execution_count": 8,
   "id": "bb11d8f4",
   "metadata": {
    "execution": {
     "iopub.execute_input": "2022-03-06T23:23:31.949730Z",
     "iopub.status.busy": "2022-03-06T23:23:31.949081Z",
     "iopub.status.idle": "2022-03-06T23:23:31.958388Z",
     "shell.execute_reply": "2022-03-06T23:23:31.958888Z",
     "shell.execute_reply.started": "2022-03-06T22:59:46.404008Z"
    },
    "papermill": {
     "duration": 0.049055,
     "end_time": "2022-03-06T23:23:31.959083",
     "exception": false,
     "start_time": "2022-03-06T23:23:31.910028",
     "status": "completed"
    },
    "tags": []
   },
   "outputs": [],
   "source": [
    "dropdata = dropdata.drop(['B_ID','B_Name','R_ID','R_Name','winby','Date','B_HomeTown','B_Location','R_HomeTown','R_Location'],axis=1)"
   ]
  },
  {
   "cell_type": "code",
   "execution_count": 9,
   "id": "1437ed91",
   "metadata": {
    "execution": {
     "iopub.execute_input": "2022-03-06T23:23:32.036863Z",
     "iopub.status.busy": "2022-03-06T23:23:32.035966Z",
     "iopub.status.idle": "2022-03-06T23:23:32.039300Z",
     "shell.execute_reply": "2022-03-06T23:23:32.039837Z",
     "shell.execute_reply.started": "2022-03-06T22:59:46.421748Z"
    },
    "papermill": {
     "duration": 0.044601,
     "end_time": "2022-03-06T23:23:32.040007",
     "exception": false,
     "start_time": "2022-03-06T23:23:31.995406",
     "status": "completed"
    },
    "tags": []
   },
   "outputs": [
    {
     "data": {
      "text/plain": [
       "(2318, 267)"
      ]
     },
     "execution_count": 9,
     "metadata": {},
     "output_type": "execute_result"
    }
   ],
   "source": [
    "dropdata.shape"
   ]
  },
  {
   "cell_type": "code",
   "execution_count": 10,
   "id": "2aeff368",
   "metadata": {
    "execution": {
     "iopub.execute_input": "2022-03-06T23:23:32.117383Z",
     "iopub.status.busy": "2022-03-06T23:23:32.116733Z",
     "iopub.status.idle": "2022-03-06T23:23:32.118653Z",
     "shell.execute_reply": "2022-03-06T23:23:32.119154Z",
     "shell.execute_reply.started": "2022-03-06T22:59:46.435727Z"
    },
    "papermill": {
     "duration": 0.042121,
     "end_time": "2022-03-06T23:23:32.119333",
     "exception": false,
     "start_time": "2022-03-06T23:23:32.077212",
     "status": "completed"
    },
    "tags": []
   },
   "outputs": [],
   "source": [
    "master = dropdata"
   ]
  },
  {
   "cell_type": "code",
   "execution_count": 11,
   "id": "282cfe2e",
   "metadata": {
    "execution": {
     "iopub.execute_input": "2022-03-06T23:23:32.196217Z",
     "iopub.status.busy": "2022-03-06T23:23:32.195455Z",
     "iopub.status.idle": "2022-03-06T23:23:32.198773Z",
     "shell.execute_reply": "2022-03-06T23:23:32.199260Z",
     "shell.execute_reply.started": "2022-03-06T22:59:46.446847Z"
    },
    "papermill": {
     "duration": 0.044235,
     "end_time": "2022-03-06T23:23:32.199430",
     "exception": false,
     "start_time": "2022-03-06T23:23:32.155195",
     "status": "completed"
    },
    "tags": []
   },
   "outputs": [
    {
     "data": {
      "text/plain": [
       "<function print>"
      ]
     },
     "execution_count": 11,
     "metadata": {},
     "output_type": "execute_result"
    }
   ],
   "source": [
    "print"
   ]
  },
  {
   "cell_type": "code",
   "execution_count": 12,
   "id": "542105c6",
   "metadata": {
    "execution": {
     "iopub.execute_input": "2022-03-06T23:23:32.278344Z",
     "iopub.status.busy": "2022-03-06T23:23:32.277685Z",
     "iopub.status.idle": "2022-03-06T23:23:32.337293Z",
     "shell.execute_reply": "2022-03-06T23:23:32.336662Z",
     "shell.execute_reply.started": "2022-03-06T22:59:46.461494Z"
    },
    "papermill": {
     "duration": 0.101415,
     "end_time": "2022-03-06T23:23:32.337443",
     "exception": false,
     "start_time": "2022-03-06T23:23:32.236028",
     "status": "completed"
    },
    "tags": []
   },
   "outputs": [
    {
     "name": "stderr",
     "output_type": "stream",
     "text": [
      "/opt/conda/lib/python3.7/site-packages/ipykernel_launcher.py:3: FutureWarning: Dropping of nuisance columns in DataFrame reductions (with 'numeric_only=None') is deprecated; in a future version this will raise TypeError.  Select only valid columns before calling the reduction.\n",
      "  This is separate from the ipykernel package so we can avoid doing imports until\n"
     ]
    }
   ],
   "source": [
    "# Filling in NaN's with median value for the column.\n",
    "\n",
    "master.fillna(master.median(), inplace=True)"
   ]
  },
  {
   "cell_type": "code",
   "execution_count": 13,
   "id": "c7fe48af",
   "metadata": {
    "execution": {
     "iopub.execute_input": "2022-03-06T23:23:32.419232Z",
     "iopub.status.busy": "2022-03-06T23:23:32.418483Z",
     "iopub.status.idle": "2022-03-06T23:23:32.630975Z",
     "shell.execute_reply": "2022-03-06T23:23:32.630085Z",
     "shell.execute_reply.started": "2022-03-06T22:59:46.548045Z"
    },
    "papermill": {
     "duration": 0.256772,
     "end_time": "2022-03-06T23:23:32.631151",
     "exception": false,
     "start_time": "2022-03-06T23:23:32.374379",
     "status": "completed"
    },
    "tags": []
   },
   "outputs": [
    {
     "name": "stdout",
     "output_type": "stream",
     "text": [
      "Total NaN in dataframe : 0\n",
      "Total NaN in each column of the dataframe\n",
      "BPrev : 0 NaN\n",
      "BStreak : 0 NaN\n",
      "B_Age : 0 NaN\n",
      "B_Height : 0 NaN\n",
      "B_Weight : 0 NaN\n",
      "B__Round1_Grappling_Reversals_Landed : 0 NaN\n",
      "B__Round1_Grappling_Standups_Landed : 0 NaN\n",
      "B__Round1_Grappling_Submissions_Attempts : 0 NaN\n",
      "B__Round1_Grappling_Takedowns_Attempts : 0 NaN\n",
      "B__Round1_Grappling_Takedowns_Landed : 0 NaN\n",
      "B__Round1_Strikes_Body Significant Strikes_Attempts : 0 NaN\n",
      "B__Round1_Strikes_Body Significant Strikes_Landed : 0 NaN\n",
      "B__Round1_Strikes_Body Total Strikes_Attempts : 0 NaN\n",
      "B__Round1_Strikes_Body Total Strikes_Landed : 0 NaN\n",
      "B__Round1_Strikes_Clinch Body Strikes_Attempts : 0 NaN\n",
      "B__Round1_Strikes_Clinch Body Strikes_Landed : 0 NaN\n",
      "B__Round1_Strikes_Clinch Head Strikes_Attempts : 0 NaN\n",
      "B__Round1_Strikes_Clinch Head Strikes_Landed : 0 NaN\n",
      "B__Round1_Strikes_Clinch Leg Strikes_Attempts : 0 NaN\n",
      "B__Round1_Strikes_Clinch Leg Strikes_Landed : 0 NaN\n",
      "B__Round1_Strikes_Clinch Significant Kicks_Attempts : 0 NaN\n",
      "B__Round1_Strikes_Clinch Significant Kicks_Landed : 0 NaN\n",
      "B__Round1_Strikes_Clinch Significant Punches_Attempts : 0 NaN\n",
      "B__Round1_Strikes_Clinch Significant Punches_Landed : 0 NaN\n",
      "B__Round1_Strikes_Clinch Significant Strikes_Attempts : 0 NaN\n",
      "B__Round1_Strikes_Clinch Significant Strikes_Landed : 0 NaN\n",
      "B__Round1_Strikes_Clinch Total Strikes_Attempts : 0 NaN\n",
      "B__Round1_Strikes_Clinch Total Strikes_Landed : 0 NaN\n",
      "B__Round1_Strikes_Distance Body Kicks_Attempts : 0 NaN\n",
      "B__Round1_Strikes_Distance Body Kicks_Landed : 0 NaN\n",
      "B__Round1_Strikes_Distance Body Punches_Attempts : 0 NaN\n",
      "B__Round1_Strikes_Distance Body Punches_Landed : 0 NaN\n",
      "B__Round1_Strikes_Distance Body Strikes_Attempts : 0 NaN\n",
      "B__Round1_Strikes_Distance Body Strikes_Landed : 0 NaN\n",
      "B__Round1_Strikes_Distance Head Kicks_Attempts : 0 NaN\n",
      "B__Round1_Strikes_Distance Head Kicks_Landed : 0 NaN\n",
      "B__Round1_Strikes_Distance Head Punches_Attempts : 0 NaN\n",
      "B__Round1_Strikes_Distance Head Punches_Landed : 0 NaN\n",
      "B__Round1_Strikes_Distance Head Strikes_Attempts : 0 NaN\n",
      "B__Round1_Strikes_Distance Head Strikes_Landed : 0 NaN\n",
      "B__Round1_Strikes_Distance Leg Kicks_Attempts : 0 NaN\n",
      "B__Round1_Strikes_Distance Leg Kicks_Landed : 0 NaN\n",
      "B__Round1_Strikes_Distance Leg Strikes_Attempts : 0 NaN\n",
      "B__Round1_Strikes_Distance Leg Strikes_Landed : 0 NaN\n",
      "B__Round1_Strikes_Distance Strikes_Attempts : 0 NaN\n",
      "B__Round1_Strikes_Distance Strikes_Landed : 0 NaN\n",
      "B__Round1_Strikes_Ground Body Strikes_Attempts : 0 NaN\n",
      "B__Round1_Strikes_Ground Body Strikes_Landed : 0 NaN\n",
      "B__Round1_Strikes_Ground Head Strikes_Attempts : 0 NaN\n",
      "B__Round1_Strikes_Ground Head Strikes_Landed : 0 NaN\n",
      "B__Round1_Strikes_Ground Leg Strikes_Attempts : 0 NaN\n",
      "B__Round1_Strikes_Ground Leg Strikes_Landed : 0 NaN\n",
      "B__Round1_Strikes_Ground Significant Kicks_Attempts : 0 NaN\n",
      "B__Round1_Strikes_Ground Significant Kicks_Landed : 0 NaN\n",
      "B__Round1_Strikes_Ground Significant Punches_Attempts : 0 NaN\n",
      "B__Round1_Strikes_Ground Significant Punches_Landed : 0 NaN\n",
      "B__Round1_Strikes_Ground Significant Strikes_Attempts : 0 NaN\n",
      "B__Round1_Strikes_Ground Significant Strikes_Landed : 0 NaN\n",
      "B__Round1_Strikes_Ground Total Strikes_Attempts : 0 NaN\n",
      "B__Round1_Strikes_Ground Total Strikes_Landed : 0 NaN\n",
      "B__Round1_Strikes_Head Significant Strikes_Attempts : 0 NaN\n",
      "B__Round1_Strikes_Head Significant Strikes_Landed : 0 NaN\n",
      "B__Round1_Strikes_Head Total Strikes_Attempts : 0 NaN\n",
      "B__Round1_Strikes_Head Total Strikes_Landed : 0 NaN\n",
      "B__Round1_Strikes_Kicks_Attempts : 0 NaN\n",
      "B__Round1_Strikes_Kicks_Landed : 0 NaN\n",
      "B__Round1_Strikes_Knock Down_Landed : 0 NaN\n",
      "B__Round1_Strikes_Legs Significant Strikes_Attempts : 0 NaN\n",
      "B__Round1_Strikes_Legs Significant Strikes_Landed : 0 NaN\n",
      "B__Round1_Strikes_Punches_Attempts : 0 NaN\n",
      "B__Round1_Strikes_Punches_Landed : 0 NaN\n",
      "B__Round1_Strikes_Significant Strikes_Attempts : 0 NaN\n",
      "B__Round1_Strikes_Significant Strikes_Landed : 0 NaN\n",
      "B__Round1_Strikes_Total Strikes_Attempts : 0 NaN\n",
      "B__Round1_Strikes_Total Strikes_Landed : 0 NaN\n",
      "B__Round1_TIP_Back Control Time : 0 NaN\n",
      "B__Round1_TIP_Clinch Time : 0 NaN\n",
      "B__Round1_TIP_Control Time : 0 NaN\n",
      "B__Round1_TIP_Distance Time : 0 NaN\n",
      "B__Round1_TIP_Ground Control Time : 0 NaN\n",
      "B__Round1_TIP_Ground Time : 0 NaN\n",
      "B__Round1_TIP_Guard Control Time : 0 NaN\n",
      "B__Round1_TIP_Half Guard Control Time : 0 NaN\n",
      "B__Round1_TIP_Misc. Ground Control Time : 0 NaN\n",
      "B__Round1_TIP_Mount Control Time : 0 NaN\n",
      "B__Round1_TIP_Neutral Time : 0 NaN\n",
      "B__Round1_TIP_Side Control Time : 0 NaN\n",
      "B__Round1_TIP_Standing Time : 0 NaN\n",
      "Event_ID : 0 NaN\n",
      "Fight_ID : 0 NaN\n",
      "Last_round : 0 NaN\n",
      "Max_round : 0 NaN\n",
      "RPrev : 0 NaN\n",
      "R_Age : 0 NaN\n",
      "R_Height : 0 NaN\n",
      "R_Weight : 0 NaN\n",
      "R__Round1_Grappling_Reversals_Landed : 0 NaN\n",
      "R__Round1_Grappling_Standups_Landed : 0 NaN\n",
      "R__Round1_Grappling_Submissions_Attempts : 0 NaN\n",
      "R__Round1_Grappling_Takedowns_Attempts : 0 NaN\n",
      "R__Round1_Grappling_Takedowns_Landed : 0 NaN\n",
      "R__Round1_Strikes_Body Significant Strikes_Attempts : 0 NaN\n",
      "R__Round1_Strikes_Body Significant Strikes_Landed : 0 NaN\n",
      "R__Round1_Strikes_Body Total Strikes_Attempts : 0 NaN\n",
      "R__Round1_Strikes_Body Total Strikes_Landed : 0 NaN\n",
      "R__Round1_Strikes_Clinch Body Strikes_Attempts : 0 NaN\n",
      "R__Round1_Strikes_Clinch Body Strikes_Landed : 0 NaN\n",
      "R__Round1_Strikes_Clinch Head Strikes_Attempts : 0 NaN\n",
      "R__Round1_Strikes_Clinch Head Strikes_Landed : 0 NaN\n",
      "R__Round1_Strikes_Clinch Leg Strikes_Attempts : 0 NaN\n",
      "R__Round1_Strikes_Clinch Leg Strikes_Landed : 0 NaN\n",
      "R__Round1_Strikes_Clinch Significant Kicks_Attempts : 0 NaN\n",
      "R__Round1_Strikes_Clinch Significant Kicks_Landed : 0 NaN\n",
      "R__Round1_Strikes_Clinch Significant Punches_Attempts : 0 NaN\n",
      "R__Round1_Strikes_Clinch Significant Punches_Landed : 0 NaN\n",
      "R__Round1_Strikes_Clinch Significant Strikes_Attempts : 0 NaN\n",
      "R__Round1_Strikes_Clinch Significant Strikes_Landed : 0 NaN\n",
      "R__Round1_Strikes_Clinch Total Strikes_Attempts : 0 NaN\n",
      "R__Round1_Strikes_Clinch Total Strikes_Landed : 0 NaN\n",
      "R__Round1_Strikes_Distance Body Kicks_Attempts : 0 NaN\n",
      "R__Round1_Strikes_Distance Body Kicks_Landed : 0 NaN\n",
      "R__Round1_Strikes_Distance Body Punches_Attempts : 0 NaN\n",
      "R__Round1_Strikes_Distance Body Punches_Landed : 0 NaN\n",
      "R__Round1_Strikes_Distance Body Strikes_Attempts : 0 NaN\n",
      "R__Round1_Strikes_Distance Body Strikes_Landed : 0 NaN\n",
      "R__Round1_Strikes_Distance Head Kicks_Attempts : 0 NaN\n",
      "R__Round1_Strikes_Distance Head Kicks_Landed : 0 NaN\n",
      "R__Round1_Strikes_Distance Head Punches_Attempts : 0 NaN\n",
      "R__Round1_Strikes_Distance Head Punches_Landed : 0 NaN\n",
      "R__Round1_Strikes_Distance Head Strikes_Attempts : 0 NaN\n",
      "R__Round1_Strikes_Distance Head Strikes_Landed : 0 NaN\n",
      "R__Round1_Strikes_Distance Leg Kicks_Attempts : 0 NaN\n",
      "R__Round1_Strikes_Distance Leg Kicks_Landed : 0 NaN\n",
      "R__Round1_Strikes_Distance Leg Strikes_Attempts : 0 NaN\n",
      "R__Round1_Strikes_Distance Leg Strikes_Landed : 0 NaN\n",
      "R__Round1_Strikes_Distance Strikes_Attempts : 0 NaN\n",
      "R__Round1_Strikes_Distance Strikes_Landed : 0 NaN\n",
      "R__Round1_Strikes_Ground Body Strikes_Attempts : 0 NaN\n",
      "R__Round1_Strikes_Ground Body Strikes_Landed : 0 NaN\n",
      "R__Round1_Strikes_Ground Head Strikes_Attempts : 0 NaN\n",
      "R__Round1_Strikes_Ground Head Strikes_Landed : 0 NaN\n",
      "R__Round1_Strikes_Ground Leg Strikes_Attempts : 0 NaN\n",
      "R__Round1_Strikes_Ground Leg Strikes_Landed : 0 NaN\n",
      "R__Round1_Strikes_Ground Significant Kicks_Attempts : 0 NaN\n",
      "R__Round1_Strikes_Ground Significant Kicks_Landed : 0 NaN\n",
      "R__Round1_Strikes_Ground Significant Punches_Attempts : 0 NaN\n",
      "R__Round1_Strikes_Ground Significant Punches_Landed : 0 NaN\n",
      "R__Round1_Strikes_Ground Significant Strikes_Attempts : 0 NaN\n",
      "R__Round1_Strikes_Ground Significant Strikes_Landed : 0 NaN\n",
      "R__Round1_Strikes_Ground Total Strikes_Attempts : 0 NaN\n",
      "R__Round1_Strikes_Ground Total Strikes_Landed : 0 NaN\n",
      "R__Round1_Strikes_Head Significant Strikes_Attempts : 0 NaN\n",
      "R__Round1_Strikes_Head Significant Strikes_Landed : 0 NaN\n",
      "R__Round1_Strikes_Head Total Strikes_Attempts : 0 NaN\n",
      "R__Round1_Strikes_Head Total Strikes_Landed : 0 NaN\n",
      "R__Round1_Strikes_Kicks_Attempts : 0 NaN\n",
      "R__Round1_Strikes_Kicks_Landed : 0 NaN\n",
      "R__Round1_Strikes_Knock Down_Landed : 0 NaN\n",
      "R__Round1_Strikes_Legs Significant Strikes_Attempts : 0 NaN\n",
      "R__Round1_Strikes_Legs Significant Strikes_Landed : 0 NaN\n",
      "R__Round1_Strikes_Legs Total Strikes_Attempts : 0 NaN\n",
      "R__Round1_Strikes_Legs Total Strikes_Landed : 0 NaN\n",
      "R__Round1_Strikes_Punches_Attempts : 0 NaN\n",
      "R__Round1_Strikes_Punches_Landed : 0 NaN\n",
      "R__Round1_Strikes_Significant Strikes_Attempts : 0 NaN\n",
      "R__Round1_Strikes_Significant Strikes_Landed : 0 NaN\n",
      "R__Round1_Strikes_Total Strikes_Attempts : 0 NaN\n",
      "R__Round1_Strikes_Total Strikes_Landed : 0 NaN\n",
      "R__Round1_TIP_Back Control Time : 0 NaN\n",
      "R__Round1_TIP_Clinch Time : 0 NaN\n",
      "R__Round1_TIP_Control Time : 0 NaN\n",
      "R__Round1_TIP_Distance Time : 0 NaN\n",
      "R__Round1_TIP_Ground Control Time : 0 NaN\n",
      "R__Round1_TIP_Ground Time : 0 NaN\n",
      "R__Round1_TIP_Guard Control Time : 0 NaN\n",
      "R__Round1_TIP_Half Guard Control Time : 0 NaN\n",
      "R__Round1_TIP_Misc. Ground Control Time : 0 NaN\n",
      "R__Round1_TIP_Mount Control Time : 0 NaN\n",
      "R__Round1_TIP_Neutral Time : 0 NaN\n",
      "R__Round1_TIP_Side Control Time : 0 NaN\n",
      "R__Round1_TIP_Standing Time : 0 NaN\n",
      "R__Round2_Grappling_Reversals_Landed : 0 NaN\n",
      "R__Round2_Grappling_Standups_Landed : 0 NaN\n",
      "R__Round2_Grappling_Submissions_Attempts : 0 NaN\n",
      "R__Round2_Grappling_Takedowns_Attempts : 0 NaN\n",
      "R__Round2_Grappling_Takedowns_Landed : 0 NaN\n",
      "R__Round2_Strikes_Body Significant Strikes_Attempts : 0 NaN\n",
      "R__Round2_Strikes_Body Significant Strikes_Landed : 0 NaN\n",
      "R__Round2_Strikes_Body Total Strikes_Attempts : 0 NaN\n",
      "R__Round2_Strikes_Body Total Strikes_Landed : 0 NaN\n",
      "R__Round2_Strikes_Clinch Body Strikes_Attempts : 0 NaN\n",
      "R__Round2_Strikes_Clinch Body Strikes_Landed : 0 NaN\n",
      "R__Round2_Strikes_Clinch Head Strikes_Attempts : 0 NaN\n",
      "R__Round2_Strikes_Clinch Head Strikes_Landed : 0 NaN\n",
      "R__Round2_Strikes_Clinch Leg Strikes_Attempts : 0 NaN\n",
      "R__Round2_Strikes_Clinch Leg Strikes_Landed : 0 NaN\n",
      "R__Round2_Strikes_Clinch Significant Kicks_Attempts : 0 NaN\n",
      "R__Round2_Strikes_Clinch Significant Kicks_Landed : 0 NaN\n",
      "R__Round2_Strikes_Clinch Significant Punches_Attempts : 0 NaN\n",
      "R__Round2_Strikes_Clinch Significant Punches_Landed : 0 NaN\n",
      "R__Round2_Strikes_Clinch Significant Strikes_Attempts : 0 NaN\n",
      "R__Round2_Strikes_Clinch Significant Strikes_Landed : 0 NaN\n",
      "R__Round2_Strikes_Clinch Total Strikes_Attempts : 0 NaN\n",
      "R__Round2_Strikes_Clinch Total Strikes_Landed : 0 NaN\n",
      "R__Round2_Strikes_Distance Body Kicks_Attempts : 0 NaN\n",
      "R__Round2_Strikes_Distance Body Kicks_Landed : 0 NaN\n",
      "R__Round2_Strikes_Distance Body Punches_Attempts : 0 NaN\n",
      "R__Round2_Strikes_Distance Body Punches_Landed : 0 NaN\n",
      "R__Round2_Strikes_Distance Body Strikes_Attempts : 0 NaN\n",
      "R__Round2_Strikes_Distance Body Strikes_Landed : 0 NaN\n",
      "R__Round2_Strikes_Distance Head Kicks_Attempts : 0 NaN\n",
      "R__Round2_Strikes_Distance Head Kicks_Landed : 0 NaN\n",
      "R__Round2_Strikes_Distance Head Punches_Attempts : 0 NaN\n",
      "R__Round2_Strikes_Distance Head Punches_Landed : 0 NaN\n",
      "R__Round2_Strikes_Distance Head Strikes_Attempts : 0 NaN\n",
      "R__Round2_Strikes_Distance Head Strikes_Landed : 0 NaN\n",
      "R__Round2_Strikes_Distance Leg Kicks_Attempts : 0 NaN\n",
      "R__Round2_Strikes_Distance Leg Kicks_Landed : 0 NaN\n",
      "R__Round2_Strikes_Distance Leg Strikes_Attempts : 0 NaN\n",
      "R__Round2_Strikes_Distance Leg Strikes_Landed : 0 NaN\n",
      "R__Round2_Strikes_Distance Strikes_Attempts : 0 NaN\n",
      "R__Round2_Strikes_Distance Strikes_Landed : 0 NaN\n",
      "R__Round2_Strikes_Ground Body Strikes_Attempts : 0 NaN\n",
      "R__Round2_Strikes_Ground Body Strikes_Landed : 0 NaN\n",
      "R__Round2_Strikes_Ground Head Strikes_Attempts : 0 NaN\n",
      "R__Round2_Strikes_Ground Head Strikes_Landed : 0 NaN\n",
      "R__Round2_Strikes_Ground Leg Strikes_Attempts : 0 NaN\n",
      "R__Round2_Strikes_Ground Leg Strikes_Landed : 0 NaN\n",
      "R__Round2_Strikes_Ground Significant Kicks_Attempts : 0 NaN\n",
      "R__Round2_Strikes_Ground Significant Kicks_Landed : 0 NaN\n",
      "R__Round2_Strikes_Ground Significant Punches_Attempts : 0 NaN\n",
      "R__Round2_Strikes_Ground Significant Punches_Landed : 0 NaN\n",
      "R__Round2_Strikes_Ground Significant Strikes_Attempts : 0 NaN\n",
      "R__Round2_Strikes_Ground Significant Strikes_Landed : 0 NaN\n",
      "R__Round2_Strikes_Ground Total Strikes_Attempts : 0 NaN\n",
      "R__Round2_Strikes_Ground Total Strikes_Landed : 0 NaN\n",
      "R__Round2_Strikes_Head Significant Strikes_Attempts : 0 NaN\n",
      "R__Round2_Strikes_Head Significant Strikes_Landed : 0 NaN\n",
      "R__Round2_Strikes_Head Total Strikes_Attempts : 0 NaN\n",
      "R__Round2_Strikes_Head Total Strikes_Landed : 0 NaN\n",
      "R__Round2_Strikes_Kicks_Attempts : 0 NaN\n",
      "R__Round2_Strikes_Kicks_Landed : 0 NaN\n",
      "R__Round2_Strikes_Knock Down_Landed : 0 NaN\n",
      "R__Round2_Strikes_Legs Significant Strikes_Attempts : 0 NaN\n",
      "R__Round2_Strikes_Legs Significant Strikes_Landed : 0 NaN\n",
      "R__Round2_Strikes_Legs Total Strikes_Attempts : 0 NaN\n",
      "R__Round2_Strikes_Legs Total Strikes_Landed : 0 NaN\n",
      "R__Round2_Strikes_Punches_Attempts : 0 NaN\n",
      "R__Round2_Strikes_Punches_Landed : 0 NaN\n",
      "R__Round2_Strikes_Significant Strikes_Attempts : 0 NaN\n",
      "R__Round2_Strikes_Significant Strikes_Landed : 0 NaN\n",
      "R__Round2_Strikes_Total Strikes_Attempts : 0 NaN\n",
      "R__Round2_Strikes_Total Strikes_Landed : 0 NaN\n",
      "R__Round2_TIP_Back Control Time : 0 NaN\n",
      "R__Round2_TIP_Clinch Time : 0 NaN\n",
      "R__Round2_TIP_Control Time : 0 NaN\n",
      "R__Round2_TIP_Distance Time : 0 NaN\n",
      "R__Round2_TIP_Ground Control Time : 0 NaN\n",
      "R__Round2_TIP_Ground Time : 0 NaN\n",
      "R__Round2_TIP_Guard Control Time : 0 NaN\n",
      "R__Round2_TIP_Half Guard Control Time : 0 NaN\n",
      "R__Round2_TIP_Misc. Ground Control Time : 0 NaN\n",
      "R__Round2_TIP_Mount Control Time : 0 NaN\n",
      "R__Round2_TIP_Neutral Time : 0 NaN\n",
      "R__Round2_TIP_Side Control Time : 0 NaN\n",
      "R__Round2_TIP_Standing Time : 0 NaN\n",
      "winner : 0 NaN\n"
     ]
    }
   ],
   "source": [
    "# Printing total NaN's for all columns.  Shoutout to Charles B. (Kaggle) for the code.\n",
    "\n",
    "print(\"Total NaN in dataframe :\" , master.isna().sum().sum())\n",
    "print(\"Total NaN in each column of the dataframe\")\n",
    "na = []\n",
    "for index, col in enumerate(master):\n",
    "    na.append((index, master[col].isna().sum())) \n",
    "na_sorted = na.copy()\n",
    "na_sorted.sort(key = lambda x: x[1], reverse = True) \n",
    "\n",
    "for i in range(len(master.columns)):\n",
    "    print(master.columns[na_sorted[i][0]],\":\", na_sorted[i][1], \"NaN\")"
   ]
  },
  {
   "cell_type": "code",
   "execution_count": 14,
   "id": "0e432732",
   "metadata": {
    "execution": {
     "iopub.execute_input": "2022-03-06T23:23:32.716356Z",
     "iopub.status.busy": "2022-03-06T23:23:32.715420Z",
     "iopub.status.idle": "2022-03-06T23:23:32.719240Z",
     "shell.execute_reply": "2022-03-06T23:23:32.720002Z",
     "shell.execute_reply.started": "2022-03-06T22:59:46.755250Z"
    },
    "papermill": {
     "duration": 0.049725,
     "end_time": "2022-03-06T23:23:32.720226",
     "exception": false,
     "start_time": "2022-03-06T23:23:32.670501",
     "status": "completed"
    },
    "tags": []
   },
   "outputs": [
    {
     "name": "stdout",
     "output_type": "stream",
     "text": [
      "01/01/2018\n",
      "24/10/2015\n"
     ]
    }
   ],
   "source": [
    "# Checking the timeframe of the fight data to ensure no fight data is prior to the unified rules adoption in April 2001.\n",
    "\n",
    "print(data['Date'].min())\n",
    "print((data['Date'].max()))"
   ]
  },
  {
   "cell_type": "markdown",
   "id": "1b56aafe",
   "metadata": {
    "papermill": {
     "duration": 0.037405,
     "end_time": "2022-03-06T23:23:32.796661",
     "exception": false,
     "start_time": "2022-03-06T23:23:32.759256",
     "status": "completed"
    },
    "tags": []
   },
   "source": [
    "### Dropping all \"draw\" and \"no contests\" from target variable so that we're left with only red winner or blue winner."
   ]
  },
  {
   "cell_type": "code",
   "execution_count": 15,
   "id": "19450639",
   "metadata": {
    "execution": {
     "iopub.execute_input": "2022-03-06T23:23:32.882688Z",
     "iopub.status.busy": "2022-03-06T23:23:32.881986Z",
     "iopub.status.idle": "2022-03-06T23:23:32.885005Z",
     "shell.execute_reply": "2022-03-06T23:23:32.884442Z",
     "shell.execute_reply.started": "2022-03-06T22:59:46.805056Z"
    },
    "papermill": {
     "duration": 0.048964,
     "end_time": "2022-03-06T23:23:32.885272",
     "exception": false,
     "start_time": "2022-03-06T23:23:32.836308",
     "status": "completed"
    },
    "tags": []
   },
   "outputs": [],
   "source": [
    "master.drop(master.index[master['winner'] == 'draw'], inplace = True)"
   ]
  },
  {
   "cell_type": "code",
   "execution_count": 16,
   "id": "a33988cc",
   "metadata": {
    "execution": {
     "iopub.execute_input": "2022-03-06T23:23:32.970950Z",
     "iopub.status.busy": "2022-03-06T23:23:32.966023Z",
     "iopub.status.idle": "2022-03-06T23:23:32.973961Z",
     "shell.execute_reply": "2022-03-06T23:23:32.973389Z",
     "shell.execute_reply.started": "2022-03-06T22:59:46.816680Z"
    },
    "papermill": {
     "duration": 0.050192,
     "end_time": "2022-03-06T23:23:32.974096",
     "exception": false,
     "start_time": "2022-03-06T23:23:32.923904",
     "status": "completed"
    },
    "tags": []
   },
   "outputs": [],
   "source": [
    "master.drop(master.index[master['winner'] == 'no contest'], inplace = True)"
   ]
  },
  {
   "cell_type": "code",
   "execution_count": 17,
   "id": "1ad1e3ab",
   "metadata": {
    "execution": {
     "iopub.execute_input": "2022-03-06T23:23:33.057774Z",
     "iopub.status.busy": "2022-03-06T23:23:33.056875Z",
     "iopub.status.idle": "2022-03-06T23:23:33.058957Z",
     "shell.execute_reply": "2022-03-06T23:23:33.059423Z",
     "shell.execute_reply.started": "2022-03-06T22:59:46.832538Z"
    },
    "papermill": {
     "duration": 0.047426,
     "end_time": "2022-03-06T23:23:33.059603",
     "exception": false,
     "start_time": "2022-03-06T23:23:33.012177",
     "status": "completed"
    },
    "tags": []
   },
   "outputs": [],
   "source": [
    "# Target variable is either \"red\" or \"blue\" (the winner of the fight).  Transforming to \"1\" and \"0\".\n",
    "\n",
    "from sklearn.preprocessing import OrdinalEncoder, LabelEncoder\n",
    "\n",
    "le = LabelEncoder()\n",
    "master['winner'] = le.fit_transform(master['winner'])"
   ]
  },
  {
   "cell_type": "code",
   "execution_count": 18,
   "id": "0c2a7035",
   "metadata": {
    "execution": {
     "iopub.execute_input": "2022-03-06T23:23:33.140992Z",
     "iopub.status.busy": "2022-03-06T23:23:33.140219Z",
     "iopub.status.idle": "2022-03-06T23:23:33.145210Z",
     "shell.execute_reply": "2022-03-06T23:23:33.144537Z",
     "shell.execute_reply.started": "2022-03-06T22:59:46.846144Z"
    },
    "papermill": {
     "duration": 0.047818,
     "end_time": "2022-03-06T23:23:33.145350",
     "exception": false,
     "start_time": "2022-03-06T23:23:33.097532",
     "status": "completed"
    },
    "tags": []
   },
   "outputs": [],
   "source": [
    "# Creating our test and train datasets\n",
    "\n",
    "X = master.drop(['winner'], axis=1)\n",
    "y = master['winner']"
   ]
  },
  {
   "cell_type": "code",
   "execution_count": 19,
   "id": "0585601f",
   "metadata": {
    "execution": {
     "iopub.execute_input": "2022-03-06T23:23:33.229466Z",
     "iopub.status.busy": "2022-03-06T23:23:33.228729Z",
     "iopub.status.idle": "2022-03-06T23:23:33.232217Z",
     "shell.execute_reply": "2022-03-06T23:23:33.232823Z",
     "shell.execute_reply.started": "2022-03-06T22:59:46.861099Z"
    },
    "papermill": {
     "duration": 0.04986,
     "end_time": "2022-03-06T23:23:33.233022",
     "exception": false,
     "start_time": "2022-03-06T23:23:33.183162",
     "status": "completed"
    },
    "tags": []
   },
   "outputs": [],
   "source": [
    "from sklearn.model_selection import train_test_split\n",
    "\n",
    "X_train, X_test, y_train, y_test = train_test_split(X, y, test_size=0.2,random_state=25)"
   ]
  },
  {
   "cell_type": "code",
   "execution_count": 20,
   "id": "5e8b933a",
   "metadata": {
    "execution": {
     "iopub.execute_input": "2022-03-06T23:23:33.314704Z",
     "iopub.status.busy": "2022-03-06T23:23:33.314013Z",
     "iopub.status.idle": "2022-03-06T23:23:33.316552Z",
     "shell.execute_reply": "2022-03-06T23:23:33.317074Z",
     "shell.execute_reply.started": "2022-03-06T22:59:46.875009Z"
    },
    "papermill": {
     "duration": 0.046227,
     "end_time": "2022-03-06T23:23:33.317240",
     "exception": false,
     "start_time": "2022-03-06T23:23:33.271013",
     "status": "completed"
    },
    "tags": []
   },
   "outputs": [
    {
     "data": {
      "text/plain": [
       "((1822, 266), (456, 266))"
      ]
     },
     "execution_count": 20,
     "metadata": {},
     "output_type": "execute_result"
    }
   ],
   "source": [
    "X_train.shape, X_test.shape"
   ]
  },
  {
   "cell_type": "code",
   "execution_count": 21,
   "id": "3d78f951",
   "metadata": {
    "execution": {
     "iopub.execute_input": "2022-03-06T23:23:33.397647Z",
     "iopub.status.busy": "2022-03-06T23:23:33.396921Z",
     "iopub.status.idle": "2022-03-06T23:23:33.410148Z",
     "shell.execute_reply": "2022-03-06T23:23:33.410699Z",
     "shell.execute_reply.started": "2022-03-06T22:59:46.883650Z"
    },
    "papermill": {
     "duration": 0.054499,
     "end_time": "2022-03-06T23:23:33.410878",
     "exception": false,
     "start_time": "2022-03-06T23:23:33.356379",
     "status": "completed"
    },
    "tags": []
   },
   "outputs": [
    {
     "name": "stdout",
     "output_type": "stream",
     "text": [
      "BPrev                                                      int64\n",
      "BStreak                                                    int64\n",
      "B_Age                                                    float64\n",
      "B_Height                                                 float64\n",
      "B_Weight                                                 float64\n",
      "B__Round1_Grappling_Reversals_Landed                     float64\n",
      "B__Round1_Grappling_Standups_Landed                      float64\n",
      "B__Round1_Grappling_Submissions_Attempts                 float64\n",
      "B__Round1_Grappling_Takedowns_Attempts                   float64\n",
      "B__Round1_Grappling_Takedowns_Landed                     float64\n",
      "B__Round1_Strikes_Body Significant Strikes_Attempts      float64\n",
      "B__Round1_Strikes_Body Significant Strikes_Landed        float64\n",
      "B__Round1_Strikes_Body Total Strikes_Attempts            float64\n",
      "B__Round1_Strikes_Body Total Strikes_Landed              float64\n",
      "B__Round1_Strikes_Clinch Body Strikes_Attempts           float64\n",
      "B__Round1_Strikes_Clinch Body Strikes_Landed             float64\n",
      "B__Round1_Strikes_Clinch Head Strikes_Attempts           float64\n",
      "B__Round1_Strikes_Clinch Head Strikes_Landed             float64\n",
      "B__Round1_Strikes_Clinch Leg Strikes_Attempts            float64\n",
      "B__Round1_Strikes_Clinch Leg Strikes_Landed              float64\n",
      "B__Round1_Strikes_Clinch Significant Kicks_Attempts      float64\n",
      "B__Round1_Strikes_Clinch Significant Kicks_Landed        float64\n",
      "B__Round1_Strikes_Clinch Significant Punches_Attempts    float64\n",
      "B__Round1_Strikes_Clinch Significant Punches_Landed      float64\n",
      "B__Round1_Strikes_Clinch Significant Strikes_Attempts    float64\n",
      "B__Round1_Strikes_Clinch Significant Strikes_Landed      float64\n",
      "B__Round1_Strikes_Clinch Total Strikes_Attempts          float64\n",
      "B__Round1_Strikes_Clinch Total Strikes_Landed            float64\n",
      "B__Round1_Strikes_Distance Body Kicks_Attempts           float64\n",
      "B__Round1_Strikes_Distance Body Kicks_Landed             float64\n",
      "B__Round1_Strikes_Distance Body Punches_Attempts         float64\n",
      "B__Round1_Strikes_Distance Body Punches_Landed           float64\n",
      "B__Round1_Strikes_Distance Body Strikes_Attempts         float64\n",
      "B__Round1_Strikes_Distance Body Strikes_Landed           float64\n",
      "B__Round1_Strikes_Distance Head Kicks_Attempts           float64\n",
      "B__Round1_Strikes_Distance Head Kicks_Landed             float64\n",
      "B__Round1_Strikes_Distance Head Punches_Attempts         float64\n",
      "B__Round1_Strikes_Distance Head Punches_Landed           float64\n",
      "B__Round1_Strikes_Distance Head Strikes_Attempts         float64\n",
      "B__Round1_Strikes_Distance Head Strikes_Landed           float64\n",
      "B__Round1_Strikes_Distance Leg Kicks_Attempts            float64\n",
      "B__Round1_Strikes_Distance Leg Kicks_Landed              float64\n",
      "B__Round1_Strikes_Distance Leg Strikes_Attempts          float64\n",
      "B__Round1_Strikes_Distance Leg Strikes_Landed            float64\n",
      "B__Round1_Strikes_Distance Strikes_Attempts              float64\n",
      "B__Round1_Strikes_Distance Strikes_Landed                float64\n",
      "B__Round1_Strikes_Ground Body Strikes_Attempts           float64\n",
      "B__Round1_Strikes_Ground Body Strikes_Landed             float64\n",
      "B__Round1_Strikes_Ground Head Strikes_Attempts           float64\n",
      "B__Round1_Strikes_Ground Head Strikes_Landed             float64\n",
      "B__Round1_Strikes_Ground Leg Strikes_Attempts            float64\n",
      "B__Round1_Strikes_Ground Leg Strikes_Landed              float64\n",
      "B__Round1_Strikes_Ground Significant Kicks_Attempts      float64\n",
      "B__Round1_Strikes_Ground Significant Kicks_Landed        float64\n",
      "B__Round1_Strikes_Ground Significant Punches_Attempts    float64\n",
      "B__Round1_Strikes_Ground Significant Punches_Landed      float64\n",
      "B__Round1_Strikes_Ground Significant Strikes_Attempts    float64\n",
      "B__Round1_Strikes_Ground Significant Strikes_Landed      float64\n",
      "B__Round1_Strikes_Ground Total Strikes_Attempts          float64\n",
      "B__Round1_Strikes_Ground Total Strikes_Landed            float64\n",
      "B__Round1_Strikes_Head Significant Strikes_Attempts      float64\n",
      "B__Round1_Strikes_Head Significant Strikes_Landed        float64\n",
      "B__Round1_Strikes_Head Total Strikes_Attempts            float64\n",
      "B__Round1_Strikes_Head Total Strikes_Landed              float64\n",
      "B__Round1_Strikes_Kicks_Attempts                         float64\n",
      "B__Round1_Strikes_Kicks_Landed                           float64\n",
      "B__Round1_Strikes_Knock Down_Landed                      float64\n",
      "B__Round1_Strikes_Legs Significant Strikes_Attempts      float64\n",
      "B__Round1_Strikes_Legs Significant Strikes_Landed        float64\n",
      "B__Round1_Strikes_Punches_Attempts                       float64\n",
      "B__Round1_Strikes_Punches_Landed                         float64\n",
      "B__Round1_Strikes_Significant Strikes_Attempts           float64\n",
      "B__Round1_Strikes_Significant Strikes_Landed             float64\n",
      "B__Round1_Strikes_Total Strikes_Attempts                 float64\n",
      "B__Round1_Strikes_Total Strikes_Landed                   float64\n",
      "B__Round1_TIP_Back Control Time                          float64\n",
      "B__Round1_TIP_Clinch Time                                float64\n",
      "B__Round1_TIP_Control Time                               float64\n",
      "B__Round1_TIP_Distance Time                              float64\n",
      "B__Round1_TIP_Ground Control Time                        float64\n",
      "B__Round1_TIP_Ground Time                                float64\n",
      "B__Round1_TIP_Guard Control Time                         float64\n",
      "B__Round1_TIP_Half Guard Control Time                    float64\n",
      "B__Round1_TIP_Misc. Ground Control Time                  float64\n",
      "B__Round1_TIP_Mount Control Time                         float64\n",
      "B__Round1_TIP_Neutral Time                               float64\n",
      "B__Round1_TIP_Side Control Time                          float64\n",
      "B__Round1_TIP_Standing Time                              float64\n",
      "Event_ID                                                   int64\n",
      "Fight_ID                                                   int64\n",
      "Last_round                                                 int64\n",
      "Max_round                                                  int64\n",
      "RPrev                                                      int64\n",
      "R_Age                                                    float64\n",
      "R_Height                                                 float64\n",
      "R_Weight                                                 float64\n",
      "R__Round1_Grappling_Reversals_Landed                     float64\n",
      "R__Round1_Grappling_Standups_Landed                      float64\n",
      "R__Round1_Grappling_Submissions_Attempts                 float64\n",
      "R__Round1_Grappling_Takedowns_Attempts                   float64\n",
      "R__Round1_Grappling_Takedowns_Landed                     float64\n",
      "R__Round1_Strikes_Body Significant Strikes_Attempts      float64\n",
      "R__Round1_Strikes_Body Significant Strikes_Landed        float64\n",
      "R__Round1_Strikes_Body Total Strikes_Attempts            float64\n",
      "R__Round1_Strikes_Body Total Strikes_Landed              float64\n",
      "R__Round1_Strikes_Clinch Body Strikes_Attempts           float64\n",
      "R__Round1_Strikes_Clinch Body Strikes_Landed             float64\n",
      "R__Round1_Strikes_Clinch Head Strikes_Attempts           float64\n",
      "R__Round1_Strikes_Clinch Head Strikes_Landed             float64\n",
      "R__Round1_Strikes_Clinch Leg Strikes_Attempts            float64\n",
      "R__Round1_Strikes_Clinch Leg Strikes_Landed              float64\n",
      "R__Round1_Strikes_Clinch Significant Kicks_Attempts      float64\n",
      "R__Round1_Strikes_Clinch Significant Kicks_Landed        float64\n",
      "R__Round1_Strikes_Clinch Significant Punches_Attempts    float64\n",
      "R__Round1_Strikes_Clinch Significant Punches_Landed      float64\n",
      "R__Round1_Strikes_Clinch Significant Strikes_Attempts    float64\n",
      "R__Round1_Strikes_Clinch Significant Strikes_Landed      float64\n",
      "R__Round1_Strikes_Clinch Total Strikes_Attempts          float64\n",
      "R__Round1_Strikes_Clinch Total Strikes_Landed            float64\n",
      "R__Round1_Strikes_Distance Body Kicks_Attempts           float64\n",
      "R__Round1_Strikes_Distance Body Kicks_Landed             float64\n",
      "R__Round1_Strikes_Distance Body Punches_Attempts         float64\n",
      "R__Round1_Strikes_Distance Body Punches_Landed           float64\n",
      "R__Round1_Strikes_Distance Body Strikes_Attempts         float64\n",
      "R__Round1_Strikes_Distance Body Strikes_Landed           float64\n",
      "R__Round1_Strikes_Distance Head Kicks_Attempts           float64\n",
      "R__Round1_Strikes_Distance Head Kicks_Landed             float64\n",
      "R__Round1_Strikes_Distance Head Punches_Attempts         float64\n",
      "R__Round1_Strikes_Distance Head Punches_Landed           float64\n",
      "R__Round1_Strikes_Distance Head Strikes_Attempts         float64\n",
      "R__Round1_Strikes_Distance Head Strikes_Landed           float64\n",
      "R__Round1_Strikes_Distance Leg Kicks_Attempts            float64\n",
      "R__Round1_Strikes_Distance Leg Kicks_Landed              float64\n",
      "R__Round1_Strikes_Distance Leg Strikes_Attempts          float64\n",
      "R__Round1_Strikes_Distance Leg Strikes_Landed            float64\n",
      "R__Round1_Strikes_Distance Strikes_Attempts              float64\n",
      "R__Round1_Strikes_Distance Strikes_Landed                float64\n",
      "R__Round1_Strikes_Ground Body Strikes_Attempts           float64\n",
      "R__Round1_Strikes_Ground Body Strikes_Landed             float64\n",
      "R__Round1_Strikes_Ground Head Strikes_Attempts           float64\n",
      "R__Round1_Strikes_Ground Head Strikes_Landed             float64\n",
      "R__Round1_Strikes_Ground Leg Strikes_Attempts            float64\n",
      "R__Round1_Strikes_Ground Leg Strikes_Landed              float64\n",
      "R__Round1_Strikes_Ground Significant Kicks_Attempts      float64\n",
      "R__Round1_Strikes_Ground Significant Kicks_Landed        float64\n",
      "R__Round1_Strikes_Ground Significant Punches_Attempts    float64\n",
      "R__Round1_Strikes_Ground Significant Punches_Landed      float64\n",
      "R__Round1_Strikes_Ground Significant Strikes_Attempts    float64\n",
      "R__Round1_Strikes_Ground Significant Strikes_Landed      float64\n",
      "R__Round1_Strikes_Ground Total Strikes_Attempts          float64\n",
      "R__Round1_Strikes_Ground Total Strikes_Landed            float64\n",
      "R__Round1_Strikes_Head Significant Strikes_Attempts      float64\n",
      "R__Round1_Strikes_Head Significant Strikes_Landed        float64\n",
      "R__Round1_Strikes_Head Total Strikes_Attempts            float64\n",
      "R__Round1_Strikes_Head Total Strikes_Landed              float64\n",
      "R__Round1_Strikes_Kicks_Attempts                         float64\n",
      "R__Round1_Strikes_Kicks_Landed                           float64\n",
      "R__Round1_Strikes_Knock Down_Landed                      float64\n",
      "R__Round1_Strikes_Legs Significant Strikes_Attempts      float64\n",
      "R__Round1_Strikes_Legs Significant Strikes_Landed        float64\n",
      "R__Round1_Strikes_Legs Total Strikes_Attempts            float64\n",
      "R__Round1_Strikes_Legs Total Strikes_Landed              float64\n",
      "R__Round1_Strikes_Punches_Attempts                       float64\n",
      "R__Round1_Strikes_Punches_Landed                         float64\n",
      "R__Round1_Strikes_Significant Strikes_Attempts           float64\n",
      "R__Round1_Strikes_Significant Strikes_Landed             float64\n",
      "R__Round1_Strikes_Total Strikes_Attempts                 float64\n",
      "R__Round1_Strikes_Total Strikes_Landed                   float64\n",
      "R__Round1_TIP_Back Control Time                          float64\n",
      "R__Round1_TIP_Clinch Time                                float64\n",
      "R__Round1_TIP_Control Time                               float64\n",
      "R__Round1_TIP_Distance Time                              float64\n",
      "R__Round1_TIP_Ground Control Time                        float64\n",
      "R__Round1_TIP_Ground Time                                float64\n",
      "R__Round1_TIP_Guard Control Time                         float64\n",
      "R__Round1_TIP_Half Guard Control Time                    float64\n",
      "R__Round1_TIP_Misc. Ground Control Time                  float64\n",
      "R__Round1_TIP_Mount Control Time                         float64\n",
      "R__Round1_TIP_Neutral Time                               float64\n",
      "R__Round1_TIP_Side Control Time                          float64\n",
      "R__Round1_TIP_Standing Time                              float64\n",
      "R__Round2_Grappling_Reversals_Landed                     float64\n",
      "R__Round2_Grappling_Standups_Landed                      float64\n",
      "R__Round2_Grappling_Submissions_Attempts                 float64\n",
      "R__Round2_Grappling_Takedowns_Attempts                   float64\n",
      "R__Round2_Grappling_Takedowns_Landed                     float64\n",
      "R__Round2_Strikes_Body Significant Strikes_Attempts      float64\n",
      "R__Round2_Strikes_Body Significant Strikes_Landed        float64\n",
      "R__Round2_Strikes_Body Total Strikes_Attempts            float64\n",
      "R__Round2_Strikes_Body Total Strikes_Landed              float64\n",
      "R__Round2_Strikes_Clinch Body Strikes_Attempts           float64\n",
      "R__Round2_Strikes_Clinch Body Strikes_Landed             float64\n",
      "R__Round2_Strikes_Clinch Head Strikes_Attempts           float64\n",
      "R__Round2_Strikes_Clinch Head Strikes_Landed             float64\n",
      "R__Round2_Strikes_Clinch Leg Strikes_Attempts            float64\n",
      "R__Round2_Strikes_Clinch Leg Strikes_Landed              float64\n",
      "R__Round2_Strikes_Clinch Significant Kicks_Attempts      float64\n",
      "R__Round2_Strikes_Clinch Significant Kicks_Landed        float64\n",
      "R__Round2_Strikes_Clinch Significant Punches_Attempts    float64\n",
      "R__Round2_Strikes_Clinch Significant Punches_Landed      float64\n",
      "R__Round2_Strikes_Clinch Significant Strikes_Attempts    float64\n",
      "R__Round2_Strikes_Clinch Significant Strikes_Landed      float64\n",
      "R__Round2_Strikes_Clinch Total Strikes_Attempts          float64\n",
      "R__Round2_Strikes_Clinch Total Strikes_Landed            float64\n",
      "R__Round2_Strikes_Distance Body Kicks_Attempts           float64\n",
      "R__Round2_Strikes_Distance Body Kicks_Landed             float64\n",
      "R__Round2_Strikes_Distance Body Punches_Attempts         float64\n",
      "R__Round2_Strikes_Distance Body Punches_Landed           float64\n",
      "R__Round2_Strikes_Distance Body Strikes_Attempts         float64\n",
      "R__Round2_Strikes_Distance Body Strikes_Landed           float64\n",
      "R__Round2_Strikes_Distance Head Kicks_Attempts           float64\n",
      "R__Round2_Strikes_Distance Head Kicks_Landed             float64\n",
      "R__Round2_Strikes_Distance Head Punches_Attempts         float64\n",
      "R__Round2_Strikes_Distance Head Punches_Landed           float64\n",
      "R__Round2_Strikes_Distance Head Strikes_Attempts         float64\n",
      "R__Round2_Strikes_Distance Head Strikes_Landed           float64\n",
      "R__Round2_Strikes_Distance Leg Kicks_Attempts            float64\n",
      "R__Round2_Strikes_Distance Leg Kicks_Landed              float64\n",
      "R__Round2_Strikes_Distance Leg Strikes_Attempts          float64\n",
      "R__Round2_Strikes_Distance Leg Strikes_Landed            float64\n",
      "R__Round2_Strikes_Distance Strikes_Attempts              float64\n",
      "R__Round2_Strikes_Distance Strikes_Landed                float64\n",
      "R__Round2_Strikes_Ground Body Strikes_Attempts           float64\n",
      "R__Round2_Strikes_Ground Body Strikes_Landed             float64\n",
      "R__Round2_Strikes_Ground Head Strikes_Attempts           float64\n",
      "R__Round2_Strikes_Ground Head Strikes_Landed             float64\n",
      "R__Round2_Strikes_Ground Leg Strikes_Attempts            float64\n",
      "R__Round2_Strikes_Ground Leg Strikes_Landed              float64\n",
      "R__Round2_Strikes_Ground Significant Kicks_Attempts      float64\n",
      "R__Round2_Strikes_Ground Significant Kicks_Landed        float64\n",
      "R__Round2_Strikes_Ground Significant Punches_Attempts    float64\n",
      "R__Round2_Strikes_Ground Significant Punches_Landed      float64\n",
      "R__Round2_Strikes_Ground Significant Strikes_Attempts    float64\n",
      "R__Round2_Strikes_Ground Significant Strikes_Landed      float64\n",
      "R__Round2_Strikes_Ground Total Strikes_Attempts          float64\n",
      "R__Round2_Strikes_Ground Total Strikes_Landed            float64\n",
      "R__Round2_Strikes_Head Significant Strikes_Attempts      float64\n",
      "R__Round2_Strikes_Head Significant Strikes_Landed        float64\n",
      "R__Round2_Strikes_Head Total Strikes_Attempts            float64\n",
      "R__Round2_Strikes_Head Total Strikes_Landed              float64\n",
      "R__Round2_Strikes_Kicks_Attempts                         float64\n",
      "R__Round2_Strikes_Kicks_Landed                           float64\n",
      "R__Round2_Strikes_Knock Down_Landed                      float64\n",
      "R__Round2_Strikes_Legs Significant Strikes_Attempts      float64\n",
      "R__Round2_Strikes_Legs Significant Strikes_Landed        float64\n",
      "R__Round2_Strikes_Legs Total Strikes_Attempts            float64\n",
      "R__Round2_Strikes_Legs Total Strikes_Landed              float64\n",
      "R__Round2_Strikes_Punches_Attempts                       float64\n",
      "R__Round2_Strikes_Punches_Landed                         float64\n",
      "R__Round2_Strikes_Significant Strikes_Attempts           float64\n",
      "R__Round2_Strikes_Significant Strikes_Landed             float64\n",
      "R__Round2_Strikes_Total Strikes_Attempts                 float64\n",
      "R__Round2_Strikes_Total Strikes_Landed                   float64\n",
      "R__Round2_TIP_Back Control Time                          float64\n",
      "R__Round2_TIP_Clinch Time                                float64\n",
      "R__Round2_TIP_Control Time                               float64\n",
      "R__Round2_TIP_Distance Time                              float64\n",
      "R__Round2_TIP_Ground Control Time                        float64\n",
      "R__Round2_TIP_Ground Time                                float64\n",
      "R__Round2_TIP_Guard Control Time                         float64\n",
      "R__Round2_TIP_Half Guard Control Time                    float64\n",
      "R__Round2_TIP_Misc. Ground Control Time                  float64\n",
      "R__Round2_TIP_Mount Control Time                         float64\n",
      "R__Round2_TIP_Neutral Time                               float64\n",
      "R__Round2_TIP_Side Control Time                          float64\n",
      "R__Round2_TIP_Standing Time                              float64\n",
      "dtype: object\n"
     ]
    }
   ],
   "source": [
    "# Checking data types\n",
    "\n",
    "with pd.option_context('display.max_rows', None, 'display.max_columns', None):\n",
    "    print(X_train.dtypes)"
   ]
  },
  {
   "cell_type": "markdown",
   "id": "ee6f9e8d",
   "metadata": {
    "papermill": {
     "duration": 0.038764,
     "end_time": "2022-03-06T23:23:33.488984",
     "exception": false,
     "start_time": "2022-03-06T23:23:33.450220",
     "status": "completed"
    },
    "tags": []
   },
   "source": [
    "## 4. Modeling. Going to model the fights with three different models:\n",
    "* Random Forest Classifier model\n",
    "* Linear Regression\n",
    "* Gradient Boosting Regressor"
   ]
  },
  {
   "cell_type": "markdown",
   "id": "e29b0f69",
   "metadata": {
    "papermill": {
     "duration": 0.038279,
     "end_time": "2022-03-06T23:23:33.566282",
     "exception": false,
     "start_time": "2022-03-06T23:23:33.528003",
     "status": "completed"
    },
    "tags": []
   },
   "source": [
    "## Random Forest Classifier Model"
   ]
  },
  {
   "cell_type": "code",
   "execution_count": 22,
   "id": "5e7303bf",
   "metadata": {
    "execution": {
     "iopub.execute_input": "2022-03-06T23:23:33.650693Z",
     "iopub.status.busy": "2022-03-06T23:23:33.649674Z",
     "iopub.status.idle": "2022-03-06T23:23:34.837364Z",
     "shell.execute_reply": "2022-03-06T23:23:34.836759Z",
     "shell.execute_reply.started": "2022-03-06T22:59:46.902747Z"
    },
    "papermill": {
     "duration": 1.232493,
     "end_time": "2022-03-06T23:23:34.837518",
     "exception": false,
     "start_time": "2022-03-06T23:23:33.605025",
     "status": "completed"
    },
    "tags": []
   },
   "outputs": [
    {
     "name": "stdout",
     "output_type": "stream",
     "text": [
      "0.40789473684210525\n"
     ]
    }
   ],
   "source": [
    "from sklearn.ensemble import RandomForestClassifier\n",
    "\n",
    "rfc = RandomForestClassifier(random_state=0)\n",
    "\n",
    "rfc.fit(X_train, y_train)\n",
    "\n",
    "y_pred_rfc=rfc.predict(X_test)\n",
    "\n",
    "print(mean_absolute_error(y_test,y_pred_rfc))"
   ]
  },
  {
   "cell_type": "markdown",
   "id": "32bf41eb",
   "metadata": {
    "papermill": {
     "duration": 0.040125,
     "end_time": "2022-03-06T23:23:34.917157",
     "exception": false,
     "start_time": "2022-03-06T23:23:34.877032",
     "status": "completed"
    },
    "tags": []
   },
   "source": [
    "## Linear Regression"
   ]
  },
  {
   "cell_type": "code",
   "execution_count": 23,
   "id": "fc62a0aa",
   "metadata": {
    "execution": {
     "iopub.execute_input": "2022-03-06T23:23:35.000941Z",
     "iopub.status.busy": "2022-03-06T23:23:34.999852Z",
     "iopub.status.idle": "2022-03-06T23:23:35.088087Z",
     "shell.execute_reply": "2022-03-06T23:23:35.089163Z",
     "shell.execute_reply.started": "2022-03-06T22:59:48.007223Z"
    },
    "papermill": {
     "duration": 0.132711,
     "end_time": "2022-03-06T23:23:35.089480",
     "exception": false,
     "start_time": "2022-03-06T23:23:34.956769",
     "status": "completed"
    },
    "tags": []
   },
   "outputs": [
    {
     "name": "stdout",
     "output_type": "stream",
     "text": [
      "0.46555986578929964\n"
     ]
    }
   ],
   "source": [
    "reg = LinearRegression().fit(X_train,y_train)\n",
    "\n",
    "y_pred_reg = reg.predict(X_test)\n",
    "\n",
    "print(mean_absolute_error(y_test,y_pred_reg))"
   ]
  },
  {
   "cell_type": "markdown",
   "id": "482b2650",
   "metadata": {
    "papermill": {
     "duration": 0.041397,
     "end_time": "2022-03-06T23:23:35.241378",
     "exception": false,
     "start_time": "2022-03-06T23:23:35.199981",
     "status": "completed"
    },
    "tags": []
   },
   "source": [
    "## Gradient Boosting Regressor"
   ]
  },
  {
   "cell_type": "code",
   "execution_count": 24,
   "id": "a0d0b79c",
   "metadata": {
    "execution": {
     "iopub.execute_input": "2022-03-06T23:23:35.326795Z",
     "iopub.status.busy": "2022-03-06T23:23:35.325978Z",
     "iopub.status.idle": "2022-03-06T23:23:40.135507Z",
     "shell.execute_reply": "2022-03-06T23:23:40.136408Z",
     "shell.execute_reply.started": "2022-03-06T22:59:48.095737Z"
    },
    "papermill": {
     "duration": 4.85557,
     "end_time": "2022-03-06T23:23:40.136664",
     "exception": false,
     "start_time": "2022-03-06T23:23:35.281094",
     "status": "completed"
    },
    "tags": []
   },
   "outputs": [
    {
     "name": "stdout",
     "output_type": "stream",
     "text": [
      "0.4688291619123302\n"
     ]
    }
   ],
   "source": [
    "from sklearn.ensemble import GradientBoostingClassifier\n",
    "\n",
    "gb = GradientBoostingRegressor(random_state = 0)\n",
    "\n",
    "gb.fit(X_train, y_train)\n",
    "\n",
    "y_pred_gb = gb.predict(X_test)\n",
    "\n",
    "print(mean_absolute_error(y_test,y_pred_gb))"
   ]
  },
  {
   "cell_type": "markdown",
   "id": "55ca1a9e",
   "metadata": {
    "papermill": {
     "duration": 0.040383,
     "end_time": "2022-03-06T23:23:40.219763",
     "exception": false,
     "start_time": "2022-03-06T23:23:40.179380",
     "status": "completed"
    },
    "tags": []
   },
   "source": [
    "### The Random Forest Classifier model has the lowest mean absolute error (mean difference between predict and observed y-values.)"
   ]
  },
  {
   "cell_type": "markdown",
   "id": "07ce3e59",
   "metadata": {
    "papermill": {
     "duration": 0.040657,
     "end_time": "2022-03-06T23:23:40.302340",
     "exception": false,
     "start_time": "2022-03-06T23:23:40.261683",
     "status": "completed"
    },
    "tags": []
   },
   "source": [
    "## 5. Feature Engineering and Visualization"
   ]
  },
  {
   "cell_type": "code",
   "execution_count": null,
   "id": "df3c2b11",
   "metadata": {
    "papermill": {
     "duration": 0.039648,
     "end_time": "2022-03-06T23:23:40.384327",
     "exception": false,
     "start_time": "2022-03-06T23:23:40.344679",
     "status": "completed"
    },
    "tags": []
   },
   "outputs": [],
   "source": []
  },
  {
   "cell_type": "code",
   "execution_count": 25,
   "id": "2d3858c4",
   "metadata": {
    "execution": {
     "iopub.execute_input": "2022-03-06T23:23:40.473206Z",
     "iopub.status.busy": "2022-03-06T23:23:40.466840Z",
     "iopub.status.idle": "2022-03-06T23:23:40.801316Z",
     "shell.execute_reply": "2022-03-06T23:23:40.800816Z",
     "shell.execute_reply.started": "2022-03-06T23:16:17.981024Z"
    },
    "papermill": {
     "duration": 0.377076,
     "end_time": "2022-03-06T23:23:40.801456",
     "exception": false,
     "start_time": "2022-03-06T23:23:40.424380",
     "status": "completed"
    },
    "tags": []
   },
   "outputs": [
    {
     "data": {
      "image/png": "[encoded data removed]",
      "text/plain": [
       "<Figure size 2160x576 with 1 Axes>"
      ]
     },
     "metadata": {
      "needs_background": "light"
     },
     "output_type": "display_data"
    }
   ],
   "source": [
    "features = pd.Series(rfc.feature_importances_, index=X_train.columns).sort_values(ascending=False)\n",
    "\n",
    "feature_names = [col for col in X_train]\n",
    "feature_importance = features\n",
    "indices = np.argsort(feature_importance)[::-1]\n",
    "n=10\n",
    "idx=indices[0:n]\n",
    "\n",
    "plt.figure(figsize=(30, 8))\n",
    "plt.title(\"Feature importances\")\n",
    "plt.bar(range(n), feature_importance[idx], color=\"royalblue\", align=\"center\")\n",
    "plt.xticks(range(n), [feature_names[id] for id in idx], rotation = 45) \n",
    "plt.xlim([-1, n]) \n",
    "plt.show()\n"
   ]
  },
  {
   "cell_type": "markdown",
   "id": "8c37e1f3",
   "metadata": {
    "papermill": {
     "duration": 0.041886,
     "end_time": "2022-03-06T23:23:40.885780",
     "exception": false,
     "start_time": "2022-03-06T23:23:40.843894",
     "status": "completed"
    },
    "tags": []
   },
   "source": [
    "### Clearly no feature alone has huge explanatory power. However, the number of UFC fights a fighter had previously \"BPrev\" has the most influential predictor."
   ]
  }
 ],
 "metadata": {
  "kernelspec": {
   "display_name": "Python 3",
   "language": "python",
   "name": "python3"
  },
  "language_info": {
   "codemirror_mode": {
    "name": "ipython",
    "version": 3
   },
   "file_extension": ".py",
   "mimetype": "text/x-python",
   "name": "python",
   "nbconvert_exporter": "python",
   "pygments_lexer": "ipython3",
   "version": "3.7.12"
  },
  "papermill": {
   "default_parameters": {},
   "duration": 22.66446,
   "end_time": "2022-03-06T23:23:41.638145",
   "environment_variables": {},
   "exception": null,
   "input_path": "__notebook__.ipynb",
   "output_path": "__notebook__.ipynb",
   "parameters": {},
   "start_time": "2022-03-06T23:23:18.973685",
   "version": "2.3.3"
  }
 },
 "nbformat": 4,
 "nbformat_minor": 5
}
